{
 "cells": [
  {
   "cell_type": "code",
   "execution_count": 1,
   "id": "9c8b7bb1",
   "metadata": {},
   "outputs": [],
   "source": [
    "import findspark\n",
    "findspark.init()"
   ]
  },
  {
   "cell_type": "code",
   "execution_count": 2,
   "id": "ad63e628",
   "metadata": {
    "scrolled": true
   },
   "outputs": [
    {
     "name": "stderr",
     "output_type": "stream",
     "text": [
      "WARNING: An illegal reflective access operation has occurred\n",
      "WARNING: Illegal reflective access by org.apache.spark.unsafe.Platform (file:/opt/spark3/jars/spark-unsafe_2.12-3.0.3.jar) to constructor java.nio.DirectByteBuffer(long,int)\n",
      "WARNING: Please consider reporting this to the maintainers of org.apache.spark.unsafe.Platform\n",
      "WARNING: Use --illegal-access=warn to enable warnings of further illegal reflective access operations\n",
      "WARNING: All illegal access operations will be denied in a future release\n",
      "Ivy Default Cache set to: /home/osbdet/.ivy2/cache\n",
      "The jars for the packages stored in: /home/osbdet/.ivy2/jars\n",
      ":: loading settings :: url = jar:file:/opt/spark3/jars/ivy-2.4.0.jar!/org/apache/ivy/core/settings/ivysettings.xml\n",
      "org.apache.spark#spark-sql-kafka-0-10_2.12 added as a dependency\n",
      ":: resolving dependencies :: org.apache.spark#spark-submit-parent-9219126a-2dbd-444c-81bb-6a680bfdf69d;1.0\n",
      "\tconfs: [default]\n",
      "\tfound org.apache.spark#spark-sql-kafka-0-10_2.12;3.0.3 in central\n",
      "\tfound org.apache.spark#spark-token-provider-kafka-0-10_2.12;3.0.3 in central\n",
      "\tfound org.apache.kafka#kafka-clients;2.4.1 in central\n",
      "\tfound com.github.luben#zstd-jni;1.4.4-3 in central\n",
      "\tfound org.lz4#lz4-java;1.7.1 in central\n",
      "\tfound org.xerial.snappy#snappy-java;1.1.8.2 in central\n",
      "\tfound org.slf4j#slf4j-api;1.7.30 in central\n",
      "\tfound org.spark-project.spark#unused;1.0.0 in central\n",
      "\tfound org.apache.commons#commons-pool2;2.6.2 in central\n",
      ":: resolution report :: resolve 674ms :: artifacts dl 22ms\n",
      "\t:: modules in use:\n",
      "\tcom.github.luben#zstd-jni;1.4.4-3 from central in [default]\n",
      "\torg.apache.commons#commons-pool2;2.6.2 from central in [default]\n",
      "\torg.apache.kafka#kafka-clients;2.4.1 from central in [default]\n",
      "\torg.apache.spark#spark-sql-kafka-0-10_2.12;3.0.3 from central in [default]\n",
      "\torg.apache.spark#spark-token-provider-kafka-0-10_2.12;3.0.3 from central in [default]\n",
      "\torg.lz4#lz4-java;1.7.1 from central in [default]\n",
      "\torg.slf4j#slf4j-api;1.7.30 from central in [default]\n",
      "\torg.spark-project.spark#unused;1.0.0 from central in [default]\n",
      "\torg.xerial.snappy#snappy-java;1.1.8.2 from central in [default]\n",
      "\t---------------------------------------------------------------------\n",
      "\t|                  |            modules            ||   artifacts   |\n",
      "\t|       conf       | number| search|dwnlded|evicted|| number|dwnlded|\n",
      "\t---------------------------------------------------------------------\n",
      "\t|      default     |   9   |   0   |   0   |   0   ||   9   |   0   |\n",
      "\t---------------------------------------------------------------------\n",
      ":: retrieving :: org.apache.spark#spark-submit-parent-9219126a-2dbd-444c-81bb-6a680bfdf69d\n",
      "\tconfs: [default]\n",
      "\t0 artifacts copied, 9 already retrieved (0kB/19ms)\n",
      "Setting default log level to \"WARN\".\n",
      "To adjust logging level use sc.setLogLevel(newLevel). For SparkR, use setLogLevel(newLevel).\n"
     ]
    }
   ],
   "source": [
    "import os\n",
    "os.environ['PYSPARK_SUBMIT_ARGS'] = '--packages \"org.apache.spark:spark-sql-kafka-0-10_2.12:3.0.3\" pyspark-shell'\n",
    "\n",
    "from pyspark.context import SparkContext\n",
    "from pyspark.sql.session import SparkSession\n",
    "\n",
    "spark = (SparkSession.builder\n",
    "    .appName(\"Stocks_per_industry\")\n",
    "    .getOrCreate())"
   ]
  },
  {
   "cell_type": "markdown",
   "id": "4abbc856",
   "metadata": {},
   "source": [
    "# AIRLINE INDUSTRY"
   ]
  },
  {
   "cell_type": "markdown",
   "id": "6931f911",
   "metadata": {},
   "source": [
    "## 1. Data Cleansing"
   ]
  },
  {
   "cell_type": "code",
   "execution_count": 3,
   "id": "16cec731",
   "metadata": {},
   "outputs": [
    {
     "name": "stderr",
     "output_type": "stream",
     "text": [
      "                                                                                \r"
     ]
    },
    {
     "data": {
      "text/html": [
       "<div>\n",
       "<style scoped>\n",
       "    .dataframe tbody tr th:only-of-type {\n",
       "        vertical-align: middle;\n",
       "    }\n",
       "\n",
       "    .dataframe tbody tr th {\n",
       "        vertical-align: top;\n",
       "    }\n",
       "\n",
       "    .dataframe thead th {\n",
       "        text-align: right;\n",
       "    }\n",
       "</style>\n",
       "<table border=\"1\" class=\"dataframe\">\n",
       "  <thead>\n",
       "    <tr style=\"text-align: right;\">\n",
       "      <th></th>\n",
       "      <th>Datetime</th>\n",
       "      <th>EADSY_Close</th>\n",
       "      <th>BA_Close</th>\n",
       "    </tr>\n",
       "  </thead>\n",
       "  <tbody>\n",
       "    <tr>\n",
       "      <th>0</th>\n",
       "      <td>2022-02-28 09:30:00-05:00</td>\n",
       "      <td>31.260000</td>\n",
       "      <td>199.529999</td>\n",
       "    </tr>\n",
       "    <tr>\n",
       "      <th>1</th>\n",
       "      <td>2022-02-28 09:31:00-05:00</td>\n",
       "      <td>31.209999</td>\n",
       "      <td>198.389999</td>\n",
       "    </tr>\n",
       "    <tr>\n",
       "      <th>2</th>\n",
       "      <td>2022-02-28 09:32:00-05:00</td>\n",
       "      <td>31.150700</td>\n",
       "      <td>197.560196</td>\n",
       "    </tr>\n",
       "    <tr>\n",
       "      <th>3</th>\n",
       "      <td>2022-02-28 09:33:00-05:00</td>\n",
       "      <td>31.139999</td>\n",
       "      <td>197.699997</td>\n",
       "    </tr>\n",
       "    <tr>\n",
       "      <th>4</th>\n",
       "      <td>2022-02-28 09:34:00-05:00</td>\n",
       "      <td>31.139999</td>\n",
       "      <td>197.639999</td>\n",
       "    </tr>\n",
       "  </tbody>\n",
       "</table>\n",
       "</div>"
      ],
      "text/plain": [
       "                    Datetime  EADSY_Close    BA_Close\n",
       "0  2022-02-28 09:30:00-05:00    31.260000  199.529999\n",
       "1  2022-02-28 09:31:00-05:00    31.209999  198.389999\n",
       "2  2022-02-28 09:32:00-05:00    31.150700  197.560196\n",
       "3  2022-02-28 09:33:00-05:00    31.139999  197.699997\n",
       "4  2022-02-28 09:34:00-05:00    31.139999  197.639999"
      ]
     },
     "execution_count": 3,
     "metadata": {},
     "output_type": "execute_result"
    }
   ],
   "source": [
    "airline_df = spark.read.parquet(\"hdfs://localhost:9000/datalake/std/stocks/airline\").toPandas().ffill()\n",
    "airline_df.head(5)"
   ]
  },
  {
   "cell_type": "code",
   "execution_count": 4,
   "id": "ed50e89b",
   "metadata": {},
   "outputs": [
    {
     "data": {
      "text/html": [
       "<div>\n",
       "<style scoped>\n",
       "    .dataframe tbody tr th:only-of-type {\n",
       "        vertical-align: middle;\n",
       "    }\n",
       "\n",
       "    .dataframe tbody tr th {\n",
       "        vertical-align: top;\n",
       "    }\n",
       "\n",
       "    .dataframe thead th {\n",
       "        text-align: right;\n",
       "    }\n",
       "</style>\n",
       "<table border=\"1\" class=\"dataframe\">\n",
       "  <thead>\n",
       "    <tr style=\"text-align: right;\">\n",
       "      <th></th>\n",
       "      <th>Datetime</th>\n",
       "      <th>EADSY_Close</th>\n",
       "      <th>BA_Close</th>\n",
       "    </tr>\n",
       "  </thead>\n",
       "  <tbody>\n",
       "    <tr>\n",
       "      <th>0</th>\n",
       "      <td>2022-02-28 09:30:00-05:00</td>\n",
       "      <td>31.260000</td>\n",
       "      <td>199.529999</td>\n",
       "    </tr>\n",
       "    <tr>\n",
       "      <th>1</th>\n",
       "      <td>2022-02-28 09:31:00-05:00</td>\n",
       "      <td>31.209999</td>\n",
       "      <td>198.389999</td>\n",
       "    </tr>\n",
       "    <tr>\n",
       "      <th>2</th>\n",
       "      <td>2022-02-28 09:32:00-05:00</td>\n",
       "      <td>31.150700</td>\n",
       "      <td>197.560196</td>\n",
       "    </tr>\n",
       "    <tr>\n",
       "      <th>3</th>\n",
       "      <td>2022-02-28 09:33:00-05:00</td>\n",
       "      <td>31.139999</td>\n",
       "      <td>197.699997</td>\n",
       "    </tr>\n",
       "    <tr>\n",
       "      <th>4</th>\n",
       "      <td>2022-02-28 09:34:00-05:00</td>\n",
       "      <td>31.139999</td>\n",
       "      <td>197.639999</td>\n",
       "    </tr>\n",
       "    <tr>\n",
       "      <th>...</th>\n",
       "      <td>...</td>\n",
       "      <td>...</td>\n",
       "      <td>...</td>\n",
       "    </tr>\n",
       "    <tr>\n",
       "      <th>1165</th>\n",
       "      <td>2022-03-02 15:55:00-05:00</td>\n",
       "      <td>30.360001</td>\n",
       "      <td>198.110001</td>\n",
       "    </tr>\n",
       "    <tr>\n",
       "      <th>1166</th>\n",
       "      <td>2022-03-02 15:56:00-05:00</td>\n",
       "      <td>30.360001</td>\n",
       "      <td>197.960007</td>\n",
       "    </tr>\n",
       "    <tr>\n",
       "      <th>1167</th>\n",
       "      <td>2022-03-02 15:57:00-05:00</td>\n",
       "      <td>30.360001</td>\n",
       "      <td>197.759995</td>\n",
       "    </tr>\n",
       "    <tr>\n",
       "      <th>1168</th>\n",
       "      <td>2022-03-02 15:58:00-05:00</td>\n",
       "      <td>30.360001</td>\n",
       "      <td>197.664993</td>\n",
       "    </tr>\n",
       "    <tr>\n",
       "      <th>1169</th>\n",
       "      <td>2022-03-02 15:59:00-05:00</td>\n",
       "      <td>30.320000</td>\n",
       "      <td>197.940002</td>\n",
       "    </tr>\n",
       "  </tbody>\n",
       "</table>\n",
       "<p>1170 rows × 3 columns</p>\n",
       "</div>"
      ],
      "text/plain": [
       "                      Datetime  EADSY_Close    BA_Close\n",
       "0    2022-02-28 09:30:00-05:00    31.260000  199.529999\n",
       "1    2022-02-28 09:31:00-05:00    31.209999  198.389999\n",
       "2    2022-02-28 09:32:00-05:00    31.150700  197.560196\n",
       "3    2022-02-28 09:33:00-05:00    31.139999  197.699997\n",
       "4    2022-02-28 09:34:00-05:00    31.139999  197.639999\n",
       "...                        ...          ...         ...\n",
       "1165 2022-03-02 15:55:00-05:00    30.360001  198.110001\n",
       "1166 2022-03-02 15:56:00-05:00    30.360001  197.960007\n",
       "1167 2022-03-02 15:57:00-05:00    30.360001  197.759995\n",
       "1168 2022-03-02 15:58:00-05:00    30.360001  197.664993\n",
       "1169 2022-03-02 15:59:00-05:00    30.320000  197.940002\n",
       "\n",
       "[1170 rows x 3 columns]"
      ]
     },
     "execution_count": 4,
     "metadata": {},
     "output_type": "execute_result"
    }
   ],
   "source": [
    "import pandas as pd\n",
    "airline_df[\"Datetime\"] = pd.to_datetime(airline_df[\"Datetime\"])\n",
    "airline_df"
   ]
  },
  {
   "cell_type": "code",
   "execution_count": 5,
   "id": "4fec0461",
   "metadata": {},
   "outputs": [
    {
     "data": {
      "text/html": [
       "<div>\n",
       "<style scoped>\n",
       "    .dataframe tbody tr th:only-of-type {\n",
       "        vertical-align: middle;\n",
       "    }\n",
       "\n",
       "    .dataframe tbody tr th {\n",
       "        vertical-align: top;\n",
       "    }\n",
       "\n",
       "    .dataframe thead th {\n",
       "        text-align: right;\n",
       "    }\n",
       "</style>\n",
       "<table border=\"1\" class=\"dataframe\">\n",
       "  <thead>\n",
       "    <tr style=\"text-align: right;\">\n",
       "      <th></th>\n",
       "      <th>EADSY_Close</th>\n",
       "      <th>BA_Close</th>\n",
       "    </tr>\n",
       "    <tr>\n",
       "      <th>Datetime</th>\n",
       "      <th></th>\n",
       "      <th></th>\n",
       "    </tr>\n",
       "  </thead>\n",
       "  <tbody>\n",
       "    <tr>\n",
       "      <th>2022-02-28 09:30:00-05:00</th>\n",
       "      <td>31.260000</td>\n",
       "      <td>199.529999</td>\n",
       "    </tr>\n",
       "    <tr>\n",
       "      <th>2022-02-28 09:31:00-05:00</th>\n",
       "      <td>31.209999</td>\n",
       "      <td>198.389999</td>\n",
       "    </tr>\n",
       "    <tr>\n",
       "      <th>2022-02-28 09:32:00-05:00</th>\n",
       "      <td>31.150700</td>\n",
       "      <td>197.560196</td>\n",
       "    </tr>\n",
       "    <tr>\n",
       "      <th>2022-02-28 09:33:00-05:00</th>\n",
       "      <td>31.139999</td>\n",
       "      <td>197.699997</td>\n",
       "    </tr>\n",
       "    <tr>\n",
       "      <th>2022-02-28 09:34:00-05:00</th>\n",
       "      <td>31.139999</td>\n",
       "      <td>197.639999</td>\n",
       "    </tr>\n",
       "  </tbody>\n",
       "</table>\n",
       "</div>"
      ],
      "text/plain": [
       "                           EADSY_Close    BA_Close\n",
       "Datetime                                          \n",
       "2022-02-28 09:30:00-05:00    31.260000  199.529999\n",
       "2022-02-28 09:31:00-05:00    31.209999  198.389999\n",
       "2022-02-28 09:32:00-05:00    31.150700  197.560196\n",
       "2022-02-28 09:33:00-05:00    31.139999  197.699997\n",
       "2022-02-28 09:34:00-05:00    31.139999  197.639999"
      ]
     },
     "execution_count": 5,
     "metadata": {},
     "output_type": "execute_result"
    }
   ],
   "source": [
    "airline_df = airline_df.set_index(\"Datetime\")\n",
    "airline_df.head(5)"
   ]
  },
  {
   "cell_type": "markdown",
   "id": "716d90d5",
   "metadata": {},
   "source": [
    "## 2. Featuring Engineering"
   ]
  },
  {
   "cell_type": "code",
   "execution_count": 6,
   "id": "32353311",
   "metadata": {},
   "outputs": [
    {
     "data": {
      "text/html": [
       "<div>\n",
       "<style scoped>\n",
       "    .dataframe tbody tr th:only-of-type {\n",
       "        vertical-align: middle;\n",
       "    }\n",
       "\n",
       "    .dataframe tbody tr th {\n",
       "        vertical-align: top;\n",
       "    }\n",
       "\n",
       "    .dataframe thead th {\n",
       "        text-align: right;\n",
       "    }\n",
       "</style>\n",
       "<table border=\"1\" class=\"dataframe\">\n",
       "  <thead>\n",
       "    <tr style=\"text-align: right;\">\n",
       "      <th></th>\n",
       "      <th>EADSY_Close</th>\n",
       "      <th>BA_Close</th>\n",
       "      <th>airline_value</th>\n",
       "    </tr>\n",
       "    <tr>\n",
       "      <th>Datetime</th>\n",
       "      <th></th>\n",
       "      <th></th>\n",
       "      <th></th>\n",
       "    </tr>\n",
       "  </thead>\n",
       "  <tbody>\n",
       "    <tr>\n",
       "      <th>2022-02-28 09:30:00-05:00</th>\n",
       "      <td>31.26</td>\n",
       "      <td>199.529999</td>\n",
       "      <td>115.395</td>\n",
       "    </tr>\n",
       "  </tbody>\n",
       "</table>\n",
       "</div>"
      ],
      "text/plain": [
       "                           EADSY_Close    BA_Close  airline_value\n",
       "Datetime                                                         \n",
       "2022-02-28 09:30:00-05:00        31.26  199.529999        115.395"
      ]
     },
     "execution_count": 6,
     "metadata": {},
     "output_type": "execute_result"
    }
   ],
   "source": [
    "airline_df[\"airline_value\"] = airline_df.apply(lambda row: (row.EADSY_Close + row.BA_Close)/2, axis=1)\n",
    "airline_df.head(1)"
   ]
  },
  {
   "cell_type": "code",
   "execution_count": 7,
   "id": "f9f9845b",
   "metadata": {},
   "outputs": [],
   "source": [
    "lags = [1,2,3]\n",
    "\n",
    "for lag in lags:\n",
    "    airline_df[f\"airline_value_{lag}\"] = airline_df[\"airline_value\"].shift(lag)"
   ]
  },
  {
   "cell_type": "markdown",
   "id": "ecc92d3b",
   "metadata": {},
   "source": [
    "We select the rows starting from the third one to get rid of the NaNs. "
   ]
  },
  {
   "cell_type": "code",
   "execution_count": 8,
   "id": "b360ec4f",
   "metadata": {},
   "outputs": [],
   "source": [
    "airline_df = airline_df.iloc[3:, :]"
   ]
  },
  {
   "cell_type": "markdown",
   "id": "158c08bb",
   "metadata": {},
   "source": [
    "We calculate the slopes to see the changes on the stocks, first looking backwards and the last one, on one minute ahead."
   ]
  },
  {
   "cell_type": "code",
   "execution_count": 9,
   "id": "52ebf188",
   "metadata": {
    "scrolled": true
   },
   "outputs": [],
   "source": [
    "airline_df[\"slope_x1\"] = (airline_df[\"airline_value\"] - airline_df[\"airline_value_1\"]) / airline_df[\"airline_value_1\"]\n",
    "airline_df[\"slope_x2\"] = (airline_df[\"airline_value_1\"] - airline_df[\"airline_value_2\"]) / airline_df[\"airline_value_2\"]\n",
    "airline_df[\"slope_x3\"] = (airline_df[\"airline_value_2\"] - airline_df[\"airline_value_3\"]) / airline_df[\"airline_value_3\"]\n",
    "airline_df[\"airline_value_t+1\"] = airline_df[\"airline_value\"].shift(-1)"
   ]
  },
  {
   "cell_type": "markdown",
   "id": "20759761",
   "metadata": {},
   "source": [
    "Again, we eliminate the NaNs from the last row as we shifted for the last row. "
   ]
  },
  {
   "cell_type": "code",
   "execution_count": 10,
   "id": "45c4bb3d",
   "metadata": {
    "scrolled": true
   },
   "outputs": [],
   "source": [
    "airline_df = airline_df.iloc[:-1, :]"
   ]
  },
  {
   "cell_type": "markdown",
   "id": "71adf185",
   "metadata": {},
   "source": [
    "We create a dummy variable for the target variable. "
   ]
  },
  {
   "cell_type": "code",
   "execution_count": 11,
   "id": "9f33297d",
   "metadata": {},
   "outputs": [],
   "source": [
    "import numpy as np\n",
    "airline_df[\"buy_sell_decision\"] = np.where(airline_df[\"airline_value_t+1\"] > airline_df[\"airline_value\"], 1, 0)"
   ]
  },
  {
   "cell_type": "code",
   "execution_count": 12,
   "id": "6724d3a0",
   "metadata": {},
   "outputs": [
    {
     "data": {
      "text/html": [
       "<div>\n",
       "<style scoped>\n",
       "    .dataframe tbody tr th:only-of-type {\n",
       "        vertical-align: middle;\n",
       "    }\n",
       "\n",
       "    .dataframe tbody tr th {\n",
       "        vertical-align: top;\n",
       "    }\n",
       "\n",
       "    .dataframe thead th {\n",
       "        text-align: right;\n",
       "    }\n",
       "</style>\n",
       "<table border=\"1\" class=\"dataframe\">\n",
       "  <thead>\n",
       "    <tr style=\"text-align: right;\">\n",
       "      <th></th>\n",
       "      <th>Datetime</th>\n",
       "      <th>EADSY_Close</th>\n",
       "      <th>BA_Close</th>\n",
       "      <th>airline_value</th>\n",
       "      <th>airline_value_1</th>\n",
       "      <th>airline_value_2</th>\n",
       "      <th>airline_value_3</th>\n",
       "      <th>slope_x1</th>\n",
       "      <th>slope_x2</th>\n",
       "      <th>slope_x3</th>\n",
       "      <th>airline_value_t+1</th>\n",
       "      <th>buy_sell_decision</th>\n",
       "      <th>date</th>\n",
       "    </tr>\n",
       "  </thead>\n",
       "  <tbody>\n",
       "    <tr>\n",
       "      <th>0</th>\n",
       "      <td>2022-02-28 09:33:00-05:00</td>\n",
       "      <td>31.139999</td>\n",
       "      <td>197.699997</td>\n",
       "      <td>114.419998</td>\n",
       "      <td>114.355448</td>\n",
       "      <td>114.799999</td>\n",
       "      <td>115.395</td>\n",
       "      <td>0.000564</td>\n",
       "      <td>-0.003872</td>\n",
       "      <td>-0.005156</td>\n",
       "      <td>114.389999</td>\n",
       "      <td>0</td>\n",
       "      <td>2022-02-28</td>\n",
       "    </tr>\n",
       "  </tbody>\n",
       "</table>\n",
       "</div>"
      ],
      "text/plain": [
       "                   Datetime  EADSY_Close    BA_Close  airline_value  \\\n",
       "0 2022-02-28 09:33:00-05:00    31.139999  197.699997     114.419998   \n",
       "\n",
       "   airline_value_1  airline_value_2  airline_value_3  slope_x1  slope_x2  \\\n",
       "0       114.355448       114.799999          115.395  0.000564 -0.003872   \n",
       "\n",
       "   slope_x3  airline_value_t+1  buy_sell_decision        date  \n",
       "0 -0.005156         114.389999                  0  2022-02-28  "
      ]
     },
     "execution_count": 12,
     "metadata": {},
     "output_type": "execute_result"
    }
   ],
   "source": [
    "from datetime import datetime\n",
    "\n",
    "airline_df = airline_df.reset_index()\n",
    "airline_df[\"date\"] = airline_df[\"Datetime\"].apply(datetime.date)\n",
    "airline_df.head(1)"
   ]
  },
  {
   "cell_type": "markdown",
   "id": "09c7a4d9",
   "metadata": {},
   "source": [
    "### 2.1 Feature selection"
   ]
  },
  {
   "cell_type": "code",
   "execution_count": 13,
   "id": "e491c85a",
   "metadata": {},
   "outputs": [],
   "source": [
    "airline_df = airline_df[[\"slope_x1\", \"slope_x2\", \"slope_x3\", \"buy_sell_decision\"]]"
   ]
  },
  {
   "cell_type": "markdown",
   "id": "b0ed6758",
   "metadata": {},
   "source": [
    "We dump this new dataset with the columns selected above to further work with the algorithm."
   ]
  },
  {
   "cell_type": "code",
   "execution_count": 14,
   "id": "d75afdf4",
   "metadata": {},
   "outputs": [],
   "source": [
    "airline_df.to_csv(r'clean_airline.csv')"
   ]
  },
  {
   "cell_type": "markdown",
   "id": "d21b3159",
   "metadata": {},
   "source": [
    "### 2.2 Feature Transformation"
   ]
  },
  {
   "cell_type": "code",
   "execution_count": 15,
   "id": "fd8d9486",
   "metadata": {},
   "outputs": [
    {
     "data": {
      "text/html": [
       "<div>\n",
       "<style scoped>\n",
       "    .dataframe tbody tr th:only-of-type {\n",
       "        vertical-align: middle;\n",
       "    }\n",
       "\n",
       "    .dataframe tbody tr th {\n",
       "        vertical-align: top;\n",
       "    }\n",
       "\n",
       "    .dataframe thead th {\n",
       "        text-align: right;\n",
       "    }\n",
       "</style>\n",
       "<table border=\"1\" class=\"dataframe\">\n",
       "  <thead>\n",
       "    <tr style=\"text-align: right;\">\n",
       "      <th></th>\n",
       "      <th>_c0</th>\n",
       "      <th>slope_x1</th>\n",
       "      <th>slope_x2</th>\n",
       "      <th>slope_x3</th>\n",
       "      <th>buy_sell_decision</th>\n",
       "    </tr>\n",
       "  </thead>\n",
       "  <tbody>\n",
       "    <tr>\n",
       "      <th>0</th>\n",
       "      <td>0</td>\n",
       "      <td>0.000564</td>\n",
       "      <td>-0.003872</td>\n",
       "      <td>-0.005156</td>\n",
       "      <td>0</td>\n",
       "    </tr>\n",
       "    <tr>\n",
       "      <th>1</th>\n",
       "      <td>1</td>\n",
       "      <td>-0.000262</td>\n",
       "      <td>0.000564</td>\n",
       "      <td>-0.003872</td>\n",
       "      <td>0</td>\n",
       "    </tr>\n",
       "    <tr>\n",
       "      <th>2</th>\n",
       "      <td>2</td>\n",
       "      <td>-0.000699</td>\n",
       "      <td>-0.000262</td>\n",
       "      <td>0.000564</td>\n",
       "      <td>1</td>\n",
       "    </tr>\n",
       "    <tr>\n",
       "      <th>3</th>\n",
       "      <td>3</td>\n",
       "      <td>0.001094</td>\n",
       "      <td>-0.000699</td>\n",
       "      <td>-0.000262</td>\n",
       "      <td>0</td>\n",
       "    </tr>\n",
       "    <tr>\n",
       "      <th>4</th>\n",
       "      <td>4</td>\n",
       "      <td>-0.002010</td>\n",
       "      <td>0.001094</td>\n",
       "      <td>-0.000699</td>\n",
       "      <td>1</td>\n",
       "    </tr>\n",
       "  </tbody>\n",
       "</table>\n",
       "</div>"
      ],
      "text/plain": [
       "   _c0  slope_x1  slope_x2  slope_x3  buy_sell_decision\n",
       "0    0  0.000564 -0.003872 -0.005156                  0\n",
       "1    1 -0.000262  0.000564 -0.003872                  0\n",
       "2    2 -0.000699 -0.000262  0.000564                  1\n",
       "3    3  0.001094 -0.000699 -0.000262                  0\n",
       "4    4 -0.002010  0.001094 -0.000699                  1"
      ]
     },
     "execution_count": 15,
     "metadata": {},
     "output_type": "execute_result"
    }
   ],
   "source": [
    "airline_clean_df = spark.read.parquet(\"hdfs://localhost:9000/datalake/std/stocks/clean_airline_csv\")\n",
    "airline_clean_df.limit(5).toPandas()"
   ]
  },
  {
   "cell_type": "code",
   "execution_count": 16,
   "id": "3951c3cc",
   "metadata": {},
   "outputs": [
    {
     "name": "stdout",
     "output_type": "stream",
     "text": [
      "root\n",
      " |-- _c0: integer (nullable = true)\n",
      " |-- slope_x1: double (nullable = true)\n",
      " |-- slope_x2: double (nullable = true)\n",
      " |-- slope_x3: double (nullable = true)\n",
      " |-- buy_sell_decision: integer (nullable = true)\n",
      "\n"
     ]
    }
   ],
   "source": [
    "airline_clean_df.printSchema()"
   ]
  },
  {
   "cell_type": "code",
   "execution_count": 17,
   "id": "a2efe1d6",
   "metadata": {},
   "outputs": [],
   "source": [
    "airline_clean_df = airline_clean_df.withColumn(\"slope_x1\",airline_clean_df.slope_x1.cast('double'))\n",
    "airline_clean_df =airline_clean_df.withColumn(\"slope_x2\",airline_clean_df.slope_x2.cast('double'))\n",
    "airline_clean_df =airline_clean_df.withColumn(\"slope_x3\",airline_clean_df.slope_x3.cast('double'))"
   ]
  },
  {
   "cell_type": "code",
   "execution_count": 18,
   "id": "562a3b76",
   "metadata": {},
   "outputs": [],
   "source": [
    "airline_clean_df = airline_clean_df.drop(\"_c0\")\n",
    "airline_clean_df =airline_clean_df.withColumn(\"buy_sell_decision\",airline_clean_df.buy_sell_decision.cast('int'))"
   ]
  },
  {
   "cell_type": "code",
   "execution_count": 19,
   "id": "aeb811fa",
   "metadata": {},
   "outputs": [
    {
     "name": "stdout",
     "output_type": "stream",
     "text": [
      "root\n",
      " |-- slope_x1: double (nullable = true)\n",
      " |-- slope_x2: double (nullable = true)\n",
      " |-- slope_x3: double (nullable = true)\n",
      " |-- buy_sell_decision: integer (nullable = true)\n",
      "\n"
     ]
    }
   ],
   "source": [
    "airline_clean_df.printSchema()"
   ]
  },
  {
   "cell_type": "code",
   "execution_count": 20,
   "id": "1af3dbdf",
   "metadata": {},
   "outputs": [
    {
     "name": "stdout",
     "output_type": "stream",
     "text": [
      "Feature columns:  ['slope_x1', 'slope_x2', 'slope_x3']\n"
     ]
    }
   ],
   "source": [
    "from pyspark.ml.feature import StringIndexer\n",
    "\n",
    "label_colum = \"buy_sell_decision\"\n",
    "\n",
    "numericCols = [field for (field, dataType) in airline_clean_df.dtypes if ((dataType == \"double\") & (field != \"buy_sell_decision\"))]\n",
    "\n",
    "assemblerInputs = numericCols\n",
    "print(\"Feature columns: \",assemblerInputs)"
   ]
  },
  {
   "cell_type": "code",
   "execution_count": 21,
   "id": "c3882207",
   "metadata": {},
   "outputs": [],
   "source": [
    "from pyspark.ml import Pipeline\n",
    "from pyspark.ml.feature import VectorAssembler\n",
    "from pyspark.ml.feature import OneHotEncoder, StringIndexer\n",
    "\n",
    "vecAssembler = VectorAssembler(inputCols=assemblerInputs, outputCol=\"features\")\n",
    "\n",
    "test_pipeline = Pipeline(stages = [vecAssembler])\n",
    "\n",
    "features_df = test_pipeline.fit(airline_clean_df).transform(airline_clean_df)\n"
   ]
  },
  {
   "cell_type": "code",
   "execution_count": 22,
   "id": "d7d90fb7",
   "metadata": {},
   "outputs": [
    {
     "data": {
      "text/html": [
       "<div>\n",
       "<style scoped>\n",
       "    .dataframe tbody tr th:only-of-type {\n",
       "        vertical-align: middle;\n",
       "    }\n",
       "\n",
       "    .dataframe tbody tr th {\n",
       "        vertical-align: top;\n",
       "    }\n",
       "\n",
       "    .dataframe thead th {\n",
       "        text-align: right;\n",
       "    }\n",
       "</style>\n",
       "<table border=\"1\" class=\"dataframe\">\n",
       "  <thead>\n",
       "    <tr style=\"text-align: right;\">\n",
       "      <th></th>\n",
       "      <th>slope_x1</th>\n",
       "      <th>slope_x2</th>\n",
       "      <th>slope_x3</th>\n",
       "      <th>buy_sell_decision</th>\n",
       "      <th>features</th>\n",
       "    </tr>\n",
       "  </thead>\n",
       "  <tbody>\n",
       "    <tr>\n",
       "      <th>0</th>\n",
       "      <td>0.000564</td>\n",
       "      <td>-0.003872</td>\n",
       "      <td>-0.005156</td>\n",
       "      <td>0</td>\n",
       "      <td>[0.0005644715755962341, -0.0038723995718633643...</td>\n",
       "    </tr>\n",
       "    <tr>\n",
       "      <th>1</th>\n",
       "      <td>-0.000262</td>\n",
       "      <td>0.000564</td>\n",
       "      <td>-0.003872</td>\n",
       "      <td>0</td>\n",
       "      <td>[-0.0002621812600676737, 0.0005644715755962341...</td>\n",
       "    </tr>\n",
       "  </tbody>\n",
       "</table>\n",
       "</div>"
      ],
      "text/plain": [
       "   slope_x1  slope_x2  slope_x3  buy_sell_decision  \\\n",
       "0  0.000564 -0.003872 -0.005156                  0   \n",
       "1 -0.000262  0.000564 -0.003872                  0   \n",
       "\n",
       "                                            features  \n",
       "0  [0.0005644715755962341, -0.0038723995718633643...  \n",
       "1  [-0.0002621812600676737, 0.0005644715755962341...  "
      ]
     },
     "execution_count": 22,
     "metadata": {},
     "output_type": "execute_result"
    }
   ],
   "source": [
    "features_df.limit(2).toPandas()"
   ]
  },
  {
   "cell_type": "markdown",
   "id": "35fddcc1",
   "metadata": {},
   "source": [
    "## 3. Model Training"
   ]
  },
  {
   "cell_type": "code",
   "execution_count": 23,
   "id": "87d903e9",
   "metadata": {},
   "outputs": [],
   "source": [
    "from pyspark.ml.classification import LogisticRegression\n",
    "from pyspark.ml.classification import DecisionTreeClassifier\n",
    "from pyspark.ml.classification import RandomForestClassifier\n",
    "from pyspark.ml.classification import GBTClassifier\n",
    "\n",
    "seed = 42\n",
    "lr = LogisticRegression(labelCol=\"buy_sell_decision\", featuresCol=\"features\")\n",
    "dt = DecisionTreeClassifier(labelCol=\"buy_sell_decision\", featuresCol=\"features\",seed=seed)\n",
    "rf = RandomForestClassifier(labelCol=\"buy_sell_decision\", featuresCol=\"features\",maxDepth=10,seed=seed)\n",
    "gbt = GBTClassifier(labelCol=\"buy_sell_decision\", featuresCol=\"features\",maxIter=10,seed=seed)\n",
    "\n",
    "classifiers = [lr,dt,rf,gbt]"
   ]
  },
  {
   "cell_type": "code",
   "execution_count": 24,
   "id": "25e6adae",
   "metadata": {},
   "outputs": [],
   "source": [
    "from pyspark.ml import Pipeline\n",
    "\n",
    "def create_pipeline(classifier):\n",
    "    return Pipeline(stages = [vecAssembler, classifier])\n",
    "\n",
    "pipelines = [create_pipeline(classifier) for classifier in classifiers]"
   ]
  },
  {
   "cell_type": "markdown",
   "id": "a4beb954",
   "metadata": {},
   "source": [
    "## 4. Model Evaluation"
   ]
  },
  {
   "cell_type": "code",
   "execution_count": 25,
   "id": "cd461878",
   "metadata": {},
   "outputs": [],
   "source": [
    "from pyspark.ml.evaluation import MulticlassClassificationEvaluator\n",
    "\n",
    "evaluator = MulticlassClassificationEvaluator(labelCol=\"buy_sell_decision\",  metricName=\"accuracy\")"
   ]
  },
  {
   "cell_type": "markdown",
   "id": "42d8788e",
   "metadata": {},
   "source": [
    "## 5. Model Selection"
   ]
  },
  {
   "cell_type": "code",
   "execution_count": 26,
   "id": "79721071",
   "metadata": {},
   "outputs": [],
   "source": [
    "seed = 42\n",
    "\n",
    "(x_train, x_test) = airline_clean_df.randomSplit([0.8,0.2],seed=seed)"
   ]
  },
  {
   "cell_type": "code",
   "execution_count": 27,
   "id": "c71e0e2a",
   "metadata": {},
   "outputs": [
    {
     "data": {
      "text/html": [
       "<div>\n",
       "<style scoped>\n",
       "    .dataframe tbody tr th:only-of-type {\n",
       "        vertical-align: middle;\n",
       "    }\n",
       "\n",
       "    .dataframe tbody tr th {\n",
       "        vertical-align: top;\n",
       "    }\n",
       "\n",
       "    .dataframe thead th {\n",
       "        text-align: right;\n",
       "    }\n",
       "</style>\n",
       "<table border=\"1\" class=\"dataframe\">\n",
       "  <thead>\n",
       "    <tr style=\"text-align: right;\">\n",
       "      <th></th>\n",
       "      <th>slope_x1</th>\n",
       "      <th>slope_x2</th>\n",
       "      <th>slope_x3</th>\n",
       "      <th>buy_sell_decision</th>\n",
       "    </tr>\n",
       "  </thead>\n",
       "  <tbody>\n",
       "    <tr>\n",
       "      <th>0</th>\n",
       "      <td>-0.016960</td>\n",
       "      <td>0.000169</td>\n",
       "      <td>0.000760</td>\n",
       "      <td>0</td>\n",
       "    </tr>\n",
       "    <tr>\n",
       "      <th>1</th>\n",
       "      <td>-0.005003</td>\n",
       "      <td>0.002040</td>\n",
       "      <td>0.001017</td>\n",
       "      <td>1</td>\n",
       "    </tr>\n",
       "  </tbody>\n",
       "</table>\n",
       "</div>"
      ],
      "text/plain": [
       "   slope_x1  slope_x2  slope_x3  buy_sell_decision\n",
       "0 -0.016960  0.000169  0.000760                  0\n",
       "1 -0.005003  0.002040  0.001017                  1"
      ]
     },
     "execution_count": 27,
     "metadata": {},
     "output_type": "execute_result"
    }
   ],
   "source": [
    "x_train.toPandas().head(2)"
   ]
  },
  {
   "cell_type": "code",
   "execution_count": 28,
   "id": "679c7f7d",
   "metadata": {},
   "outputs": [
    {
     "data": {
      "text/plain": [
       "[PipelineModel_09eeea85eed6,\n",
       " PipelineModel_dc531317fbac,\n",
       " PipelineModel_9384a4ef9c3e,\n",
       " PipelineModel_3cc806c6006d]"
      ]
     },
     "execution_count": 28,
     "metadata": {},
     "output_type": "execute_result"
    }
   ],
   "source": [
    "models = [pipeline.fit(x_train) for pipeline in pipelines]\n",
    "models"
   ]
  },
  {
   "cell_type": "code",
   "execution_count": 29,
   "id": "a879dae5",
   "metadata": {},
   "outputs": [
    {
     "data": {
      "text/html": [
       "<div>\n",
       "<style scoped>\n",
       "    .dataframe tbody tr th:only-of-type {\n",
       "        vertical-align: middle;\n",
       "    }\n",
       "\n",
       "    .dataframe tbody tr th {\n",
       "        vertical-align: top;\n",
       "    }\n",
       "\n",
       "    .dataframe thead th {\n",
       "        text-align: right;\n",
       "    }\n",
       "</style>\n",
       "<table border=\"1\" class=\"dataframe\">\n",
       "  <thead>\n",
       "    <tr style=\"text-align: right;\">\n",
       "      <th></th>\n",
       "      <th>name</th>\n",
       "      <th>accuracy</th>\n",
       "      <th>model</th>\n",
       "    </tr>\n",
       "  </thead>\n",
       "  <tbody>\n",
       "    <tr>\n",
       "      <th>2</th>\n",
       "      <td>RandomForestClassificationModel</td>\n",
       "      <td>0.492683</td>\n",
       "      <td>PipelineModel_9384a4ef9c3e</td>\n",
       "    </tr>\n",
       "    <tr>\n",
       "      <th>1</th>\n",
       "      <td>DecisionTreeClassificationModel</td>\n",
       "      <td>0.458537</td>\n",
       "      <td>PipelineModel_dc531317fbac</td>\n",
       "    </tr>\n",
       "    <tr>\n",
       "      <th>3</th>\n",
       "      <td>GBTClassificationModel</td>\n",
       "      <td>0.458537</td>\n",
       "      <td>PipelineModel_3cc806c6006d</td>\n",
       "    </tr>\n",
       "    <tr>\n",
       "      <th>0</th>\n",
       "      <td>LogisticRegressionModel</td>\n",
       "      <td>0.448780</td>\n",
       "      <td>PipelineModel_09eeea85eed6</td>\n",
       "    </tr>\n",
       "  </tbody>\n",
       "</table>\n",
       "</div>"
      ],
      "text/plain": [
       "                              name  accuracy                       model\n",
       "2  RandomForestClassificationModel  0.492683  PipelineModel_9384a4ef9c3e\n",
       "1  DecisionTreeClassificationModel  0.458537  PipelineModel_dc531317fbac\n",
       "3           GBTClassificationModel  0.458537  PipelineModel_3cc806c6006d\n",
       "0          LogisticRegressionModel  0.448780  PipelineModel_09eeea85eed6"
      ]
     },
     "execution_count": 29,
     "metadata": {},
     "output_type": "execute_result"
    }
   ],
   "source": [
    "import pandas as pd\n",
    "names = []\n",
    "values = [] \n",
    "\n",
    "for model in models:\n",
    "    prediction_df = model.transform(x_test)\n",
    "    accuracy = evaluator.evaluate(prediction_df)\n",
    "    names.append(type(model.stages[-1]).__name__) # the algorithm is the last stage in the pipeline\n",
    "    values.append(accuracy)\n",
    "\n",
    "data = {'name':names,'accuracy':values,'model':models}\n",
    "df = pd.DataFrame(data)\n",
    "df.sort_values(by=['accuracy'], inplace=True, ascending=False)  \n",
    "df"
   ]
  },
  {
   "cell_type": "code",
   "execution_count": 30,
   "id": "1e469f6e",
   "metadata": {},
   "outputs": [],
   "source": [
    "best_model=df.iloc[0]['model']"
   ]
  },
  {
   "cell_type": "code",
   "execution_count": 31,
   "id": "eade15d2",
   "metadata": {},
   "outputs": [
    {
     "name": "stderr",
     "output_type": "stream",
     "text": [
      "                                                                                \r"
     ]
    },
    {
     "data": {
      "text/html": [
       "<div>\n",
       "<style scoped>\n",
       "    .dataframe tbody tr th:only-of-type {\n",
       "        vertical-align: middle;\n",
       "    }\n",
       "\n",
       "    .dataframe tbody tr th {\n",
       "        vertical-align: top;\n",
       "    }\n",
       "\n",
       "    .dataframe thead th {\n",
       "        text-align: right;\n",
       "    }\n",
       "</style>\n",
       "<table border=\"1\" class=\"dataframe\">\n",
       "  <thead>\n",
       "    <tr style=\"text-align: right;\">\n",
       "      <th></th>\n",
       "      <th>buy_sell_decision</th>\n",
       "      <th>0.0</th>\n",
       "      <th>1.0</th>\n",
       "    </tr>\n",
       "  </thead>\n",
       "  <tbody>\n",
       "    <tr>\n",
       "      <th>0</th>\n",
       "      <td>1</td>\n",
       "      <td>67</td>\n",
       "      <td>46</td>\n",
       "    </tr>\n",
       "    <tr>\n",
       "      <th>1</th>\n",
       "      <td>0</td>\n",
       "      <td>55</td>\n",
       "      <td>37</td>\n",
       "    </tr>\n",
       "  </tbody>\n",
       "</table>\n",
       "</div>"
      ],
      "text/plain": [
       "   buy_sell_decision  0.0  1.0\n",
       "0                  1   67   46\n",
       "1                  0   55   37"
      ]
     },
     "execution_count": 31,
     "metadata": {},
     "output_type": "execute_result"
    }
   ],
   "source": [
    "best_model.transform(x_test).groupby(\"buy_sell_decision\").pivot(\"prediction\").count().toPandas()"
   ]
  },
  {
   "cell_type": "markdown",
   "id": "99b83d5c",
   "metadata": {},
   "source": [
    "## 6. Model Persistence"
   ]
  },
  {
   "cell_type": "code",
   "execution_count": 32,
   "id": "29ed7af1",
   "metadata": {},
   "outputs": [
    {
     "name": "stderr",
     "output_type": "stream",
     "text": [
      "                                                                                \r"
     ]
    }
   ],
   "source": [
    "modelPath = \"hdfs://localhost:9000/model-registry/airline-stocks-classifier\"\n",
    "best_model.write().overwrite().save(modelPath)"
   ]
  },
  {
   "cell_type": "markdown",
   "id": "c886f2b9",
   "metadata": {},
   "source": [
    "## 7. Model Loading"
   ]
  },
  {
   "cell_type": "code",
   "execution_count": 33,
   "id": "81177e3c",
   "metadata": {},
   "outputs": [],
   "source": [
    "from pyspark.ml import PipelineModel\n",
    "savedModel = PipelineModel.load(modelPath)"
   ]
  },
  {
   "cell_type": "code",
   "execution_count": 34,
   "id": "2584f1d5",
   "metadata": {},
   "outputs": [
    {
     "data": {
      "text/html": [
       "<div>\n",
       "<style scoped>\n",
       "    .dataframe tbody tr th:only-of-type {\n",
       "        vertical-align: middle;\n",
       "    }\n",
       "\n",
       "    .dataframe tbody tr th {\n",
       "        vertical-align: top;\n",
       "    }\n",
       "\n",
       "    .dataframe thead th {\n",
       "        text-align: right;\n",
       "    }\n",
       "</style>\n",
       "<table border=\"1\" class=\"dataframe\">\n",
       "  <thead>\n",
       "    <tr style=\"text-align: right;\">\n",
       "      <th></th>\n",
       "      <th>slope_x1</th>\n",
       "      <th>slope_x2</th>\n",
       "      <th>slope_x3</th>\n",
       "      <th>buy_sell_decision</th>\n",
       "      <th>features</th>\n",
       "      <th>rawPrediction</th>\n",
       "      <th>probability</th>\n",
       "      <th>prediction</th>\n",
       "    </tr>\n",
       "  </thead>\n",
       "  <tbody>\n",
       "    <tr>\n",
       "      <th>0</th>\n",
       "      <td>-0.004429</td>\n",
       "      <td>-0.000290</td>\n",
       "      <td>-0.016960</td>\n",
       "      <td>0</td>\n",
       "      <td>[-0.0044293937891949605, -0.000290166484739615...</td>\n",
       "      <td>[13.14603327706776, 6.85396672293224]</td>\n",
       "      <td>[0.657301663853388, 0.342698336146612]</td>\n",
       "      <td>0.0</td>\n",
       "    </tr>\n",
       "    <tr>\n",
       "      <th>1</th>\n",
       "      <td>-0.003087</td>\n",
       "      <td>-0.001494</td>\n",
       "      <td>-0.000518</td>\n",
       "      <td>0</td>\n",
       "      <td>[-0.0030869997771073745, -0.001493732918087307...</td>\n",
       "      <td>[5.274330113276982, 14.725669886723017]</td>\n",
       "      <td>[0.26371650566384913, 0.7362834943361508]</td>\n",
       "      <td>1.0</td>\n",
       "    </tr>\n",
       "    <tr>\n",
       "      <th>2</th>\n",
       "      <td>-0.002993</td>\n",
       "      <td>-0.002036</td>\n",
       "      <td>-0.000852</td>\n",
       "      <td>0</td>\n",
       "      <td>[-0.0029931920770331763, -0.002035685038958559...</td>\n",
       "      <td>[2.4512463343108504, 17.548753665689148]</td>\n",
       "      <td>[0.12256231671554252, 0.8774376832844574]</td>\n",
       "      <td>1.0</td>\n",
       "    </tr>\n",
       "    <tr>\n",
       "      <th>3</th>\n",
       "      <td>-0.002852</td>\n",
       "      <td>-0.002939</td>\n",
       "      <td>0.000095</td>\n",
       "      <td>0</td>\n",
       "      <td>[-0.0028520831991036147, -0.002939033246046851...</td>\n",
       "      <td>[16.71754680386394, 3.2824531961360606]</td>\n",
       "      <td>[0.8358773401931969, 0.16412265980680302]</td>\n",
       "      <td>0.0</td>\n",
       "    </tr>\n",
       "    <tr>\n",
       "      <th>4</th>\n",
       "      <td>-0.002485</td>\n",
       "      <td>-0.000610</td>\n",
       "      <td>0.000829</td>\n",
       "      <td>1</td>\n",
       "      <td>[-0.0024852426475081056, -0.000609745002131335...</td>\n",
       "      <td>[8.57965922965923, 11.420340770340768]</td>\n",
       "      <td>[0.4289829614829615, 0.5710170385170384]</td>\n",
       "      <td>1.0</td>\n",
       "    </tr>\n",
       "  </tbody>\n",
       "</table>\n",
       "</div>"
      ],
      "text/plain": [
       "   slope_x1  slope_x2  slope_x3  buy_sell_decision  \\\n",
       "0 -0.004429 -0.000290 -0.016960                  0   \n",
       "1 -0.003087 -0.001494 -0.000518                  0   \n",
       "2 -0.002993 -0.002036 -0.000852                  0   \n",
       "3 -0.002852 -0.002939  0.000095                  0   \n",
       "4 -0.002485 -0.000610  0.000829                  1   \n",
       "\n",
       "                                            features  \\\n",
       "0  [-0.0044293937891949605, -0.000290166484739615...   \n",
       "1  [-0.0030869997771073745, -0.001493732918087307...   \n",
       "2  [-0.0029931920770331763, -0.002035685038958559...   \n",
       "3  [-0.0028520831991036147, -0.002939033246046851...   \n",
       "4  [-0.0024852426475081056, -0.000609745002131335...   \n",
       "\n",
       "                              rawPrediction  \\\n",
       "0     [13.14603327706776, 6.85396672293224]   \n",
       "1   [5.274330113276982, 14.725669886723017]   \n",
       "2  [2.4512463343108504, 17.548753665689148]   \n",
       "3   [16.71754680386394, 3.2824531961360606]   \n",
       "4    [8.57965922965923, 11.420340770340768]   \n",
       "\n",
       "                                 probability  prediction  \n",
       "0     [0.657301663853388, 0.342698336146612]         0.0  \n",
       "1  [0.26371650566384913, 0.7362834943361508]         1.0  \n",
       "2  [0.12256231671554252, 0.8774376832844574]         1.0  \n",
       "3  [0.8358773401931969, 0.16412265980680302]         0.0  \n",
       "4   [0.4289829614829615, 0.5710170385170384]         1.0  "
      ]
     },
     "execution_count": 34,
     "metadata": {},
     "output_type": "execute_result"
    }
   ],
   "source": [
    "airline_predictions = savedModel.transform(x_test)\n",
    "airline_predictions.select(\"features\", \"buy_sell_decision\", \"prediction\")\n",
    "airline_predictions.limit(5).toPandas()"
   ]
  },
  {
   "cell_type": "markdown",
   "id": "0e6ca00c",
   "metadata": {},
   "source": [
    "## SERVING"
   ]
  },
  {
   "cell_type": "markdown",
   "id": "8adffcc6",
   "metadata": {},
   "source": [
    "To upload it into MongoDB, we create a json file and extract it."
   ]
  },
  {
   "cell_type": "code",
   "execution_count": 35,
   "id": "e730f0b6",
   "metadata": {},
   "outputs": [],
   "source": [
    "airline_predictions.coalesce(1).write.format(\"json\").option(\"delimiter\", \",\").mode(\"overwrite\").save(\"MongoDB/airlines_json\")"
   ]
  },
  {
   "cell_type": "markdown",
   "id": "57cf3fdf",
   "metadata": {},
   "source": [
    " "
   ]
  },
  {
   "cell_type": "markdown",
   "id": "89c7cec6",
   "metadata": {},
   "source": [
    " \n"
   ]
  },
  {
   "cell_type": "markdown",
   "id": "8c31f03a",
   "metadata": {},
   "source": [
    "### FOR THE REST OF THE INDUSTRIES WE ARE GOING TO FOLLOW THE SAME STEPS"
   ]
  },
  {
   "cell_type": "markdown",
   "id": "e27ed6ee",
   "metadata": {},
   "source": [
    " "
   ]
  },
  {
   "cell_type": "markdown",
   "id": "ec5fc7f9",
   "metadata": {},
   "source": [
    "# AUTOMOTIVE INDUSTRY"
   ]
  },
  {
   "cell_type": "code",
   "execution_count": 36,
   "id": "217e6d70",
   "metadata": {},
   "outputs": [
    {
     "data": {
      "text/html": [
       "<div>\n",
       "<style scoped>\n",
       "    .dataframe tbody tr th:only-of-type {\n",
       "        vertical-align: middle;\n",
       "    }\n",
       "\n",
       "    .dataframe tbody tr th {\n",
       "        vertical-align: top;\n",
       "    }\n",
       "\n",
       "    .dataframe thead th {\n",
       "        text-align: right;\n",
       "    }\n",
       "</style>\n",
       "<table border=\"1\" class=\"dataframe\">\n",
       "  <thead>\n",
       "    <tr style=\"text-align: right;\">\n",
       "      <th></th>\n",
       "      <th>Datetime</th>\n",
       "      <th>TSLA_Close</th>\n",
       "      <th>GM_Close</th>\n",
       "      <th>F_Close</th>\n",
       "    </tr>\n",
       "  </thead>\n",
       "  <tbody>\n",
       "    <tr>\n",
       "      <th>0</th>\n",
       "      <td>2022-02-28 09:30:00-05:00</td>\n",
       "      <td>822.260010</td>\n",
       "      <td>46.270000</td>\n",
       "      <td>17.370001</td>\n",
       "    </tr>\n",
       "    <tr>\n",
       "      <th>1</th>\n",
       "      <td>2022-02-28 09:31:00-05:00</td>\n",
       "      <td>818.580017</td>\n",
       "      <td>46.145000</td>\n",
       "      <td>17.430000</td>\n",
       "    </tr>\n",
       "    <tr>\n",
       "      <th>2</th>\n",
       "      <td>2022-02-28 09:32:00-05:00</td>\n",
       "      <td>823.400024</td>\n",
       "      <td>46.080002</td>\n",
       "      <td>17.469900</td>\n",
       "    </tr>\n",
       "    <tr>\n",
       "      <th>3</th>\n",
       "      <td>2022-02-28 09:33:00-05:00</td>\n",
       "      <td>826.729980</td>\n",
       "      <td>46.180000</td>\n",
       "      <td>17.459900</td>\n",
       "    </tr>\n",
       "    <tr>\n",
       "      <th>4</th>\n",
       "      <td>2022-02-28 09:34:00-05:00</td>\n",
       "      <td>829.280029</td>\n",
       "      <td>46.259998</td>\n",
       "      <td>17.469999</td>\n",
       "    </tr>\n",
       "  </tbody>\n",
       "</table>\n",
       "</div>"
      ],
      "text/plain": [
       "                    Datetime  TSLA_Close   GM_Close    F_Close\n",
       "0  2022-02-28 09:30:00-05:00  822.260010  46.270000  17.370001\n",
       "1  2022-02-28 09:31:00-05:00  818.580017  46.145000  17.430000\n",
       "2  2022-02-28 09:32:00-05:00  823.400024  46.080002  17.469900\n",
       "3  2022-02-28 09:33:00-05:00  826.729980  46.180000  17.459900\n",
       "4  2022-02-28 09:34:00-05:00  829.280029  46.259998  17.469999"
      ]
     },
     "execution_count": 36,
     "metadata": {},
     "output_type": "execute_result"
    }
   ],
   "source": [
    "automotive_df = spark.read.parquet(\"hdfs://localhost:9000/datalake/std/stocks/automotive\").toPandas().ffill()\n",
    "automotive_df.head(5)"
   ]
  },
  {
   "cell_type": "code",
   "execution_count": 37,
   "id": "d3a188b4",
   "metadata": {},
   "outputs": [
    {
     "data": {
      "text/html": [
       "<div>\n",
       "<style scoped>\n",
       "    .dataframe tbody tr th:only-of-type {\n",
       "        vertical-align: middle;\n",
       "    }\n",
       "\n",
       "    .dataframe tbody tr th {\n",
       "        vertical-align: top;\n",
       "    }\n",
       "\n",
       "    .dataframe thead th {\n",
       "        text-align: right;\n",
       "    }\n",
       "</style>\n",
       "<table border=\"1\" class=\"dataframe\">\n",
       "  <thead>\n",
       "    <tr style=\"text-align: right;\">\n",
       "      <th></th>\n",
       "      <th>Datetime</th>\n",
       "      <th>TSLA_Close</th>\n",
       "      <th>GM_Close</th>\n",
       "      <th>F_Close</th>\n",
       "    </tr>\n",
       "  </thead>\n",
       "  <tbody>\n",
       "    <tr>\n",
       "      <th>0</th>\n",
       "      <td>2022-02-28 09:30:00-05:00</td>\n",
       "      <td>822.260010</td>\n",
       "      <td>46.270000</td>\n",
       "      <td>17.370001</td>\n",
       "    </tr>\n",
       "    <tr>\n",
       "      <th>1</th>\n",
       "      <td>2022-02-28 09:31:00-05:00</td>\n",
       "      <td>818.580017</td>\n",
       "      <td>46.145000</td>\n",
       "      <td>17.430000</td>\n",
       "    </tr>\n",
       "    <tr>\n",
       "      <th>2</th>\n",
       "      <td>2022-02-28 09:32:00-05:00</td>\n",
       "      <td>823.400024</td>\n",
       "      <td>46.080002</td>\n",
       "      <td>17.469900</td>\n",
       "    </tr>\n",
       "    <tr>\n",
       "      <th>3</th>\n",
       "      <td>2022-02-28 09:33:00-05:00</td>\n",
       "      <td>826.729980</td>\n",
       "      <td>46.180000</td>\n",
       "      <td>17.459900</td>\n",
       "    </tr>\n",
       "    <tr>\n",
       "      <th>4</th>\n",
       "      <td>2022-02-28 09:34:00-05:00</td>\n",
       "      <td>829.280029</td>\n",
       "      <td>46.259998</td>\n",
       "      <td>17.469999</td>\n",
       "    </tr>\n",
       "    <tr>\n",
       "      <th>...</th>\n",
       "      <td>...</td>\n",
       "      <td>...</td>\n",
       "      <td>...</td>\n",
       "      <td>...</td>\n",
       "    </tr>\n",
       "    <tr>\n",
       "      <th>1164</th>\n",
       "      <td>2022-03-02 15:55:00-05:00</td>\n",
       "      <td>880.530029</td>\n",
       "      <td>46.459999</td>\n",
       "      <td>18.165001</td>\n",
       "    </tr>\n",
       "    <tr>\n",
       "      <th>1165</th>\n",
       "      <td>2022-03-02 15:56:00-05:00</td>\n",
       "      <td>881.640015</td>\n",
       "      <td>46.439999</td>\n",
       "      <td>18.150000</td>\n",
       "    </tr>\n",
       "    <tr>\n",
       "      <th>1166</th>\n",
       "      <td>2022-03-02 15:57:00-05:00</td>\n",
       "      <td>880.429993</td>\n",
       "      <td>46.360001</td>\n",
       "      <td>18.110001</td>\n",
       "    </tr>\n",
       "    <tr>\n",
       "      <th>1167</th>\n",
       "      <td>2022-03-02 15:58:00-05:00</td>\n",
       "      <td>880.710022</td>\n",
       "      <td>46.325001</td>\n",
       "      <td>18.100000</td>\n",
       "    </tr>\n",
       "    <tr>\n",
       "      <th>1168</th>\n",
       "      <td>2022-03-02 15:59:00-05:00</td>\n",
       "      <td>879.890015</td>\n",
       "      <td>46.310001</td>\n",
       "      <td>18.100000</td>\n",
       "    </tr>\n",
       "  </tbody>\n",
       "</table>\n",
       "<p>1169 rows × 4 columns</p>\n",
       "</div>"
      ],
      "text/plain": [
       "                      Datetime  TSLA_Close   GM_Close    F_Close\n",
       "0    2022-02-28 09:30:00-05:00  822.260010  46.270000  17.370001\n",
       "1    2022-02-28 09:31:00-05:00  818.580017  46.145000  17.430000\n",
       "2    2022-02-28 09:32:00-05:00  823.400024  46.080002  17.469900\n",
       "3    2022-02-28 09:33:00-05:00  826.729980  46.180000  17.459900\n",
       "4    2022-02-28 09:34:00-05:00  829.280029  46.259998  17.469999\n",
       "...                        ...         ...        ...        ...\n",
       "1164 2022-03-02 15:55:00-05:00  880.530029  46.459999  18.165001\n",
       "1165 2022-03-02 15:56:00-05:00  881.640015  46.439999  18.150000\n",
       "1166 2022-03-02 15:57:00-05:00  880.429993  46.360001  18.110001\n",
       "1167 2022-03-02 15:58:00-05:00  880.710022  46.325001  18.100000\n",
       "1168 2022-03-02 15:59:00-05:00  879.890015  46.310001  18.100000\n",
       "\n",
       "[1169 rows x 4 columns]"
      ]
     },
     "execution_count": 37,
     "metadata": {},
     "output_type": "execute_result"
    }
   ],
   "source": [
    "import pandas as pd\n",
    "automotive_df[\"Datetime\"] = pd.to_datetime(automotive_df[\"Datetime\"])\n",
    "automotive_df"
   ]
  },
  {
   "cell_type": "code",
   "execution_count": 38,
   "id": "b7896214",
   "metadata": {},
   "outputs": [
    {
     "data": {
      "text/html": [
       "<div>\n",
       "<style scoped>\n",
       "    .dataframe tbody tr th:only-of-type {\n",
       "        vertical-align: middle;\n",
       "    }\n",
       "\n",
       "    .dataframe tbody tr th {\n",
       "        vertical-align: top;\n",
       "    }\n",
       "\n",
       "    .dataframe thead th {\n",
       "        text-align: right;\n",
       "    }\n",
       "</style>\n",
       "<table border=\"1\" class=\"dataframe\">\n",
       "  <thead>\n",
       "    <tr style=\"text-align: right;\">\n",
       "      <th></th>\n",
       "      <th>TSLA_Close</th>\n",
       "      <th>GM_Close</th>\n",
       "      <th>F_Close</th>\n",
       "    </tr>\n",
       "    <tr>\n",
       "      <th>Datetime</th>\n",
       "      <th></th>\n",
       "      <th></th>\n",
       "      <th></th>\n",
       "    </tr>\n",
       "  </thead>\n",
       "  <tbody>\n",
       "    <tr>\n",
       "      <th>2022-02-28 09:30:00-05:00</th>\n",
       "      <td>822.26001</td>\n",
       "      <td>46.27</td>\n",
       "      <td>17.370001</td>\n",
       "    </tr>\n",
       "  </tbody>\n",
       "</table>\n",
       "</div>"
      ],
      "text/plain": [
       "                           TSLA_Close  GM_Close    F_Close\n",
       "Datetime                                                  \n",
       "2022-02-28 09:30:00-05:00   822.26001     46.27  17.370001"
      ]
     },
     "execution_count": 38,
     "metadata": {},
     "output_type": "execute_result"
    }
   ],
   "source": [
    "automotive_df = automotive_df.set_index(\"Datetime\")\n",
    "automotive_df.head(1)"
   ]
  },
  {
   "cell_type": "code",
   "execution_count": 39,
   "id": "45087fc0",
   "metadata": {},
   "outputs": [
    {
     "data": {
      "text/html": [
       "<div>\n",
       "<style scoped>\n",
       "    .dataframe tbody tr th:only-of-type {\n",
       "        vertical-align: middle;\n",
       "    }\n",
       "\n",
       "    .dataframe tbody tr th {\n",
       "        vertical-align: top;\n",
       "    }\n",
       "\n",
       "    .dataframe thead th {\n",
       "        text-align: right;\n",
       "    }\n",
       "</style>\n",
       "<table border=\"1\" class=\"dataframe\">\n",
       "  <thead>\n",
       "    <tr style=\"text-align: right;\">\n",
       "      <th></th>\n",
       "      <th>TSLA_Close</th>\n",
       "      <th>GM_Close</th>\n",
       "      <th>F_Close</th>\n",
       "      <th>automotive_value</th>\n",
       "    </tr>\n",
       "    <tr>\n",
       "      <th>Datetime</th>\n",
       "      <th></th>\n",
       "      <th></th>\n",
       "      <th></th>\n",
       "      <th></th>\n",
       "    </tr>\n",
       "  </thead>\n",
       "  <tbody>\n",
       "    <tr>\n",
       "      <th>2022-02-28 09:30:00-05:00</th>\n",
       "      <td>822.26001</td>\n",
       "      <td>46.27</td>\n",
       "      <td>17.370001</td>\n",
       "      <td>885.900011</td>\n",
       "    </tr>\n",
       "  </tbody>\n",
       "</table>\n",
       "</div>"
      ],
      "text/plain": [
       "                           TSLA_Close  GM_Close    F_Close  automotive_value\n",
       "Datetime                                                                    \n",
       "2022-02-28 09:30:00-05:00   822.26001     46.27  17.370001        885.900011"
      ]
     },
     "execution_count": 39,
     "metadata": {},
     "output_type": "execute_result"
    }
   ],
   "source": [
    "automotive_df[\"automotive_value\"] = automotive_df.apply(lambda row: row.TSLA_Close + row.GM_Close + row.F_Close, axis=1)\n",
    "automotive_df.head(1)"
   ]
  },
  {
   "cell_type": "code",
   "execution_count": 40,
   "id": "e83ae04d",
   "metadata": {},
   "outputs": [],
   "source": [
    "lags = [1,2,3]\n",
    "\n",
    "for lag in lags:\n",
    "    automotive_df[f\"automotive_value_{lag}\"] = automotive_df[\"automotive_value\"].shift(lag)"
   ]
  },
  {
   "cell_type": "code",
   "execution_count": 41,
   "id": "5c192e1a",
   "metadata": {},
   "outputs": [],
   "source": [
    "automotive_df = automotive_df.iloc[3:, :]"
   ]
  },
  {
   "cell_type": "code",
   "execution_count": 42,
   "id": "6a72571c",
   "metadata": {},
   "outputs": [
    {
     "data": {
      "text/html": [
       "<div>\n",
       "<style scoped>\n",
       "    .dataframe tbody tr th:only-of-type {\n",
       "        vertical-align: middle;\n",
       "    }\n",
       "\n",
       "    .dataframe tbody tr th {\n",
       "        vertical-align: top;\n",
       "    }\n",
       "\n",
       "    .dataframe thead th {\n",
       "        text-align: right;\n",
       "    }\n",
       "</style>\n",
       "<table border=\"1\" class=\"dataframe\">\n",
       "  <thead>\n",
       "    <tr style=\"text-align: right;\">\n",
       "      <th></th>\n",
       "      <th>TSLA_Close</th>\n",
       "      <th>GM_Close</th>\n",
       "      <th>F_Close</th>\n",
       "      <th>automotive_value</th>\n",
       "      <th>automotive_value_1</th>\n",
       "      <th>automotive_value_2</th>\n",
       "      <th>automotive_value_3</th>\n",
       "    </tr>\n",
       "    <tr>\n",
       "      <th>Datetime</th>\n",
       "      <th></th>\n",
       "      <th></th>\n",
       "      <th></th>\n",
       "      <th></th>\n",
       "      <th></th>\n",
       "      <th></th>\n",
       "      <th></th>\n",
       "    </tr>\n",
       "  </thead>\n",
       "  <tbody>\n",
       "    <tr>\n",
       "      <th>2022-02-28 09:33:00-05:00</th>\n",
       "      <td>826.72998</td>\n",
       "      <td>46.18</td>\n",
       "      <td>17.4599</td>\n",
       "      <td>890.369881</td>\n",
       "      <td>886.949926</td>\n",
       "      <td>882.155018</td>\n",
       "      <td>885.900011</td>\n",
       "    </tr>\n",
       "  </tbody>\n",
       "</table>\n",
       "</div>"
      ],
      "text/plain": [
       "                           TSLA_Close  GM_Close  F_Close  automotive_value  \\\n",
       "Datetime                                                                     \n",
       "2022-02-28 09:33:00-05:00   826.72998     46.18  17.4599        890.369881   \n",
       "\n",
       "                           automotive_value_1  automotive_value_2  \\\n",
       "Datetime                                                            \n",
       "2022-02-28 09:33:00-05:00          886.949926          882.155018   \n",
       "\n",
       "                           automotive_value_3  \n",
       "Datetime                                       \n",
       "2022-02-28 09:33:00-05:00          885.900011  "
      ]
     },
     "execution_count": 42,
     "metadata": {},
     "output_type": "execute_result"
    }
   ],
   "source": [
    "automotive_df.head(1)"
   ]
  },
  {
   "cell_type": "code",
   "execution_count": 43,
   "id": "3f6cb97b",
   "metadata": {},
   "outputs": [],
   "source": [
    "automotive_df[\"slope_x1\"] = (automotive_df[\"automotive_value\"] - automotive_df[\"automotive_value_1\"]) / automotive_df[\"automotive_value_1\"]\n",
    "automotive_df[\"slope_x2\"] = (automotive_df[\"automotive_value_1\"] - automotive_df[\"automotive_value_2\"]) / automotive_df[\"automotive_value_2\"]\n",
    "automotive_df[\"slope_x3\"] = (automotive_df[\"automotive_value_2\"] - automotive_df[\"automotive_value_3\"]) / automotive_df[\"automotive_value_3\"]\n",
    "automotive_df[\"automotive_value_t+1\"] = automotive_df[\"automotive_value\"].shift(-1)"
   ]
  },
  {
   "cell_type": "code",
   "execution_count": 44,
   "id": "52dbf85e",
   "metadata": {},
   "outputs": [],
   "source": [
    "automotive_df = automotive_df.iloc[:-1, :]"
   ]
  },
  {
   "cell_type": "code",
   "execution_count": 45,
   "id": "e91b2d00",
   "metadata": {},
   "outputs": [],
   "source": [
    "import numpy as np\n",
    "automotive_df[\"buy_sell_decision\"] = np.where(automotive_df[\"automotive_value_t+1\"] > automotive_df[\"automotive_value\"], 1, 0)"
   ]
  },
  {
   "cell_type": "code",
   "execution_count": 46,
   "id": "6ca010ce",
   "metadata": {},
   "outputs": [
    {
     "data": {
      "text/html": [
       "<div>\n",
       "<style scoped>\n",
       "    .dataframe tbody tr th:only-of-type {\n",
       "        vertical-align: middle;\n",
       "    }\n",
       "\n",
       "    .dataframe tbody tr th {\n",
       "        vertical-align: top;\n",
       "    }\n",
       "\n",
       "    .dataframe thead th {\n",
       "        text-align: right;\n",
       "    }\n",
       "</style>\n",
       "<table border=\"1\" class=\"dataframe\">\n",
       "  <thead>\n",
       "    <tr style=\"text-align: right;\">\n",
       "      <th></th>\n",
       "      <th>Datetime</th>\n",
       "      <th>TSLA_Close</th>\n",
       "      <th>GM_Close</th>\n",
       "      <th>F_Close</th>\n",
       "      <th>automotive_value</th>\n",
       "      <th>automotive_value_1</th>\n",
       "      <th>automotive_value_2</th>\n",
       "      <th>automotive_value_3</th>\n",
       "      <th>slope_x1</th>\n",
       "      <th>slope_x2</th>\n",
       "      <th>slope_x3</th>\n",
       "      <th>automotive_value_t+1</th>\n",
       "      <th>buy_sell_decision</th>\n",
       "      <th>date</th>\n",
       "    </tr>\n",
       "  </thead>\n",
       "  <tbody>\n",
       "    <tr>\n",
       "      <th>0</th>\n",
       "      <td>2022-02-28 09:33:00-05:00</td>\n",
       "      <td>826.72998</td>\n",
       "      <td>46.18</td>\n",
       "      <td>17.4599</td>\n",
       "      <td>890.369881</td>\n",
       "      <td>886.949926</td>\n",
       "      <td>882.155018</td>\n",
       "      <td>885.900011</td>\n",
       "      <td>0.003856</td>\n",
       "      <td>0.005435</td>\n",
       "      <td>-0.004227</td>\n",
       "      <td>893.010027</td>\n",
       "      <td>1</td>\n",
       "      <td>2022-02-28</td>\n",
       "    </tr>\n",
       "  </tbody>\n",
       "</table>\n",
       "</div>"
      ],
      "text/plain": [
       "                   Datetime  TSLA_Close  GM_Close  F_Close  automotive_value  \\\n",
       "0 2022-02-28 09:33:00-05:00   826.72998     46.18  17.4599        890.369881   \n",
       "\n",
       "   automotive_value_1  automotive_value_2  automotive_value_3  slope_x1  \\\n",
       "0          886.949926          882.155018          885.900011  0.003856   \n",
       "\n",
       "   slope_x2  slope_x3  automotive_value_t+1  buy_sell_decision        date  \n",
       "0  0.005435 -0.004227            893.010027                  1  2022-02-28  "
      ]
     },
     "execution_count": 46,
     "metadata": {},
     "output_type": "execute_result"
    }
   ],
   "source": [
    "from datetime import datetime\n",
    "\n",
    "automotive_df = automotive_df.reset_index()\n",
    "automotive_df[\"date\"] = automotive_df[\"Datetime\"].apply(datetime.date)\n",
    "automotive_df.head(1)"
   ]
  },
  {
   "cell_type": "code",
   "execution_count": 47,
   "id": "f69f2310",
   "metadata": {},
   "outputs": [],
   "source": [
    "automotive_df = automotive_df[[\"slope_x1\", \"slope_x2\", \"slope_x3\", \"buy_sell_decision\"]]"
   ]
  },
  {
   "cell_type": "code",
   "execution_count": 48,
   "id": "9aa5ea7a",
   "metadata": {},
   "outputs": [],
   "source": [
    "automotive_df.to_csv(r'clean_automotive.csv')"
   ]
  },
  {
   "cell_type": "code",
   "execution_count": 49,
   "id": "38472902",
   "metadata": {},
   "outputs": [
    {
     "data": {
      "text/html": [
       "<div>\n",
       "<style scoped>\n",
       "    .dataframe tbody tr th:only-of-type {\n",
       "        vertical-align: middle;\n",
       "    }\n",
       "\n",
       "    .dataframe tbody tr th {\n",
       "        vertical-align: top;\n",
       "    }\n",
       "\n",
       "    .dataframe thead th {\n",
       "        text-align: right;\n",
       "    }\n",
       "</style>\n",
       "<table border=\"1\" class=\"dataframe\">\n",
       "  <thead>\n",
       "    <tr style=\"text-align: right;\">\n",
       "      <th></th>\n",
       "      <th>_c0</th>\n",
       "      <th>slope_x1</th>\n",
       "      <th>slope_x2</th>\n",
       "      <th>slope_x3</th>\n",
       "      <th>buy_sell_decision</th>\n",
       "    </tr>\n",
       "  </thead>\n",
       "  <tbody>\n",
       "    <tr>\n",
       "      <th>0</th>\n",
       "      <td>0</td>\n",
       "      <td>0.003856</td>\n",
       "      <td>0.005435</td>\n",
       "      <td>-0.004227</td>\n",
       "      <td>1</td>\n",
       "    </tr>\n",
       "    <tr>\n",
       "      <th>1</th>\n",
       "      <td>1</td>\n",
       "      <td>0.002965</td>\n",
       "      <td>0.003856</td>\n",
       "      <td>0.005435</td>\n",
       "      <td>0</td>\n",
       "    </tr>\n",
       "  </tbody>\n",
       "</table>\n",
       "</div>"
      ],
      "text/plain": [
       "   _c0  slope_x1  slope_x2  slope_x3  buy_sell_decision\n",
       "0    0  0.003856  0.005435 -0.004227                  1\n",
       "1    1  0.002965  0.003856  0.005435                  0"
      ]
     },
     "execution_count": 49,
     "metadata": {},
     "output_type": "execute_result"
    }
   ],
   "source": [
    "automotive_clean_df = spark.read.parquet(\"hdfs://localhost:9000/datalake/std/stocks/clean_automotive_csv\")\n",
    "automotive_clean_df.limit(2).toPandas()"
   ]
  },
  {
   "cell_type": "code",
   "execution_count": 50,
   "id": "1d562c38",
   "metadata": {},
   "outputs": [],
   "source": [
    "automotive_clean_df= automotive_clean_df.withColumn(\"slope_x1\",automotive_clean_df.slope_x1.cast('double'))\n",
    "automotive_clean_df =automotive_clean_df.withColumn(\"slope_x2\",automotive_clean_df.slope_x2.cast('double'))\n",
    "automotive_clean_df =automotive_clean_df.withColumn(\"slope_x3\",automotive_clean_df.slope_x3.cast('double'))"
   ]
  },
  {
   "cell_type": "code",
   "execution_count": 51,
   "id": "9d13447b",
   "metadata": {},
   "outputs": [],
   "source": [
    "automotive_clean_df = automotive_clean_df.drop(\"_c0\")\n",
    "automotive_clean_df =automotive_clean_df.withColumn(\"buy_sell_decision\",automotive_clean_df.buy_sell_decision.cast('int'))"
   ]
  },
  {
   "cell_type": "code",
   "execution_count": 52,
   "id": "8e1ca7f3",
   "metadata": {},
   "outputs": [
    {
     "name": "stdout",
     "output_type": "stream",
     "text": [
      "Feature columns:  ['slope_x1', 'slope_x2', 'slope_x3']\n"
     ]
    }
   ],
   "source": [
    "from pyspark.ml.feature import StringIndexer\n",
    "\n",
    "label_colum = \"buy_sell_decision\"\n",
    "\n",
    "numericCols = [field for (field, dataType) in automotive_clean_df.dtypes if ((dataType == \"double\") & (field != \"buy_sell_decision\"))]\n",
    "\n",
    "assemblerInputs = numericCols\n",
    "print(\"Feature columns: \",assemblerInputs)"
   ]
  },
  {
   "cell_type": "code",
   "execution_count": 53,
   "id": "21d565eb",
   "metadata": {},
   "outputs": [],
   "source": [
    "vecAssembler = VectorAssembler(inputCols=assemblerInputs, outputCol=\"features\")\n",
    "\n",
    "test_pipeline = Pipeline(stages = [vecAssembler])\n",
    "\n",
    "features_df = test_pipeline.fit(automotive_clean_df).transform(automotive_clean_df)"
   ]
  },
  {
   "cell_type": "code",
   "execution_count": 54,
   "id": "36c70f5d",
   "metadata": {},
   "outputs": [],
   "source": [
    "seed = 42\n",
    "lr2 = LogisticRegression(labelCol=\"buy_sell_decision\", featuresCol=\"features\")\n",
    "dt2 = DecisionTreeClassifier(labelCol=\"buy_sell_decision\", featuresCol=\"features\",seed=seed)\n",
    "rf2 = RandomForestClassifier(labelCol=\"buy_sell_decision\", featuresCol=\"features\",maxDepth=10,seed=seed)\n",
    "gbt2 = GBTClassifier(labelCol=\"buy_sell_decision\", featuresCol=\"features\",maxIter=10,seed=seed)\n",
    "\n",
    "classifiers = [lr2,dt2,rf2,gbt2]"
   ]
  },
  {
   "cell_type": "code",
   "execution_count": 55,
   "id": "59527221",
   "metadata": {},
   "outputs": [],
   "source": [
    "from pyspark.ml import Pipeline\n",
    "\n",
    "def create_pipeline(classifier):\n",
    "    return Pipeline(stages = [vecAssembler, classifier])\n",
    "\n",
    "pipelines = [create_pipeline(classifier) for classifier in classifiers]"
   ]
  },
  {
   "cell_type": "code",
   "execution_count": 56,
   "id": "639a2373",
   "metadata": {},
   "outputs": [],
   "source": [
    "from pyspark.ml.evaluation import MulticlassClassificationEvaluator\n",
    "\n",
    "evaluator = MulticlassClassificationEvaluator(labelCol=\"buy_sell_decision\",  metricName=\"accuracy\")"
   ]
  },
  {
   "cell_type": "code",
   "execution_count": 57,
   "id": "b60d812d",
   "metadata": {},
   "outputs": [],
   "source": [
    "seed = 42\n",
    "(x_train, x_test) = automotive_clean_df.randomSplit([0.8,0.2],seed=seed)"
   ]
  },
  {
   "cell_type": "code",
   "execution_count": 58,
   "id": "b23612da",
   "metadata": {},
   "outputs": [
    {
     "data": {
      "text/plain": [
       "[PipelineModel_3e9d3e675bda,\n",
       " PipelineModel_4887b18a8ca2,\n",
       " PipelineModel_e7d4aba01599,\n",
       " PipelineModel_c9d37ae69327]"
      ]
     },
     "execution_count": 58,
     "metadata": {},
     "output_type": "execute_result"
    }
   ],
   "source": [
    "models = [pipeline.fit(x_train) for pipeline in pipelines]\n",
    "models"
   ]
  },
  {
   "cell_type": "code",
   "execution_count": 59,
   "id": "ee33e78e",
   "metadata": {},
   "outputs": [
    {
     "data": {
      "text/html": [
       "<div>\n",
       "<style scoped>\n",
       "    .dataframe tbody tr th:only-of-type {\n",
       "        vertical-align: middle;\n",
       "    }\n",
       "\n",
       "    .dataframe tbody tr th {\n",
       "        vertical-align: top;\n",
       "    }\n",
       "\n",
       "    .dataframe thead th {\n",
       "        text-align: right;\n",
       "    }\n",
       "</style>\n",
       "<table border=\"1\" class=\"dataframe\">\n",
       "  <thead>\n",
       "    <tr style=\"text-align: right;\">\n",
       "      <th></th>\n",
       "      <th>name</th>\n",
       "      <th>accuracy</th>\n",
       "      <th>model</th>\n",
       "    </tr>\n",
       "  </thead>\n",
       "  <tbody>\n",
       "    <tr>\n",
       "      <th>0</th>\n",
       "      <td>LogisticRegressionModel</td>\n",
       "      <td>0.546341</td>\n",
       "      <td>PipelineModel_3e9d3e675bda</td>\n",
       "    </tr>\n",
       "    <tr>\n",
       "      <th>2</th>\n",
       "      <td>RandomForestClassificationModel</td>\n",
       "      <td>0.507317</td>\n",
       "      <td>PipelineModel_e7d4aba01599</td>\n",
       "    </tr>\n",
       "    <tr>\n",
       "      <th>1</th>\n",
       "      <td>DecisionTreeClassificationModel</td>\n",
       "      <td>0.487805</td>\n",
       "      <td>PipelineModel_4887b18a8ca2</td>\n",
       "    </tr>\n",
       "    <tr>\n",
       "      <th>3</th>\n",
       "      <td>GBTClassificationModel</td>\n",
       "      <td>0.487805</td>\n",
       "      <td>PipelineModel_c9d37ae69327</td>\n",
       "    </tr>\n",
       "  </tbody>\n",
       "</table>\n",
       "</div>"
      ],
      "text/plain": [
       "                              name  accuracy                       model\n",
       "0          LogisticRegressionModel  0.546341  PipelineModel_3e9d3e675bda\n",
       "2  RandomForestClassificationModel  0.507317  PipelineModel_e7d4aba01599\n",
       "1  DecisionTreeClassificationModel  0.487805  PipelineModel_4887b18a8ca2\n",
       "3           GBTClassificationModel  0.487805  PipelineModel_c9d37ae69327"
      ]
     },
     "execution_count": 59,
     "metadata": {},
     "output_type": "execute_result"
    }
   ],
   "source": [
    "import pandas as pd\n",
    "names = []\n",
    "values = [] \n",
    "\n",
    "for model in models:\n",
    "    prediction_df = model.transform(x_test)\n",
    "    accuracy = evaluator.evaluate(prediction_df)\n",
    "    names.append(type(model.stages[-1]).__name__) # the algorithm is the last stage in the pipeline\n",
    "    values.append(accuracy)\n",
    "\n",
    "data = {'name':names,'accuracy':values,'model':models}\n",
    "df2 = pd.DataFrame(data)\n",
    "df2.sort_values(by=['accuracy'], inplace=True, ascending=False)  \n",
    "df2"
   ]
  },
  {
   "cell_type": "code",
   "execution_count": 60,
   "id": "d9409101",
   "metadata": {},
   "outputs": [],
   "source": [
    "best_model=df2.iloc[0]['model']"
   ]
  },
  {
   "cell_type": "code",
   "execution_count": 61,
   "id": "541510e5",
   "metadata": {},
   "outputs": [
    {
     "name": "stderr",
     "output_type": "stream",
     "text": [
      "                                                                                \r"
     ]
    },
    {
     "data": {
      "text/html": [
       "<div>\n",
       "<style scoped>\n",
       "    .dataframe tbody tr th:only-of-type {\n",
       "        vertical-align: middle;\n",
       "    }\n",
       "\n",
       "    .dataframe tbody tr th {\n",
       "        vertical-align: top;\n",
       "    }\n",
       "\n",
       "    .dataframe thead th {\n",
       "        text-align: right;\n",
       "    }\n",
       "</style>\n",
       "<table border=\"1\" class=\"dataframe\">\n",
       "  <thead>\n",
       "    <tr style=\"text-align: right;\">\n",
       "      <th></th>\n",
       "      <th>buy_sell_decision</th>\n",
       "      <th>0.0</th>\n",
       "      <th>1.0</th>\n",
       "    </tr>\n",
       "  </thead>\n",
       "  <tbody>\n",
       "    <tr>\n",
       "      <th>0</th>\n",
       "      <td>1</td>\n",
       "      <td>7</td>\n",
       "      <td>95</td>\n",
       "    </tr>\n",
       "    <tr>\n",
       "      <th>1</th>\n",
       "      <td>0</td>\n",
       "      <td>17</td>\n",
       "      <td>86</td>\n",
       "    </tr>\n",
       "  </tbody>\n",
       "</table>\n",
       "</div>"
      ],
      "text/plain": [
       "   buy_sell_decision  0.0  1.0\n",
       "0                  1    7   95\n",
       "1                  0   17   86"
      ]
     },
     "execution_count": 61,
     "metadata": {},
     "output_type": "execute_result"
    }
   ],
   "source": [
    "best_model.transform(x_test).groupby(\"buy_sell_decision\").pivot(\"prediction\").count().toPandas()"
   ]
  },
  {
   "cell_type": "code",
   "execution_count": 62,
   "id": "f5ced6a0",
   "metadata": {},
   "outputs": [],
   "source": [
    "modelPath = \"hdfs://localhost:9000/model-registry/automotive-stocks-classifier\"\n",
    "best_model.write().overwrite().save(modelPath)"
   ]
  },
  {
   "cell_type": "code",
   "execution_count": 63,
   "id": "86b304e8",
   "metadata": {},
   "outputs": [],
   "source": [
    "from pyspark.ml import PipelineModel\n",
    "savedModel = PipelineModel.load(modelPath)"
   ]
  },
  {
   "cell_type": "code",
   "execution_count": 64,
   "id": "cf7536f2",
   "metadata": {},
   "outputs": [
    {
     "data": {
      "text/html": [
       "<div>\n",
       "<style scoped>\n",
       "    .dataframe tbody tr th:only-of-type {\n",
       "        vertical-align: middle;\n",
       "    }\n",
       "\n",
       "    .dataframe tbody tr th {\n",
       "        vertical-align: top;\n",
       "    }\n",
       "\n",
       "    .dataframe thead th {\n",
       "        text-align: right;\n",
       "    }\n",
       "</style>\n",
       "<table border=\"1\" class=\"dataframe\">\n",
       "  <thead>\n",
       "    <tr style=\"text-align: right;\">\n",
       "      <th></th>\n",
       "      <th>slope_x1</th>\n",
       "      <th>slope_x2</th>\n",
       "      <th>slope_x3</th>\n",
       "      <th>buy_sell_decision</th>\n",
       "      <th>features</th>\n",
       "      <th>rawPrediction</th>\n",
       "      <th>probability</th>\n",
       "      <th>prediction</th>\n",
       "    </tr>\n",
       "  </thead>\n",
       "  <tbody>\n",
       "    <tr>\n",
       "      <th>0</th>\n",
       "      <td>-0.005561</td>\n",
       "      <td>0.003665</td>\n",
       "      <td>0.004109</td>\n",
       "      <td>0</td>\n",
       "      <td>[-0.005561279040621582, 0.0036648114560086584,...</td>\n",
       "      <td>[0.16915211804557026, -0.16915211804557026]</td>\n",
       "      <td>[0.5421874868730672, 0.4578125131269329]</td>\n",
       "      <td>0.0</td>\n",
       "    </tr>\n",
       "    <tr>\n",
       "      <th>1</th>\n",
       "      <td>-0.004560</td>\n",
       "      <td>0.000108</td>\n",
       "      <td>-0.002689</td>\n",
       "      <td>1</td>\n",
       "      <td>[-0.004559918508228743, 0.0001078023551620459,...</td>\n",
       "      <td>[-0.0661983828365035, 0.0661983828365035]</td>\n",
       "      <td>[0.48345644531580667, 0.5165435546841933]</td>\n",
       "      <td>1.0</td>\n",
       "    </tr>\n",
       "    <tr>\n",
       "      <th>2</th>\n",
       "      <td>-0.004487</td>\n",
       "      <td>-0.003931</td>\n",
       "      <td>-0.000805</td>\n",
       "      <td>1</td>\n",
       "      <td>[-0.004487040076603708, -0.00393101139148905, ...</td>\n",
       "      <td>[-0.07730456228587912, 0.07730456228587912]</td>\n",
       "      <td>[0.4806834780909789, 0.519316521909021]</td>\n",
       "      <td>1.0</td>\n",
       "    </tr>\n",
       "    <tr>\n",
       "      <th>3</th>\n",
       "      <td>-0.003861</td>\n",
       "      <td>0.000414</td>\n",
       "      <td>-0.001055</td>\n",
       "      <td>1</td>\n",
       "      <td>[-0.003860529512974832, 0.0004140807065025922,...</td>\n",
       "      <td>[-0.02713442549840981, 0.02713442549840981]</td>\n",
       "      <td>[0.49321680981256055, 0.5067831901874394]</td>\n",
       "      <td>1.0</td>\n",
       "    </tr>\n",
       "    <tr>\n",
       "      <th>4</th>\n",
       "      <td>-0.003632</td>\n",
       "      <td>0.001750</td>\n",
       "      <td>0.002311</td>\n",
       "      <td>1</td>\n",
       "      <td>[-0.003632120966492107, 0.0017504593161793707,...</td>\n",
       "      <td>[0.07590644809204394, -0.07590644809204394]</td>\n",
       "      <td>[0.5189675056672156, 0.48103249433278433]</td>\n",
       "      <td>0.0</td>\n",
       "    </tr>\n",
       "  </tbody>\n",
       "</table>\n",
       "</div>"
      ],
      "text/plain": [
       "   slope_x1  slope_x2  slope_x3  buy_sell_decision  \\\n",
       "0 -0.005561  0.003665  0.004109                  0   \n",
       "1 -0.004560  0.000108 -0.002689                  1   \n",
       "2 -0.004487 -0.003931 -0.000805                  1   \n",
       "3 -0.003861  0.000414 -0.001055                  1   \n",
       "4 -0.003632  0.001750  0.002311                  1   \n",
       "\n",
       "                                            features  \\\n",
       "0  [-0.005561279040621582, 0.0036648114560086584,...   \n",
       "1  [-0.004559918508228743, 0.0001078023551620459,...   \n",
       "2  [-0.004487040076603708, -0.00393101139148905, ...   \n",
       "3  [-0.003860529512974832, 0.0004140807065025922,...   \n",
       "4  [-0.003632120966492107, 0.0017504593161793707,...   \n",
       "\n",
       "                                 rawPrediction  \\\n",
       "0  [0.16915211804557026, -0.16915211804557026]   \n",
       "1    [-0.0661983828365035, 0.0661983828365035]   \n",
       "2  [-0.07730456228587912, 0.07730456228587912]   \n",
       "3  [-0.02713442549840981, 0.02713442549840981]   \n",
       "4  [0.07590644809204394, -0.07590644809204394]   \n",
       "\n",
       "                                 probability  prediction  \n",
       "0   [0.5421874868730672, 0.4578125131269329]         0.0  \n",
       "1  [0.48345644531580667, 0.5165435546841933]         1.0  \n",
       "2    [0.4806834780909789, 0.519316521909021]         1.0  \n",
       "3  [0.49321680981256055, 0.5067831901874394]         1.0  \n",
       "4  [0.5189675056672156, 0.48103249433278433]         0.0  "
      ]
     },
     "execution_count": 64,
     "metadata": {},
     "output_type": "execute_result"
    }
   ],
   "source": [
    "automotive_predictions = savedModel.transform(x_test)\n",
    "automotive_predictions.select(\"features\", \"buy_sell_decision\", \"prediction\")\n",
    "automotive_predictions.limit(5).toPandas()"
   ]
  },
  {
   "cell_type": "code",
   "execution_count": 65,
   "id": "ec52dc61",
   "metadata": {},
   "outputs": [],
   "source": [
    "automotive_predictions.coalesce(1).write.format(\"json\").option(\"delimiter\", \",\").mode(\"overwrite\").save(\"MongoDB/automotive_json\")"
   ]
  },
  {
   "cell_type": "markdown",
   "id": "0cead15b",
   "metadata": {},
   "source": [
    " "
   ]
  },
  {
   "cell_type": "markdown",
   "id": "2b2460f9",
   "metadata": {},
   "source": [
    "# ENERGY INDUSTRY"
   ]
  },
  {
   "cell_type": "code",
   "execution_count": 66,
   "id": "d5268516",
   "metadata": {},
   "outputs": [
    {
     "data": {
      "text/html": [
       "<div>\n",
       "<style scoped>\n",
       "    .dataframe tbody tr th:only-of-type {\n",
       "        vertical-align: middle;\n",
       "    }\n",
       "\n",
       "    .dataframe tbody tr th {\n",
       "        vertical-align: top;\n",
       "    }\n",
       "\n",
       "    .dataframe thead th {\n",
       "        text-align: right;\n",
       "    }\n",
       "</style>\n",
       "<table border=\"1\" class=\"dataframe\">\n",
       "  <thead>\n",
       "    <tr style=\"text-align: right;\">\n",
       "      <th></th>\n",
       "      <th>Datetime</th>\n",
       "      <th>XOM_Close</th>\n",
       "      <th>CVX_Close</th>\n",
       "      <th>SHELL_Close</th>\n",
       "    </tr>\n",
       "  </thead>\n",
       "  <tbody>\n",
       "    <tr>\n",
       "      <th>0</th>\n",
       "      <td>2022-02-28 09:30:00-05:00</td>\n",
       "      <td>76.659599</td>\n",
       "      <td>139.550003</td>\n",
       "      <td>52.340000</td>\n",
       "    </tr>\n",
       "    <tr>\n",
       "      <th>1</th>\n",
       "      <td>2022-02-28 09:31:00-05:00</td>\n",
       "      <td>76.610001</td>\n",
       "      <td>139.714996</td>\n",
       "      <td>52.380001</td>\n",
       "    </tr>\n",
       "    <tr>\n",
       "      <th>2</th>\n",
       "      <td>2022-02-28 09:32:00-05:00</td>\n",
       "      <td>76.559998</td>\n",
       "      <td>139.449997</td>\n",
       "      <td>52.289799</td>\n",
       "    </tr>\n",
       "    <tr>\n",
       "      <th>3</th>\n",
       "      <td>2022-02-28 09:33:00-05:00</td>\n",
       "      <td>76.604500</td>\n",
       "      <td>139.589996</td>\n",
       "      <td>52.230000</td>\n",
       "    </tr>\n",
       "    <tr>\n",
       "      <th>4</th>\n",
       "      <td>2022-02-28 09:34:00-05:00</td>\n",
       "      <td>76.389999</td>\n",
       "      <td>139.209900</td>\n",
       "      <td>52.169998</td>\n",
       "    </tr>\n",
       "  </tbody>\n",
       "</table>\n",
       "</div>"
      ],
      "text/plain": [
       "                    Datetime  XOM_Close   CVX_Close  SHELL_Close\n",
       "0  2022-02-28 09:30:00-05:00  76.659599  139.550003    52.340000\n",
       "1  2022-02-28 09:31:00-05:00  76.610001  139.714996    52.380001\n",
       "2  2022-02-28 09:32:00-05:00  76.559998  139.449997    52.289799\n",
       "3  2022-02-28 09:33:00-05:00  76.604500  139.589996    52.230000\n",
       "4  2022-02-28 09:34:00-05:00  76.389999  139.209900    52.169998"
      ]
     },
     "execution_count": 66,
     "metadata": {},
     "output_type": "execute_result"
    }
   ],
   "source": [
    "energy_df = spark.read.parquet(\"hdfs://localhost:9000/datalake/std/stocks/energy\").toPandas().ffill()\n",
    "energy_df.head(5)"
   ]
  },
  {
   "cell_type": "code",
   "execution_count": 67,
   "id": "e3b1cdc3",
   "metadata": {},
   "outputs": [
    {
     "data": {
      "text/html": [
       "<div>\n",
       "<style scoped>\n",
       "    .dataframe tbody tr th:only-of-type {\n",
       "        vertical-align: middle;\n",
       "    }\n",
       "\n",
       "    .dataframe tbody tr th {\n",
       "        vertical-align: top;\n",
       "    }\n",
       "\n",
       "    .dataframe thead th {\n",
       "        text-align: right;\n",
       "    }\n",
       "</style>\n",
       "<table border=\"1\" class=\"dataframe\">\n",
       "  <thead>\n",
       "    <tr style=\"text-align: right;\">\n",
       "      <th></th>\n",
       "      <th>Datetime</th>\n",
       "      <th>XOM_Close</th>\n",
       "      <th>CVX_Close</th>\n",
       "      <th>SHELL_Close</th>\n",
       "    </tr>\n",
       "  </thead>\n",
       "  <tbody>\n",
       "    <tr>\n",
       "      <th>0</th>\n",
       "      <td>2022-02-28 09:30:00-05:00</td>\n",
       "      <td>76.659599</td>\n",
       "      <td>139.550003</td>\n",
       "      <td>52.340000</td>\n",
       "    </tr>\n",
       "    <tr>\n",
       "      <th>1</th>\n",
       "      <td>2022-02-28 09:31:00-05:00</td>\n",
       "      <td>76.610001</td>\n",
       "      <td>139.714996</td>\n",
       "      <td>52.380001</td>\n",
       "    </tr>\n",
       "    <tr>\n",
       "      <th>2</th>\n",
       "      <td>2022-02-28 09:32:00-05:00</td>\n",
       "      <td>76.559998</td>\n",
       "      <td>139.449997</td>\n",
       "      <td>52.289799</td>\n",
       "    </tr>\n",
       "    <tr>\n",
       "      <th>3</th>\n",
       "      <td>2022-02-28 09:33:00-05:00</td>\n",
       "      <td>76.604500</td>\n",
       "      <td>139.589996</td>\n",
       "      <td>52.230000</td>\n",
       "    </tr>\n",
       "    <tr>\n",
       "      <th>4</th>\n",
       "      <td>2022-02-28 09:34:00-05:00</td>\n",
       "      <td>76.389999</td>\n",
       "      <td>139.209900</td>\n",
       "      <td>52.169998</td>\n",
       "    </tr>\n",
       "    <tr>\n",
       "      <th>...</th>\n",
       "      <td>...</td>\n",
       "      <td>...</td>\n",
       "      <td>...</td>\n",
       "      <td>...</td>\n",
       "    </tr>\n",
       "    <tr>\n",
       "      <th>1164</th>\n",
       "      <td>2022-03-02 15:55:00-05:00</td>\n",
       "      <td>80.735001</td>\n",
       "      <td>154.240005</td>\n",
       "      <td>54.840000</td>\n",
       "    </tr>\n",
       "    <tr>\n",
       "      <th>1165</th>\n",
       "      <td>2022-03-02 15:56:00-05:00</td>\n",
       "      <td>80.665001</td>\n",
       "      <td>154.164993</td>\n",
       "      <td>54.744999</td>\n",
       "    </tr>\n",
       "    <tr>\n",
       "      <th>1166</th>\n",
       "      <td>2022-03-02 15:57:00-05:00</td>\n",
       "      <td>80.570000</td>\n",
       "      <td>154.184998</td>\n",
       "      <td>54.689999</td>\n",
       "    </tr>\n",
       "    <tr>\n",
       "      <th>1167</th>\n",
       "      <td>2022-03-02 15:58:00-05:00</td>\n",
       "      <td>80.544998</td>\n",
       "      <td>154.145004</td>\n",
       "      <td>54.685001</td>\n",
       "    </tr>\n",
       "    <tr>\n",
       "      <th>1168</th>\n",
       "      <td>2022-03-02 15:59:00-05:00</td>\n",
       "      <td>80.540001</td>\n",
       "      <td>154.139999</td>\n",
       "      <td>54.619999</td>\n",
       "    </tr>\n",
       "  </tbody>\n",
       "</table>\n",
       "<p>1169 rows × 4 columns</p>\n",
       "</div>"
      ],
      "text/plain": [
       "                      Datetime  XOM_Close   CVX_Close  SHELL_Close\n",
       "0    2022-02-28 09:30:00-05:00  76.659599  139.550003    52.340000\n",
       "1    2022-02-28 09:31:00-05:00  76.610001  139.714996    52.380001\n",
       "2    2022-02-28 09:32:00-05:00  76.559998  139.449997    52.289799\n",
       "3    2022-02-28 09:33:00-05:00  76.604500  139.589996    52.230000\n",
       "4    2022-02-28 09:34:00-05:00  76.389999  139.209900    52.169998\n",
       "...                        ...        ...         ...          ...\n",
       "1164 2022-03-02 15:55:00-05:00  80.735001  154.240005    54.840000\n",
       "1165 2022-03-02 15:56:00-05:00  80.665001  154.164993    54.744999\n",
       "1166 2022-03-02 15:57:00-05:00  80.570000  154.184998    54.689999\n",
       "1167 2022-03-02 15:58:00-05:00  80.544998  154.145004    54.685001\n",
       "1168 2022-03-02 15:59:00-05:00  80.540001  154.139999    54.619999\n",
       "\n",
       "[1169 rows x 4 columns]"
      ]
     },
     "execution_count": 67,
     "metadata": {},
     "output_type": "execute_result"
    }
   ],
   "source": [
    "import pandas as pd\n",
    "energy_df[\"Datetime\"] = pd.to_datetime(energy_df[\"Datetime\"])\n",
    "energy_df"
   ]
  },
  {
   "cell_type": "code",
   "execution_count": 68,
   "id": "e52fd1db",
   "metadata": {},
   "outputs": [
    {
     "data": {
      "text/html": [
       "<div>\n",
       "<style scoped>\n",
       "    .dataframe tbody tr th:only-of-type {\n",
       "        vertical-align: middle;\n",
       "    }\n",
       "\n",
       "    .dataframe tbody tr th {\n",
       "        vertical-align: top;\n",
       "    }\n",
       "\n",
       "    .dataframe thead th {\n",
       "        text-align: right;\n",
       "    }\n",
       "</style>\n",
       "<table border=\"1\" class=\"dataframe\">\n",
       "  <thead>\n",
       "    <tr style=\"text-align: right;\">\n",
       "      <th></th>\n",
       "      <th>XOM_Close</th>\n",
       "      <th>CVX_Close</th>\n",
       "      <th>SHELL_Close</th>\n",
       "    </tr>\n",
       "    <tr>\n",
       "      <th>Datetime</th>\n",
       "      <th></th>\n",
       "      <th></th>\n",
       "      <th></th>\n",
       "    </tr>\n",
       "  </thead>\n",
       "  <tbody>\n",
       "    <tr>\n",
       "      <th>2022-02-28 09:30:00-05:00</th>\n",
       "      <td>76.659599</td>\n",
       "      <td>139.550003</td>\n",
       "      <td>52.34</td>\n",
       "    </tr>\n",
       "  </tbody>\n",
       "</table>\n",
       "</div>"
      ],
      "text/plain": [
       "                           XOM_Close   CVX_Close  SHELL_Close\n",
       "Datetime                                                     \n",
       "2022-02-28 09:30:00-05:00  76.659599  139.550003        52.34"
      ]
     },
     "execution_count": 68,
     "metadata": {},
     "output_type": "execute_result"
    }
   ],
   "source": [
    "energy_df = energy_df.set_index(\"Datetime\")\n",
    "energy_df.head(1)"
   ]
  },
  {
   "cell_type": "code",
   "execution_count": 69,
   "id": "f34c1cf8",
   "metadata": {},
   "outputs": [
    {
     "data": {
      "text/html": [
       "<div>\n",
       "<style scoped>\n",
       "    .dataframe tbody tr th:only-of-type {\n",
       "        vertical-align: middle;\n",
       "    }\n",
       "\n",
       "    .dataframe tbody tr th {\n",
       "        vertical-align: top;\n",
       "    }\n",
       "\n",
       "    .dataframe thead th {\n",
       "        text-align: right;\n",
       "    }\n",
       "</style>\n",
       "<table border=\"1\" class=\"dataframe\">\n",
       "  <thead>\n",
       "    <tr style=\"text-align: right;\">\n",
       "      <th></th>\n",
       "      <th>XOM_Close</th>\n",
       "      <th>CVX_Close</th>\n",
       "      <th>SHELL_Close</th>\n",
       "      <th>energy_value</th>\n",
       "    </tr>\n",
       "    <tr>\n",
       "      <th>Datetime</th>\n",
       "      <th></th>\n",
       "      <th></th>\n",
       "      <th></th>\n",
       "      <th></th>\n",
       "    </tr>\n",
       "  </thead>\n",
       "  <tbody>\n",
       "    <tr>\n",
       "      <th>2022-02-28 09:30:00-05:00</th>\n",
       "      <td>76.659599</td>\n",
       "      <td>139.550003</td>\n",
       "      <td>52.34</td>\n",
       "      <td>268.549603</td>\n",
       "    </tr>\n",
       "  </tbody>\n",
       "</table>\n",
       "</div>"
      ],
      "text/plain": [
       "                           XOM_Close   CVX_Close  SHELL_Close  energy_value\n",
       "Datetime                                                                   \n",
       "2022-02-28 09:30:00-05:00  76.659599  139.550003        52.34    268.549603"
      ]
     },
     "execution_count": 69,
     "metadata": {},
     "output_type": "execute_result"
    }
   ],
   "source": [
    "energy_df[\"energy_value\"] = energy_df.apply(lambda row: row.XOM_Close + row.CVX_Close + row.SHELL_Close, axis=1)\n",
    "energy_df.head(1)"
   ]
  },
  {
   "cell_type": "code",
   "execution_count": 70,
   "id": "beb0507d",
   "metadata": {},
   "outputs": [],
   "source": [
    "lags = [1,2,3]\n",
    "\n",
    "for lag in lags:\n",
    "    energy_df[f\"energy_value_{lag}\"] = energy_df[\"energy_value\"].shift(lag)"
   ]
  },
  {
   "cell_type": "code",
   "execution_count": 71,
   "id": "b4ccb079",
   "metadata": {},
   "outputs": [],
   "source": [
    "energy_df = energy_df.iloc[3:, :]"
   ]
  },
  {
   "cell_type": "code",
   "execution_count": 72,
   "id": "1a6fdb03",
   "metadata": {},
   "outputs": [],
   "source": [
    "energy_df[\"slope_x1\"] = (energy_df[\"energy_value\"] - energy_df[\"energy_value_1\"]) / energy_df[\"energy_value_1\"]\n",
    "energy_df[\"slope_x2\"] = (energy_df[\"energy_value_1\"] - energy_df[\"energy_value_2\"]) / energy_df[\"energy_value_2\"]\n",
    "energy_df[\"slope_x3\"] = (energy_df[\"energy_value_2\"] - energy_df[\"energy_value_3\"]) / energy_df[\"energy_value_3\"]\n",
    "energy_df[\"energy_value_t+1\"] = energy_df[\"energy_value\"].shift(-1)"
   ]
  },
  {
   "cell_type": "code",
   "execution_count": 73,
   "id": "dfa43315",
   "metadata": {},
   "outputs": [],
   "source": [
    "energy_df =energy_df.iloc[:-1, :]"
   ]
  },
  {
   "cell_type": "code",
   "execution_count": 74,
   "id": "15147c5d",
   "metadata": {},
   "outputs": [],
   "source": [
    "import numpy as np\n",
    "energy_df[\"buy_sell_decision\"] = np.where(energy_df[\"energy_value_t+1\"] > energy_df[\"energy_value\"], 1, 0)"
   ]
  },
  {
   "cell_type": "code",
   "execution_count": 75,
   "id": "dcb69dbc",
   "metadata": {},
   "outputs": [
    {
     "data": {
      "text/html": [
       "<div>\n",
       "<style scoped>\n",
       "    .dataframe tbody tr th:only-of-type {\n",
       "        vertical-align: middle;\n",
       "    }\n",
       "\n",
       "    .dataframe tbody tr th {\n",
       "        vertical-align: top;\n",
       "    }\n",
       "\n",
       "    .dataframe thead th {\n",
       "        text-align: right;\n",
       "    }\n",
       "</style>\n",
       "<table border=\"1\" class=\"dataframe\">\n",
       "  <thead>\n",
       "    <tr style=\"text-align: right;\">\n",
       "      <th></th>\n",
       "      <th>Datetime</th>\n",
       "      <th>XOM_Close</th>\n",
       "      <th>CVX_Close</th>\n",
       "      <th>SHELL_Close</th>\n",
       "      <th>energy_value</th>\n",
       "      <th>energy_value_1</th>\n",
       "      <th>energy_value_2</th>\n",
       "      <th>energy_value_3</th>\n",
       "      <th>slope_x1</th>\n",
       "      <th>slope_x2</th>\n",
       "      <th>slope_x3</th>\n",
       "      <th>energy_value_t+1</th>\n",
       "      <th>buy_sell_decision</th>\n",
       "      <th>date</th>\n",
       "    </tr>\n",
       "  </thead>\n",
       "  <tbody>\n",
       "    <tr>\n",
       "      <th>0</th>\n",
       "      <td>2022-02-28 09:33:00-05:00</td>\n",
       "      <td>76.6045</td>\n",
       "      <td>139.589996</td>\n",
       "      <td>52.23</td>\n",
       "      <td>268.424496</td>\n",
       "      <td>268.299793</td>\n",
       "      <td>268.704998</td>\n",
       "      <td>268.549603</td>\n",
       "      <td>0.000465</td>\n",
       "      <td>-0.001508</td>\n",
       "      <td>0.000579</td>\n",
       "      <td>267.769897</td>\n",
       "      <td>0</td>\n",
       "      <td>2022-02-28</td>\n",
       "    </tr>\n",
       "  </tbody>\n",
       "</table>\n",
       "</div>"
      ],
      "text/plain": [
       "                   Datetime  XOM_Close   CVX_Close  SHELL_Close  energy_value  \\\n",
       "0 2022-02-28 09:33:00-05:00    76.6045  139.589996        52.23    268.424496   \n",
       "\n",
       "   energy_value_1  energy_value_2  energy_value_3  slope_x1  slope_x2  \\\n",
       "0      268.299793      268.704998      268.549603  0.000465 -0.001508   \n",
       "\n",
       "   slope_x3  energy_value_t+1  buy_sell_decision        date  \n",
       "0  0.000579        267.769897                  0  2022-02-28  "
      ]
     },
     "execution_count": 75,
     "metadata": {},
     "output_type": "execute_result"
    }
   ],
   "source": [
    "from datetime import datetime\n",
    "\n",
    "energy_df = energy_df.reset_index()\n",
    "energy_df[\"date\"] = energy_df[\"Datetime\"].apply(datetime.date)\n",
    "energy_df.head(1)"
   ]
  },
  {
   "cell_type": "code",
   "execution_count": 76,
   "id": "dc9da093",
   "metadata": {},
   "outputs": [],
   "source": [
    "energy_df = energy_df[[\"slope_x1\", \"slope_x2\", \"slope_x3\", \"buy_sell_decision\"]]"
   ]
  },
  {
   "cell_type": "code",
   "execution_count": 77,
   "id": "cbde6955",
   "metadata": {},
   "outputs": [],
   "source": [
    "energy_df.to_csv(r'clean_energy.csv')"
   ]
  },
  {
   "cell_type": "code",
   "execution_count": 78,
   "id": "acda6327",
   "metadata": {},
   "outputs": [
    {
     "data": {
      "text/html": [
       "<div>\n",
       "<style scoped>\n",
       "    .dataframe tbody tr th:only-of-type {\n",
       "        vertical-align: middle;\n",
       "    }\n",
       "\n",
       "    .dataframe tbody tr th {\n",
       "        vertical-align: top;\n",
       "    }\n",
       "\n",
       "    .dataframe thead th {\n",
       "        text-align: right;\n",
       "    }\n",
       "</style>\n",
       "<table border=\"1\" class=\"dataframe\">\n",
       "  <thead>\n",
       "    <tr style=\"text-align: right;\">\n",
       "      <th></th>\n",
       "      <th>_c0</th>\n",
       "      <th>slope_x1</th>\n",
       "      <th>slope_x2</th>\n",
       "      <th>slope_x3</th>\n",
       "      <th>buy_sell_decision</th>\n",
       "    </tr>\n",
       "  </thead>\n",
       "  <tbody>\n",
       "    <tr>\n",
       "      <th>0</th>\n",
       "      <td>0</td>\n",
       "      <td>0.000465</td>\n",
       "      <td>-0.001508</td>\n",
       "      <td>0.000579</td>\n",
       "      <td>0</td>\n",
       "    </tr>\n",
       "    <tr>\n",
       "      <th>1</th>\n",
       "      <td>1</td>\n",
       "      <td>-0.002439</td>\n",
       "      <td>0.000465</td>\n",
       "      <td>-0.001508</td>\n",
       "      <td>1</td>\n",
       "    </tr>\n",
       "  </tbody>\n",
       "</table>\n",
       "</div>"
      ],
      "text/plain": [
       "   _c0  slope_x1  slope_x2  slope_x3  buy_sell_decision\n",
       "0    0  0.000465 -0.001508  0.000579                  0\n",
       "1    1 -0.002439  0.000465 -0.001508                  1"
      ]
     },
     "execution_count": 78,
     "metadata": {},
     "output_type": "execute_result"
    }
   ],
   "source": [
    "energy_clean_df = spark.read.parquet(\"hdfs://localhost:9000/datalake/std/stocks/clean_energy_csv\")\n",
    "energy_clean_df.limit(2).toPandas()"
   ]
  },
  {
   "cell_type": "code",
   "execution_count": 79,
   "id": "b3047121",
   "metadata": {},
   "outputs": [],
   "source": [
    "energy_clean_df= energy_clean_df.withColumn(\"slope_x1\",energy_clean_df.slope_x1.cast('double'))\n",
    "energy_clean_df =energy_clean_df.withColumn(\"slope_x2\",energy_clean_df.slope_x2.cast('double'))\n",
    "energy_clean_df =energy_clean_df.withColumn(\"slope_x3\",energy_clean_df.slope_x3.cast('double'))"
   ]
  },
  {
   "cell_type": "code",
   "execution_count": 80,
   "id": "edb887a8",
   "metadata": {},
   "outputs": [],
   "source": [
    "energy_clean_df = energy_clean_df.drop(\"_c0\")\n",
    "energy_clean_df =energy_clean_df.withColumn(\"buy_sell_decision\",energy_clean_df.buy_sell_decision.cast('int'))"
   ]
  },
  {
   "cell_type": "code",
   "execution_count": 81,
   "id": "dae06b4b",
   "metadata": {},
   "outputs": [
    {
     "name": "stdout",
     "output_type": "stream",
     "text": [
      "Feature columns:  ['slope_x1', 'slope_x2', 'slope_x3']\n"
     ]
    }
   ],
   "source": [
    "from pyspark.ml.feature import StringIndexer\n",
    "\n",
    "label_colum = \"buy_sell_decision\"\n",
    "\n",
    "numericCols = [field for (field, dataType) in energy_clean_df.dtypes if ((dataType == \"double\") & (field != \"buy_sell_decision\"))]\n",
    "\n",
    "assemblerInputs = numericCols\n",
    "print(\"Feature columns: \",assemblerInputs)"
   ]
  },
  {
   "cell_type": "code",
   "execution_count": 82,
   "id": "cb1622e6",
   "metadata": {},
   "outputs": [],
   "source": [
    "vecAssembler = VectorAssembler(inputCols=assemblerInputs, outputCol=\"features\")\n",
    "\n",
    "test_pipeline = Pipeline(stages = [vecAssembler])\n",
    "\n",
    "features_df = test_pipeline.fit(energy_clean_df).transform(energy_clean_df)"
   ]
  },
  {
   "cell_type": "code",
   "execution_count": 83,
   "id": "52703e74",
   "metadata": {},
   "outputs": [],
   "source": [
    "seed = 42\n",
    "lr3 = LogisticRegression(labelCol=\"buy_sell_decision\", featuresCol=\"features\")\n",
    "dt3 = DecisionTreeClassifier(labelCol=\"buy_sell_decision\", featuresCol=\"features\",seed=seed)\n",
    "rf3 = RandomForestClassifier(labelCol=\"buy_sell_decision\", featuresCol=\"features\",maxDepth=10,seed=seed)\n",
    "gbt3 = GBTClassifier(labelCol=\"buy_sell_decision\", featuresCol=\"features\",maxIter=10,seed=seed)\n",
    "\n",
    "classifiers = [lr3,dt3,rf3,gbt3]"
   ]
  },
  {
   "cell_type": "code",
   "execution_count": 84,
   "id": "f9a4b659",
   "metadata": {},
   "outputs": [],
   "source": [
    "from pyspark.ml import Pipeline\n",
    "\n",
    "def create_pipeline(classifier):\n",
    "    return Pipeline(stages = [vecAssembler, classifier])\n",
    "\n",
    "pipelines = [create_pipeline(classifier) for classifier in classifiers]"
   ]
  },
  {
   "cell_type": "code",
   "execution_count": 85,
   "id": "8c0da3cf",
   "metadata": {},
   "outputs": [],
   "source": [
    "from pyspark.ml.evaluation import MulticlassClassificationEvaluator\n",
    "\n",
    "evaluator = MulticlassClassificationEvaluator(labelCol=\"buy_sell_decision\",  metricName=\"accuracy\")"
   ]
  },
  {
   "cell_type": "code",
   "execution_count": 86,
   "id": "eadc9c01",
   "metadata": {},
   "outputs": [],
   "source": [
    "seed = 42\n",
    "(x_train, x_test) = energy_clean_df.randomSplit([0.8,0.2],seed=seed)"
   ]
  },
  {
   "cell_type": "code",
   "execution_count": 87,
   "id": "cc63c1d0",
   "metadata": {},
   "outputs": [
    {
     "data": {
      "text/plain": [
       "[PipelineModel_6418ecf6b534,\n",
       " PipelineModel_71ea02bb583f,\n",
       " PipelineModel_8d5b8678ee9c,\n",
       " PipelineModel_2dfddb235638]"
      ]
     },
     "execution_count": 87,
     "metadata": {},
     "output_type": "execute_result"
    }
   ],
   "source": [
    "models = [pipeline.fit(x_train) for pipeline in pipelines]\n",
    "models"
   ]
  },
  {
   "cell_type": "code",
   "execution_count": 88,
   "id": "54bcca0e",
   "metadata": {},
   "outputs": [
    {
     "data": {
      "text/html": [
       "<div>\n",
       "<style scoped>\n",
       "    .dataframe tbody tr th:only-of-type {\n",
       "        vertical-align: middle;\n",
       "    }\n",
       "\n",
       "    .dataframe tbody tr th {\n",
       "        vertical-align: top;\n",
       "    }\n",
       "\n",
       "    .dataframe thead th {\n",
       "        text-align: right;\n",
       "    }\n",
       "</style>\n",
       "<table border=\"1\" class=\"dataframe\">\n",
       "  <thead>\n",
       "    <tr style=\"text-align: right;\">\n",
       "      <th></th>\n",
       "      <th>name</th>\n",
       "      <th>accuracy</th>\n",
       "      <th>model</th>\n",
       "    </tr>\n",
       "  </thead>\n",
       "  <tbody>\n",
       "    <tr>\n",
       "      <th>1</th>\n",
       "      <td>DecisionTreeClassificationModel</td>\n",
       "      <td>0.536585</td>\n",
       "      <td>PipelineModel_71ea02bb583f</td>\n",
       "    </tr>\n",
       "    <tr>\n",
       "      <th>0</th>\n",
       "      <td>LogisticRegressionModel</td>\n",
       "      <td>0.526829</td>\n",
       "      <td>PipelineModel_6418ecf6b534</td>\n",
       "    </tr>\n",
       "    <tr>\n",
       "      <th>2</th>\n",
       "      <td>RandomForestClassificationModel</td>\n",
       "      <td>0.502439</td>\n",
       "      <td>PipelineModel_8d5b8678ee9c</td>\n",
       "    </tr>\n",
       "    <tr>\n",
       "      <th>3</th>\n",
       "      <td>GBTClassificationModel</td>\n",
       "      <td>0.497561</td>\n",
       "      <td>PipelineModel_2dfddb235638</td>\n",
       "    </tr>\n",
       "  </tbody>\n",
       "</table>\n",
       "</div>"
      ],
      "text/plain": [
       "                              name  accuracy                       model\n",
       "1  DecisionTreeClassificationModel  0.536585  PipelineModel_71ea02bb583f\n",
       "0          LogisticRegressionModel  0.526829  PipelineModel_6418ecf6b534\n",
       "2  RandomForestClassificationModel  0.502439  PipelineModel_8d5b8678ee9c\n",
       "3           GBTClassificationModel  0.497561  PipelineModel_2dfddb235638"
      ]
     },
     "execution_count": 88,
     "metadata": {},
     "output_type": "execute_result"
    }
   ],
   "source": [
    "import pandas as pd\n",
    "names = []\n",
    "values = [] \n",
    "\n",
    "for model in models:\n",
    "    prediction_df = model.transform(x_test)\n",
    "    accuracy = evaluator.evaluate(prediction_df)\n",
    "    names.append(type(model.stages[-1]).__name__) # the algorithm is the last stage in the pipeline\n",
    "    values.append(accuracy)\n",
    "\n",
    "data = {'name':names,'accuracy':values,'model':models}\n",
    "df3 = pd.DataFrame(data)\n",
    "df3.sort_values(by=['accuracy'], inplace=True, ascending=False)  \n",
    "df3"
   ]
  },
  {
   "cell_type": "code",
   "execution_count": 89,
   "id": "16286ba9",
   "metadata": {},
   "outputs": [],
   "source": [
    "best_model=df3.iloc[0]['model']"
   ]
  },
  {
   "cell_type": "code",
   "execution_count": 90,
   "id": "c5c8968a",
   "metadata": {},
   "outputs": [
    {
     "name": "stderr",
     "output_type": "stream",
     "text": [
      "                                                                                \r"
     ]
    },
    {
     "data": {
      "text/html": [
       "<div>\n",
       "<style scoped>\n",
       "    .dataframe tbody tr th:only-of-type {\n",
       "        vertical-align: middle;\n",
       "    }\n",
       "\n",
       "    .dataframe tbody tr th {\n",
       "        vertical-align: top;\n",
       "    }\n",
       "\n",
       "    .dataframe thead th {\n",
       "        text-align: right;\n",
       "    }\n",
       "</style>\n",
       "<table border=\"1\" class=\"dataframe\">\n",
       "  <thead>\n",
       "    <tr style=\"text-align: right;\">\n",
       "      <th></th>\n",
       "      <th>buy_sell_decision</th>\n",
       "      <th>0.0</th>\n",
       "      <th>1.0</th>\n",
       "    </tr>\n",
       "  </thead>\n",
       "  <tbody>\n",
       "    <tr>\n",
       "      <th>0</th>\n",
       "      <td>1</td>\n",
       "      <td>43</td>\n",
       "      <td>69</td>\n",
       "    </tr>\n",
       "    <tr>\n",
       "      <th>1</th>\n",
       "      <td>0</td>\n",
       "      <td>41</td>\n",
       "      <td>52</td>\n",
       "    </tr>\n",
       "  </tbody>\n",
       "</table>\n",
       "</div>"
      ],
      "text/plain": [
       "   buy_sell_decision  0.0  1.0\n",
       "0                  1   43   69\n",
       "1                  0   41   52"
      ]
     },
     "execution_count": 90,
     "metadata": {},
     "output_type": "execute_result"
    }
   ],
   "source": [
    "best_model.transform(x_test).groupby(\"buy_sell_decision\").pivot(\"prediction\").count().toPandas()"
   ]
  },
  {
   "cell_type": "code",
   "execution_count": 91,
   "id": "8a320f15",
   "metadata": {},
   "outputs": [],
   "source": [
    "modelPath = \"hdfs://localhost:9000/model-registry/energy-stocks-classifier\"\n",
    "best_model.write().overwrite().save(modelPath)"
   ]
  },
  {
   "cell_type": "code",
   "execution_count": 92,
   "id": "3faadd08",
   "metadata": {},
   "outputs": [],
   "source": [
    "from pyspark.ml import PipelineModel\n",
    "savedModel = PipelineModel.load(modelPath)"
   ]
  },
  {
   "cell_type": "code",
   "execution_count": 93,
   "id": "808f5c79",
   "metadata": {},
   "outputs": [
    {
     "data": {
      "text/html": [
       "<div>\n",
       "<style scoped>\n",
       "    .dataframe tbody tr th:only-of-type {\n",
       "        vertical-align: middle;\n",
       "    }\n",
       "\n",
       "    .dataframe tbody tr th {\n",
       "        vertical-align: top;\n",
       "    }\n",
       "\n",
       "    .dataframe thead th {\n",
       "        text-align: right;\n",
       "    }\n",
       "</style>\n",
       "<table border=\"1\" class=\"dataframe\">\n",
       "  <thead>\n",
       "    <tr style=\"text-align: right;\">\n",
       "      <th></th>\n",
       "      <th>slope_x1</th>\n",
       "      <th>slope_x2</th>\n",
       "      <th>slope_x3</th>\n",
       "      <th>buy_sell_decision</th>\n",
       "      <th>features</th>\n",
       "      <th>rawPrediction</th>\n",
       "      <th>probability</th>\n",
       "      <th>prediction</th>\n",
       "    </tr>\n",
       "  </thead>\n",
       "  <tbody>\n",
       "    <tr>\n",
       "      <th>0</th>\n",
       "      <td>-0.002807</td>\n",
       "      <td>0.001774</td>\n",
       "      <td>-0.002336</td>\n",
       "      <td>1</td>\n",
       "      <td>[-0.00280688490142731, 0.0017742077411634035, ...</td>\n",
       "      <td>[2.0, 0.0]</td>\n",
       "      <td>[1.0, 0.0]</td>\n",
       "      <td>0.0</td>\n",
       "    </tr>\n",
       "    <tr>\n",
       "      <th>1</th>\n",
       "      <td>-0.002473</td>\n",
       "      <td>-0.000078</td>\n",
       "      <td>0.001562</td>\n",
       "      <td>0</td>\n",
       "      <td>[-0.0024734713314778795, -7.805700184633366e-0...</td>\n",
       "      <td>[55.0, 66.0]</td>\n",
       "      <td>[0.45454545454545453, 0.5454545454545454]</td>\n",
       "      <td>1.0</td>\n",
       "    </tr>\n",
       "    <tr>\n",
       "      <th>2</th>\n",
       "      <td>-0.002368</td>\n",
       "      <td>0.002965</td>\n",
       "      <td>0.000363</td>\n",
       "      <td>0</td>\n",
       "      <td>[-0.002368046942765487, 0.0029647028680362566,...</td>\n",
       "      <td>[4.0, 11.0]</td>\n",
       "      <td>[0.26666666666666666, 0.7333333333333333]</td>\n",
       "      <td>1.0</td>\n",
       "    </tr>\n",
       "    <tr>\n",
       "      <th>3</th>\n",
       "      <td>-0.002192</td>\n",
       "      <td>0.001754</td>\n",
       "      <td>-0.001045</td>\n",
       "      <td>1</td>\n",
       "      <td>[-0.0021923351926209475, 0.0017543671002370567...</td>\n",
       "      <td>[4.0, 11.0]</td>\n",
       "      <td>[0.26666666666666666, 0.7333333333333333]</td>\n",
       "      <td>1.0</td>\n",
       "    </tr>\n",
       "    <tr>\n",
       "      <th>4</th>\n",
       "      <td>-0.001828</td>\n",
       "      <td>-0.000924</td>\n",
       "      <td>0.002045</td>\n",
       "      <td>1</td>\n",
       "      <td>[-0.001828130058620124, -0.0009236437990173076...</td>\n",
       "      <td>[55.0, 66.0]</td>\n",
       "      <td>[0.45454545454545453, 0.5454545454545454]</td>\n",
       "      <td>1.0</td>\n",
       "    </tr>\n",
       "  </tbody>\n",
       "</table>\n",
       "</div>"
      ],
      "text/plain": [
       "   slope_x1  slope_x2  slope_x3  buy_sell_decision  \\\n",
       "0 -0.002807  0.001774 -0.002336                  1   \n",
       "1 -0.002473 -0.000078  0.001562                  0   \n",
       "2 -0.002368  0.002965  0.000363                  0   \n",
       "3 -0.002192  0.001754 -0.001045                  1   \n",
       "4 -0.001828 -0.000924  0.002045                  1   \n",
       "\n",
       "                                            features rawPrediction  \\\n",
       "0  [-0.00280688490142731, 0.0017742077411634035, ...    [2.0, 0.0]   \n",
       "1  [-0.0024734713314778795, -7.805700184633366e-0...  [55.0, 66.0]   \n",
       "2  [-0.002368046942765487, 0.0029647028680362566,...   [4.0, 11.0]   \n",
       "3  [-0.0021923351926209475, 0.0017543671002370567...   [4.0, 11.0]   \n",
       "4  [-0.001828130058620124, -0.0009236437990173076...  [55.0, 66.0]   \n",
       "\n",
       "                                 probability  prediction  \n",
       "0                                 [1.0, 0.0]         0.0  \n",
       "1  [0.45454545454545453, 0.5454545454545454]         1.0  \n",
       "2  [0.26666666666666666, 0.7333333333333333]         1.0  \n",
       "3  [0.26666666666666666, 0.7333333333333333]         1.0  \n",
       "4  [0.45454545454545453, 0.5454545454545454]         1.0  "
      ]
     },
     "execution_count": 93,
     "metadata": {},
     "output_type": "execute_result"
    }
   ],
   "source": [
    "energy_predictions = savedModel.transform(x_test)\n",
    "energy_predictions.select(\"features\", \"buy_sell_decision\", \"prediction\")\n",
    "energy_predictions.limit(5).toPandas()"
   ]
  },
  {
   "cell_type": "code",
   "execution_count": 94,
   "id": "133ac371",
   "metadata": {},
   "outputs": [],
   "source": [
    "energy_predictions.coalesce(1).write.format(\"json\").option(\"delimiter\", \",\").mode(\"overwrite\").save(\"MongoDB/energy_json\")"
   ]
  },
  {
   "cell_type": "markdown",
   "id": "14f872e7",
   "metadata": {},
   "source": [
    " "
   ]
  },
  {
   "cell_type": "markdown",
   "id": "71f7d2ec",
   "metadata": {},
   "source": [
    "# FINANCE INDUSTRY"
   ]
  },
  {
   "cell_type": "code",
   "execution_count": 95,
   "id": "0df85772",
   "metadata": {},
   "outputs": [
    {
     "data": {
      "text/html": [
       "<div>\n",
       "<style scoped>\n",
       "    .dataframe tbody tr th:only-of-type {\n",
       "        vertical-align: middle;\n",
       "    }\n",
       "\n",
       "    .dataframe tbody tr th {\n",
       "        vertical-align: top;\n",
       "    }\n",
       "\n",
       "    .dataframe thead th {\n",
       "        text-align: right;\n",
       "    }\n",
       "</style>\n",
       "<table border=\"1\" class=\"dataframe\">\n",
       "  <thead>\n",
       "    <tr style=\"text-align: right;\">\n",
       "      <th></th>\n",
       "      <th>Datetime</th>\n",
       "      <th>GS_Close</th>\n",
       "      <th>JPM_Close</th>\n",
       "      <th>AXP_Close</th>\n",
       "    </tr>\n",
       "  </thead>\n",
       "  <tbody>\n",
       "    <tr>\n",
       "      <th>0</th>\n",
       "      <td>2022-02-28 09:30:00-05:00</td>\n",
       "      <td>341.410004</td>\n",
       "      <td>144.029999</td>\n",
       "      <td>189.759995</td>\n",
       "    </tr>\n",
       "    <tr>\n",
       "      <th>1</th>\n",
       "      <td>2022-02-28 09:31:00-05:00</td>\n",
       "      <td>340.480011</td>\n",
       "      <td>143.940002</td>\n",
       "      <td>189.630005</td>\n",
       "    </tr>\n",
       "    <tr>\n",
       "      <th>2</th>\n",
       "      <td>2022-02-28 09:32:00-05:00</td>\n",
       "      <td>340.880005</td>\n",
       "      <td>143.630005</td>\n",
       "      <td>189.660004</td>\n",
       "    </tr>\n",
       "    <tr>\n",
       "      <th>3</th>\n",
       "      <td>2022-02-28 09:33:00-05:00</td>\n",
       "      <td>340.369995</td>\n",
       "      <td>143.720093</td>\n",
       "      <td>189.229996</td>\n",
       "    </tr>\n",
       "    <tr>\n",
       "      <th>4</th>\n",
       "      <td>2022-02-28 09:34:00-05:00</td>\n",
       "      <td>340.410004</td>\n",
       "      <td>143.824997</td>\n",
       "      <td>190.175003</td>\n",
       "    </tr>\n",
       "    <tr>\n",
       "      <th>...</th>\n",
       "      <td>...</td>\n",
       "      <td>...</td>\n",
       "      <td>...</td>\n",
       "      <td>...</td>\n",
       "    </tr>\n",
       "    <tr>\n",
       "      <th>1165</th>\n",
       "      <td>2022-03-02 15:55:00-05:00</td>\n",
       "      <td>336.690002</td>\n",
       "      <td>139.414993</td>\n",
       "      <td>180.110001</td>\n",
       "    </tr>\n",
       "    <tr>\n",
       "      <th>1166</th>\n",
       "      <td>2022-03-02 15:56:00-05:00</td>\n",
       "      <td>336.690002</td>\n",
       "      <td>139.289993</td>\n",
       "      <td>180.089996</td>\n",
       "    </tr>\n",
       "    <tr>\n",
       "      <th>1167</th>\n",
       "      <td>2022-03-02 15:57:00-05:00</td>\n",
       "      <td>336.350006</td>\n",
       "      <td>139.205002</td>\n",
       "      <td>180.005005</td>\n",
       "    </tr>\n",
       "    <tr>\n",
       "      <th>1168</th>\n",
       "      <td>2022-03-02 15:58:00-05:00</td>\n",
       "      <td>336.239990</td>\n",
       "      <td>139.110001</td>\n",
       "      <td>179.860001</td>\n",
       "    </tr>\n",
       "    <tr>\n",
       "      <th>1169</th>\n",
       "      <td>2022-03-02 15:59:00-05:00</td>\n",
       "      <td>336.390015</td>\n",
       "      <td>139.270004</td>\n",
       "      <td>180.210007</td>\n",
       "    </tr>\n",
       "  </tbody>\n",
       "</table>\n",
       "<p>1170 rows × 4 columns</p>\n",
       "</div>"
      ],
      "text/plain": [
       "                       Datetime    GS_Close   JPM_Close   AXP_Close\n",
       "0     2022-02-28 09:30:00-05:00  341.410004  144.029999  189.759995\n",
       "1     2022-02-28 09:31:00-05:00  340.480011  143.940002  189.630005\n",
       "2     2022-02-28 09:32:00-05:00  340.880005  143.630005  189.660004\n",
       "3     2022-02-28 09:33:00-05:00  340.369995  143.720093  189.229996\n",
       "4     2022-02-28 09:34:00-05:00  340.410004  143.824997  190.175003\n",
       "...                         ...         ...         ...         ...\n",
       "1165  2022-03-02 15:55:00-05:00  336.690002  139.414993  180.110001\n",
       "1166  2022-03-02 15:56:00-05:00  336.690002  139.289993  180.089996\n",
       "1167  2022-03-02 15:57:00-05:00  336.350006  139.205002  180.005005\n",
       "1168  2022-03-02 15:58:00-05:00  336.239990  139.110001  179.860001\n",
       "1169  2022-03-02 15:59:00-05:00  336.390015  139.270004  180.210007\n",
       "\n",
       "[1170 rows x 4 columns]"
      ]
     },
     "execution_count": 95,
     "metadata": {},
     "output_type": "execute_result"
    }
   ],
   "source": [
    "finance_df = spark.read.parquet(\"hdfs://localhost:9000/datalake/std/stocks/finance\").toPandas().ffill()\n",
    "finance_df"
   ]
  },
  {
   "cell_type": "code",
   "execution_count": 96,
   "id": "fca14ff1",
   "metadata": {},
   "outputs": [
    {
     "data": {
      "text/html": [
       "<div>\n",
       "<style scoped>\n",
       "    .dataframe tbody tr th:only-of-type {\n",
       "        vertical-align: middle;\n",
       "    }\n",
       "\n",
       "    .dataframe tbody tr th {\n",
       "        vertical-align: top;\n",
       "    }\n",
       "\n",
       "    .dataframe thead th {\n",
       "        text-align: right;\n",
       "    }\n",
       "</style>\n",
       "<table border=\"1\" class=\"dataframe\">\n",
       "  <thead>\n",
       "    <tr style=\"text-align: right;\">\n",
       "      <th></th>\n",
       "      <th>Datetime</th>\n",
       "      <th>GS_Close</th>\n",
       "      <th>JPM_Close</th>\n",
       "      <th>AXP_Close</th>\n",
       "    </tr>\n",
       "  </thead>\n",
       "  <tbody>\n",
       "    <tr>\n",
       "      <th>0</th>\n",
       "      <td>2022-02-28 09:30:00-05:00</td>\n",
       "      <td>341.410004</td>\n",
       "      <td>144.029999</td>\n",
       "      <td>189.759995</td>\n",
       "    </tr>\n",
       "    <tr>\n",
       "      <th>1</th>\n",
       "      <td>2022-02-28 09:31:00-05:00</td>\n",
       "      <td>340.480011</td>\n",
       "      <td>143.940002</td>\n",
       "      <td>189.630005</td>\n",
       "    </tr>\n",
       "    <tr>\n",
       "      <th>2</th>\n",
       "      <td>2022-02-28 09:32:00-05:00</td>\n",
       "      <td>340.880005</td>\n",
       "      <td>143.630005</td>\n",
       "      <td>189.660004</td>\n",
       "    </tr>\n",
       "    <tr>\n",
       "      <th>3</th>\n",
       "      <td>2022-02-28 09:33:00-05:00</td>\n",
       "      <td>340.369995</td>\n",
       "      <td>143.720093</td>\n",
       "      <td>189.229996</td>\n",
       "    </tr>\n",
       "    <tr>\n",
       "      <th>4</th>\n",
       "      <td>2022-02-28 09:34:00-05:00</td>\n",
       "      <td>340.410004</td>\n",
       "      <td>143.824997</td>\n",
       "      <td>190.175003</td>\n",
       "    </tr>\n",
       "  </tbody>\n",
       "</table>\n",
       "</div>"
      ],
      "text/plain": [
       "                   Datetime    GS_Close   JPM_Close   AXP_Close\n",
       "0 2022-02-28 09:30:00-05:00  341.410004  144.029999  189.759995\n",
       "1 2022-02-28 09:31:00-05:00  340.480011  143.940002  189.630005\n",
       "2 2022-02-28 09:32:00-05:00  340.880005  143.630005  189.660004\n",
       "3 2022-02-28 09:33:00-05:00  340.369995  143.720093  189.229996\n",
       "4 2022-02-28 09:34:00-05:00  340.410004  143.824997  190.175003"
      ]
     },
     "execution_count": 96,
     "metadata": {},
     "output_type": "execute_result"
    }
   ],
   "source": [
    "import pandas as pd\n",
    "finance_df[\"Datetime\"] = pd.to_datetime(finance_df[\"Datetime\"])\n",
    "finance_df.head(5)"
   ]
  },
  {
   "cell_type": "code",
   "execution_count": 97,
   "id": "f88c7b02",
   "metadata": {},
   "outputs": [
    {
     "data": {
      "text/html": [
       "<div>\n",
       "<style scoped>\n",
       "    .dataframe tbody tr th:only-of-type {\n",
       "        vertical-align: middle;\n",
       "    }\n",
       "\n",
       "    .dataframe tbody tr th {\n",
       "        vertical-align: top;\n",
       "    }\n",
       "\n",
       "    .dataframe thead th {\n",
       "        text-align: right;\n",
       "    }\n",
       "</style>\n",
       "<table border=\"1\" class=\"dataframe\">\n",
       "  <thead>\n",
       "    <tr style=\"text-align: right;\">\n",
       "      <th></th>\n",
       "      <th>GS_Close</th>\n",
       "      <th>JPM_Close</th>\n",
       "      <th>AXP_Close</th>\n",
       "    </tr>\n",
       "    <tr>\n",
       "      <th>Datetime</th>\n",
       "      <th></th>\n",
       "      <th></th>\n",
       "      <th></th>\n",
       "    </tr>\n",
       "  </thead>\n",
       "  <tbody>\n",
       "    <tr>\n",
       "      <th>2022-02-28 09:30:00-05:00</th>\n",
       "      <td>341.410004</td>\n",
       "      <td>144.029999</td>\n",
       "      <td>189.759995</td>\n",
       "    </tr>\n",
       "    <tr>\n",
       "      <th>2022-02-28 09:31:00-05:00</th>\n",
       "      <td>340.480011</td>\n",
       "      <td>143.940002</td>\n",
       "      <td>189.630005</td>\n",
       "    </tr>\n",
       "    <tr>\n",
       "      <th>2022-02-28 09:32:00-05:00</th>\n",
       "      <td>340.880005</td>\n",
       "      <td>143.630005</td>\n",
       "      <td>189.660004</td>\n",
       "    </tr>\n",
       "    <tr>\n",
       "      <th>2022-02-28 09:33:00-05:00</th>\n",
       "      <td>340.369995</td>\n",
       "      <td>143.720093</td>\n",
       "      <td>189.229996</td>\n",
       "    </tr>\n",
       "    <tr>\n",
       "      <th>2022-02-28 09:34:00-05:00</th>\n",
       "      <td>340.410004</td>\n",
       "      <td>143.824997</td>\n",
       "      <td>190.175003</td>\n",
       "    </tr>\n",
       "    <tr>\n",
       "      <th>...</th>\n",
       "      <td>...</td>\n",
       "      <td>...</td>\n",
       "      <td>...</td>\n",
       "    </tr>\n",
       "    <tr>\n",
       "      <th>2022-03-02 15:55:00-05:00</th>\n",
       "      <td>336.690002</td>\n",
       "      <td>139.414993</td>\n",
       "      <td>180.110001</td>\n",
       "    </tr>\n",
       "    <tr>\n",
       "      <th>2022-03-02 15:56:00-05:00</th>\n",
       "      <td>336.690002</td>\n",
       "      <td>139.289993</td>\n",
       "      <td>180.089996</td>\n",
       "    </tr>\n",
       "    <tr>\n",
       "      <th>2022-03-02 15:57:00-05:00</th>\n",
       "      <td>336.350006</td>\n",
       "      <td>139.205002</td>\n",
       "      <td>180.005005</td>\n",
       "    </tr>\n",
       "    <tr>\n",
       "      <th>2022-03-02 15:58:00-05:00</th>\n",
       "      <td>336.239990</td>\n",
       "      <td>139.110001</td>\n",
       "      <td>179.860001</td>\n",
       "    </tr>\n",
       "    <tr>\n",
       "      <th>2022-03-02 15:59:00-05:00</th>\n",
       "      <td>336.390015</td>\n",
       "      <td>139.270004</td>\n",
       "      <td>180.210007</td>\n",
       "    </tr>\n",
       "  </tbody>\n",
       "</table>\n",
       "<p>1170 rows × 3 columns</p>\n",
       "</div>"
      ],
      "text/plain": [
       "                             GS_Close   JPM_Close   AXP_Close\n",
       "Datetime                                                     \n",
       "2022-02-28 09:30:00-05:00  341.410004  144.029999  189.759995\n",
       "2022-02-28 09:31:00-05:00  340.480011  143.940002  189.630005\n",
       "2022-02-28 09:32:00-05:00  340.880005  143.630005  189.660004\n",
       "2022-02-28 09:33:00-05:00  340.369995  143.720093  189.229996\n",
       "2022-02-28 09:34:00-05:00  340.410004  143.824997  190.175003\n",
       "...                               ...         ...         ...\n",
       "2022-03-02 15:55:00-05:00  336.690002  139.414993  180.110001\n",
       "2022-03-02 15:56:00-05:00  336.690002  139.289993  180.089996\n",
       "2022-03-02 15:57:00-05:00  336.350006  139.205002  180.005005\n",
       "2022-03-02 15:58:00-05:00  336.239990  139.110001  179.860001\n",
       "2022-03-02 15:59:00-05:00  336.390015  139.270004  180.210007\n",
       "\n",
       "[1170 rows x 3 columns]"
      ]
     },
     "execution_count": 97,
     "metadata": {},
     "output_type": "execute_result"
    }
   ],
   "source": [
    "finance_df = finance_df.set_index(\"Datetime\")\n",
    "finance_df"
   ]
  },
  {
   "cell_type": "code",
   "execution_count": 98,
   "id": "9b07a579",
   "metadata": {},
   "outputs": [
    {
     "data": {
      "text/html": [
       "<div>\n",
       "<style scoped>\n",
       "    .dataframe tbody tr th:only-of-type {\n",
       "        vertical-align: middle;\n",
       "    }\n",
       "\n",
       "    .dataframe tbody tr th {\n",
       "        vertical-align: top;\n",
       "    }\n",
       "\n",
       "    .dataframe thead th {\n",
       "        text-align: right;\n",
       "    }\n",
       "</style>\n",
       "<table border=\"1\" class=\"dataframe\">\n",
       "  <thead>\n",
       "    <tr style=\"text-align: right;\">\n",
       "      <th></th>\n",
       "      <th>GS_Close</th>\n",
       "      <th>JPM_Close</th>\n",
       "      <th>AXP_Close</th>\n",
       "      <th>finance_value</th>\n",
       "    </tr>\n",
       "    <tr>\n",
       "      <th>Datetime</th>\n",
       "      <th></th>\n",
       "      <th></th>\n",
       "      <th></th>\n",
       "      <th></th>\n",
       "    </tr>\n",
       "  </thead>\n",
       "  <tbody>\n",
       "    <tr>\n",
       "      <th>2022-02-28 09:30:00-05:00</th>\n",
       "      <td>341.410004</td>\n",
       "      <td>144.029999</td>\n",
       "      <td>189.759995</td>\n",
       "      <td>675.199997</td>\n",
       "    </tr>\n",
       "  </tbody>\n",
       "</table>\n",
       "</div>"
      ],
      "text/plain": [
       "                             GS_Close   JPM_Close   AXP_Close  finance_value\n",
       "Datetime                                                                    \n",
       "2022-02-28 09:30:00-05:00  341.410004  144.029999  189.759995     675.199997"
      ]
     },
     "execution_count": 98,
     "metadata": {},
     "output_type": "execute_result"
    }
   ],
   "source": [
    "finance_df[\"finance_value\"] =finance_df.apply(lambda row: row.GS_Close + row.JPM_Close + row.AXP_Close, axis=1)\n",
    "finance_df.head(1)"
   ]
  },
  {
   "cell_type": "code",
   "execution_count": 99,
   "id": "e2b35aa3",
   "metadata": {},
   "outputs": [],
   "source": [
    "lags = [1,2,3]\n",
    "\n",
    "for lag in lags:\n",
    "    finance_df[f\"finance_value_{lag}\"] = finance_df[\"finance_value\"].shift(lag)"
   ]
  },
  {
   "cell_type": "code",
   "execution_count": 100,
   "id": "6011a32e",
   "metadata": {},
   "outputs": [
    {
     "data": {
      "text/html": [
       "<div>\n",
       "<style scoped>\n",
       "    .dataframe tbody tr th:only-of-type {\n",
       "        vertical-align: middle;\n",
       "    }\n",
       "\n",
       "    .dataframe tbody tr th {\n",
       "        vertical-align: top;\n",
       "    }\n",
       "\n",
       "    .dataframe thead th {\n",
       "        text-align: right;\n",
       "    }\n",
       "</style>\n",
       "<table border=\"1\" class=\"dataframe\">\n",
       "  <thead>\n",
       "    <tr style=\"text-align: right;\">\n",
       "      <th></th>\n",
       "      <th>GS_Close</th>\n",
       "      <th>JPM_Close</th>\n",
       "      <th>AXP_Close</th>\n",
       "      <th>finance_value</th>\n",
       "      <th>finance_value_1</th>\n",
       "      <th>finance_value_2</th>\n",
       "      <th>finance_value_3</th>\n",
       "    </tr>\n",
       "    <tr>\n",
       "      <th>Datetime</th>\n",
       "      <th></th>\n",
       "      <th></th>\n",
       "      <th></th>\n",
       "      <th></th>\n",
       "      <th></th>\n",
       "      <th></th>\n",
       "      <th></th>\n",
       "    </tr>\n",
       "  </thead>\n",
       "  <tbody>\n",
       "    <tr>\n",
       "      <th>2022-02-28 09:30:00-05:00</th>\n",
       "      <td>341.410004</td>\n",
       "      <td>144.029999</td>\n",
       "      <td>189.759995</td>\n",
       "      <td>675.199997</td>\n",
       "      <td>NaN</td>\n",
       "      <td>NaN</td>\n",
       "      <td>NaN</td>\n",
       "    </tr>\n",
       "    <tr>\n",
       "      <th>2022-02-28 09:31:00-05:00</th>\n",
       "      <td>340.480011</td>\n",
       "      <td>143.940002</td>\n",
       "      <td>189.630005</td>\n",
       "      <td>674.050018</td>\n",
       "      <td>675.199997</td>\n",
       "      <td>NaN</td>\n",
       "      <td>NaN</td>\n",
       "    </tr>\n",
       "  </tbody>\n",
       "</table>\n",
       "</div>"
      ],
      "text/plain": [
       "                             GS_Close   JPM_Close   AXP_Close  finance_value  \\\n",
       "Datetime                                                                       \n",
       "2022-02-28 09:30:00-05:00  341.410004  144.029999  189.759995     675.199997   \n",
       "2022-02-28 09:31:00-05:00  340.480011  143.940002  189.630005     674.050018   \n",
       "\n",
       "                           finance_value_1  finance_value_2  finance_value_3  \n",
       "Datetime                                                                      \n",
       "2022-02-28 09:30:00-05:00              NaN              NaN              NaN  \n",
       "2022-02-28 09:31:00-05:00       675.199997              NaN              NaN  "
      ]
     },
     "execution_count": 100,
     "metadata": {},
     "output_type": "execute_result"
    }
   ],
   "source": [
    "finance_df.head(2)"
   ]
  },
  {
   "cell_type": "code",
   "execution_count": 101,
   "id": "bc609fbf",
   "metadata": {},
   "outputs": [
    {
     "name": "stderr",
     "output_type": "stream",
     "text": [
      "/usr/local/lib/python3.7/dist-packages/ipykernel_launcher.py:3: SettingWithCopyWarning: \n",
      "A value is trying to be set on a copy of a slice from a DataFrame.\n",
      "Try using .loc[row_indexer,col_indexer] = value instead\n",
      "\n",
      "See the caveats in the documentation: https://pandas.pydata.org/pandas-docs/stable/user_guide/indexing.html#returning-a-view-versus-a-copy\n",
      "  This is separate from the ipykernel package so we can avoid doing imports until\n",
      "/usr/local/lib/python3.7/dist-packages/ipykernel_launcher.py:4: SettingWithCopyWarning: \n",
      "A value is trying to be set on a copy of a slice from a DataFrame.\n",
      "Try using .loc[row_indexer,col_indexer] = value instead\n",
      "\n",
      "See the caveats in the documentation: https://pandas.pydata.org/pandas-docs/stable/user_guide/indexing.html#returning-a-view-versus-a-copy\n",
      "  after removing the cwd from sys.path.\n",
      "/usr/local/lib/python3.7/dist-packages/ipykernel_launcher.py:5: SettingWithCopyWarning: \n",
      "A value is trying to be set on a copy of a slice from a DataFrame.\n",
      "Try using .loc[row_indexer,col_indexer] = value instead\n",
      "\n",
      "See the caveats in the documentation: https://pandas.pydata.org/pandas-docs/stable/user_guide/indexing.html#returning-a-view-versus-a-copy\n",
      "  \"\"\"\n",
      "/usr/local/lib/python3.7/dist-packages/ipykernel_launcher.py:6: SettingWithCopyWarning: \n",
      "A value is trying to be set on a copy of a slice from a DataFrame.\n",
      "Try using .loc[row_indexer,col_indexer] = value instead\n",
      "\n",
      "See the caveats in the documentation: https://pandas.pydata.org/pandas-docs/stable/user_guide/indexing.html#returning-a-view-versus-a-copy\n",
      "  \n"
     ]
    }
   ],
   "source": [
    "finance_df = finance_df.iloc[3:, :]\n",
    "\n",
    "finance_df[\"slope_x1\"] = (finance_df[\"finance_value\"] - finance_df[\"finance_value_1\"]) / finance_df[\"finance_value_1\"]\n",
    "finance_df[\"slope_x2\"] = (finance_df[\"finance_value_1\"] - finance_df[\"finance_value_2\"]) / finance_df[\"finance_value_2\"]\n",
    "finance_df[\"slope_x3\"] = (finance_df[\"finance_value_2\"] - finance_df[\"finance_value_3\"]) / finance_df[\"finance_value_3\"]\n",
    "finance_df[\"finance_value_t+1\"] = finance_df[\"finance_value\"].shift(lag)\n",
    "\n",
    "finance_df =finance_df.iloc[:-1, :]\n"
   ]
  },
  {
   "cell_type": "code",
   "execution_count": 102,
   "id": "18b027c6",
   "metadata": {},
   "outputs": [],
   "source": [
    "finance_df[\"buy_sell_decision\"] = np.where(finance_df[\"finance_value_t+1\"] > finance_df[\"finance_value\"], 1, 0)"
   ]
  },
  {
   "cell_type": "code",
   "execution_count": 103,
   "id": "9efac26f",
   "metadata": {},
   "outputs": [
    {
     "data": {
      "text/html": [
       "<div>\n",
       "<style scoped>\n",
       "    .dataframe tbody tr th:only-of-type {\n",
       "        vertical-align: middle;\n",
       "    }\n",
       "\n",
       "    .dataframe tbody tr th {\n",
       "        vertical-align: top;\n",
       "    }\n",
       "\n",
       "    .dataframe thead th {\n",
       "        text-align: right;\n",
       "    }\n",
       "</style>\n",
       "<table border=\"1\" class=\"dataframe\">\n",
       "  <thead>\n",
       "    <tr style=\"text-align: right;\">\n",
       "      <th></th>\n",
       "      <th>Datetime</th>\n",
       "      <th>GS_Close</th>\n",
       "      <th>JPM_Close</th>\n",
       "      <th>AXP_Close</th>\n",
       "      <th>finance_value</th>\n",
       "      <th>finance_value_1</th>\n",
       "      <th>finance_value_2</th>\n",
       "      <th>finance_value_3</th>\n",
       "      <th>slope_x1</th>\n",
       "      <th>slope_x2</th>\n",
       "      <th>slope_x3</th>\n",
       "      <th>finance_value_t+1</th>\n",
       "      <th>buy_sell_decision</th>\n",
       "      <th>date</th>\n",
       "    </tr>\n",
       "  </thead>\n",
       "  <tbody>\n",
       "    <tr>\n",
       "      <th>0</th>\n",
       "      <td>2022-02-28 09:33:00-05:00</td>\n",
       "      <td>340.369995</td>\n",
       "      <td>143.720093</td>\n",
       "      <td>189.229996</td>\n",
       "      <td>673.320084</td>\n",
       "      <td>674.170013</td>\n",
       "      <td>674.050018</td>\n",
       "      <td>675.199997</td>\n",
       "      <td>-0.001261</td>\n",
       "      <td>0.000178</td>\n",
       "      <td>-0.001703</td>\n",
       "      <td>NaN</td>\n",
       "      <td>0</td>\n",
       "      <td>2022-02-28</td>\n",
       "    </tr>\n",
       "  </tbody>\n",
       "</table>\n",
       "</div>"
      ],
      "text/plain": [
       "                   Datetime    GS_Close   JPM_Close   AXP_Close  \\\n",
       "0 2022-02-28 09:33:00-05:00  340.369995  143.720093  189.229996   \n",
       "\n",
       "   finance_value  finance_value_1  finance_value_2  finance_value_3  slope_x1  \\\n",
       "0     673.320084       674.170013       674.050018       675.199997 -0.001261   \n",
       "\n",
       "   slope_x2  slope_x3  finance_value_t+1  buy_sell_decision        date  \n",
       "0  0.000178 -0.001703                NaN                  0  2022-02-28  "
      ]
     },
     "execution_count": 103,
     "metadata": {},
     "output_type": "execute_result"
    }
   ],
   "source": [
    "finance_df = finance_df.reset_index()\n",
    "finance_df[\"date\"] = finance_df[\"Datetime\"].apply(datetime.date)\n",
    "finance_df.head(1)"
   ]
  },
  {
   "cell_type": "code",
   "execution_count": 104,
   "id": "9e1aae22",
   "metadata": {},
   "outputs": [],
   "source": [
    "finance_df =finance_df[[\"slope_x1\", \"slope_x2\", \"slope_x3\", \"buy_sell_decision\"]]\n",
    "finance_df.to_csv(r'clean_finance.csv')"
   ]
  },
  {
   "cell_type": "code",
   "execution_count": 105,
   "id": "a68cd642",
   "metadata": {},
   "outputs": [
    {
     "data": {
      "text/html": [
       "<div>\n",
       "<style scoped>\n",
       "    .dataframe tbody tr th:only-of-type {\n",
       "        vertical-align: middle;\n",
       "    }\n",
       "\n",
       "    .dataframe tbody tr th {\n",
       "        vertical-align: top;\n",
       "    }\n",
       "\n",
       "    .dataframe thead th {\n",
       "        text-align: right;\n",
       "    }\n",
       "</style>\n",
       "<table border=\"1\" class=\"dataframe\">\n",
       "  <thead>\n",
       "    <tr style=\"text-align: right;\">\n",
       "      <th></th>\n",
       "      <th>_c0</th>\n",
       "      <th>slope_x1</th>\n",
       "      <th>slope_x2</th>\n",
       "      <th>slope_x3</th>\n",
       "      <th>buy_sell_decision</th>\n",
       "    </tr>\n",
       "  </thead>\n",
       "  <tbody>\n",
       "    <tr>\n",
       "      <th>0</th>\n",
       "      <td>0</td>\n",
       "      <td>-0.001261</td>\n",
       "      <td>0.000178</td>\n",
       "      <td>-0.001703</td>\n",
       "      <td>0</td>\n",
       "    </tr>\n",
       "    <tr>\n",
       "      <th>1</th>\n",
       "      <td>1</td>\n",
       "      <td>0.001619</td>\n",
       "      <td>-0.001261</td>\n",
       "      <td>0.000178</td>\n",
       "      <td>0</td>\n",
       "    </tr>\n",
       "    <tr>\n",
       "      <th>2</th>\n",
       "      <td>2</td>\n",
       "      <td>0.001676</td>\n",
       "      <td>0.001619</td>\n",
       "      <td>-0.001261</td>\n",
       "      <td>0</td>\n",
       "    </tr>\n",
       "    <tr>\n",
       "      <th>3</th>\n",
       "      <td>3</td>\n",
       "      <td>0.003242</td>\n",
       "      <td>0.001676</td>\n",
       "      <td>0.001619</td>\n",
       "      <td>0</td>\n",
       "    </tr>\n",
       "    <tr>\n",
       "      <th>4</th>\n",
       "      <td>4</td>\n",
       "      <td>-0.001719</td>\n",
       "      <td>0.003242</td>\n",
       "      <td>0.001676</td>\n",
       "      <td>0</td>\n",
       "    </tr>\n",
       "  </tbody>\n",
       "</table>\n",
       "</div>"
      ],
      "text/plain": [
       "   _c0  slope_x1  slope_x2  slope_x3  buy_sell_decision\n",
       "0    0 -0.001261  0.000178 -0.001703                  0\n",
       "1    1  0.001619 -0.001261  0.000178                  0\n",
       "2    2  0.001676  0.001619 -0.001261                  0\n",
       "3    3  0.003242  0.001676  0.001619                  0\n",
       "4    4 -0.001719  0.003242  0.001676                  0"
      ]
     },
     "execution_count": 105,
     "metadata": {},
     "output_type": "execute_result"
    }
   ],
   "source": [
    "finance_clean_df = spark.read.parquet(\"hdfs://localhost:9000/datalake/std/stocks/clean_finance_csv\")\n",
    "finance_clean_df.limit(5).toPandas()"
   ]
  },
  {
   "cell_type": "code",
   "execution_count": 106,
   "id": "8f61991d",
   "metadata": {},
   "outputs": [],
   "source": [
    "finance_clean_df= finance_clean_df.withColumn(\"slope_x1\",finance_clean_df.slope_x1.cast('double'))\n",
    "finance_clean_df =finance_clean_df.withColumn(\"slope_x2\",finance_clean_df.slope_x2.cast('double'))\n",
    "finance_clean_df =finance_clean_df.withColumn(\"slope_x3\",finance_clean_df.slope_x3.cast('double'))"
   ]
  },
  {
   "cell_type": "code",
   "execution_count": 107,
   "id": "c57f2a88",
   "metadata": {},
   "outputs": [],
   "source": [
    "finance_clean_df = finance_clean_df.drop(\"_c0\")\n",
    "finance_clean_df =finance_clean_df.withColumn(\"buy_sell_decision\",finance_clean_df.buy_sell_decision.cast('int'))"
   ]
  },
  {
   "cell_type": "code",
   "execution_count": 108,
   "id": "d07e007d",
   "metadata": {},
   "outputs": [
    {
     "name": "stdout",
     "output_type": "stream",
     "text": [
      "Feature columns:  ['slope_x1', 'slope_x2', 'slope_x3']\n"
     ]
    }
   ],
   "source": [
    "from pyspark.ml.feature import StringIndexer\n",
    "\n",
    "label_colum = \"buy_sell_decision\"\n",
    "\n",
    "numericCols = [field for (field, dataType) in finance_clean_df.dtypes if ((dataType == \"double\") & (field != \"buy_sell_decision\"))]\n",
    "\n",
    "assemblerInputs = numericCols\n",
    "print(\"Feature columns: \",assemblerInputs)"
   ]
  },
  {
   "cell_type": "code",
   "execution_count": 109,
   "id": "78b3c231",
   "metadata": {},
   "outputs": [],
   "source": [
    "vecAssembler = VectorAssembler(inputCols=assemblerInputs, outputCol=\"features\")\n",
    "\n",
    "test_pipeline = Pipeline(stages = [vecAssembler])\n",
    "\n",
    "features_df = test_pipeline.fit(finance_clean_df).transform(finance_clean_df)"
   ]
  },
  {
   "cell_type": "code",
   "execution_count": 110,
   "id": "17b7117c",
   "metadata": {},
   "outputs": [],
   "source": [
    "seed = 42\n",
    "lr4 = LogisticRegression(labelCol=\"buy_sell_decision\", featuresCol=\"features\")\n",
    "dt4 = DecisionTreeClassifier(labelCol=\"buy_sell_decision\", featuresCol=\"features\",seed=seed)\n",
    "rf4 = RandomForestClassifier(labelCol=\"buy_sell_decision\", featuresCol=\"features\",maxDepth=10,seed=seed)\n",
    "gbt4 = GBTClassifier(labelCol=\"buy_sell_decision\", featuresCol=\"features\",maxIter=10,seed=seed)\n",
    "\n",
    "classifiers = [lr4,dt4,rf4,gbt4]"
   ]
  },
  {
   "cell_type": "code",
   "execution_count": 111,
   "id": "27d9fd04",
   "metadata": {},
   "outputs": [],
   "source": [
    "from pyspark.ml import Pipeline\n",
    "\n",
    "def create_pipeline(classifier):\n",
    "    return Pipeline(stages = [vecAssembler, classifier])\n",
    "\n",
    "pipelines = [create_pipeline(classifier) for classifier in classifiers]"
   ]
  },
  {
   "cell_type": "code",
   "execution_count": 112,
   "id": "2e0b3579",
   "metadata": {},
   "outputs": [],
   "source": [
    "from pyspark.ml.evaluation import MulticlassClassificationEvaluator\n",
    "\n",
    "evaluator = MulticlassClassificationEvaluator(labelCol=\"buy_sell_decision\",  metricName=\"accuracy\")"
   ]
  },
  {
   "cell_type": "code",
   "execution_count": 113,
   "id": "165dc5ac",
   "metadata": {},
   "outputs": [],
   "source": [
    "seed = 42\n",
    "(x_train, x_test) = finance_clean_df.randomSplit([0.8,0.2],seed=seed)"
   ]
  },
  {
   "cell_type": "code",
   "execution_count": 114,
   "id": "069fd677",
   "metadata": {},
   "outputs": [
    {
     "data": {
      "text/plain": [
       "[PipelineModel_aa6f8fd39354,\n",
       " PipelineModel_1eb75404f0f0,\n",
       " PipelineModel_dd6aba238ed1,\n",
       " PipelineModel_bba9738c54df]"
      ]
     },
     "execution_count": 114,
     "metadata": {},
     "output_type": "execute_result"
    }
   ],
   "source": [
    "models = [pipeline.fit(x_train) for pipeline in pipelines]\n",
    "models"
   ]
  },
  {
   "cell_type": "code",
   "execution_count": 115,
   "id": "397cd03f",
   "metadata": {},
   "outputs": [
    {
     "data": {
      "text/html": [
       "<div>\n",
       "<style scoped>\n",
       "    .dataframe tbody tr th:only-of-type {\n",
       "        vertical-align: middle;\n",
       "    }\n",
       "\n",
       "    .dataframe tbody tr th {\n",
       "        vertical-align: top;\n",
       "    }\n",
       "\n",
       "    .dataframe thead th {\n",
       "        text-align: right;\n",
       "    }\n",
       "</style>\n",
       "<table border=\"1\" class=\"dataframe\">\n",
       "  <thead>\n",
       "    <tr style=\"text-align: right;\">\n",
       "      <th></th>\n",
       "      <th>name</th>\n",
       "      <th>accuracy</th>\n",
       "      <th>model</th>\n",
       "    </tr>\n",
       "  </thead>\n",
       "  <tbody>\n",
       "    <tr>\n",
       "      <th>0</th>\n",
       "      <td>LogisticRegressionModel</td>\n",
       "      <td>1.000000</td>\n",
       "      <td>PipelineModel_aa6f8fd39354</td>\n",
       "    </tr>\n",
       "    <tr>\n",
       "      <th>2</th>\n",
       "      <td>RandomForestClassificationModel</td>\n",
       "      <td>0.931707</td>\n",
       "      <td>PipelineModel_dd6aba238ed1</td>\n",
       "    </tr>\n",
       "    <tr>\n",
       "      <th>3</th>\n",
       "      <td>GBTClassificationModel</td>\n",
       "      <td>0.878049</td>\n",
       "      <td>PipelineModel_bba9738c54df</td>\n",
       "    </tr>\n",
       "    <tr>\n",
       "      <th>1</th>\n",
       "      <td>DecisionTreeClassificationModel</td>\n",
       "      <td>0.873171</td>\n",
       "      <td>PipelineModel_1eb75404f0f0</td>\n",
       "    </tr>\n",
       "  </tbody>\n",
       "</table>\n",
       "</div>"
      ],
      "text/plain": [
       "                              name  accuracy                       model\n",
       "0          LogisticRegressionModel  1.000000  PipelineModel_aa6f8fd39354\n",
       "2  RandomForestClassificationModel  0.931707  PipelineModel_dd6aba238ed1\n",
       "3           GBTClassificationModel  0.878049  PipelineModel_bba9738c54df\n",
       "1  DecisionTreeClassificationModel  0.873171  PipelineModel_1eb75404f0f0"
      ]
     },
     "execution_count": 115,
     "metadata": {},
     "output_type": "execute_result"
    }
   ],
   "source": [
    "import pandas as pd\n",
    "names = []\n",
    "values = [] \n",
    "\n",
    "for model in models: \n",
    "    prediction_df = model.transform(x_test)\n",
    "    accuracy = evaluator.evaluate(prediction_df)\n",
    "    names.append(type(model.stages[-1]).__name__) # the algorithm is the last stage in the pipeline\n",
    "    values.append(accuracy)\n",
    "\n",
    "data = {'name':names,'accuracy':values,'model':models}\n",
    "df4 = pd.DataFrame(data)\n",
    "df4.sort_values(by=['accuracy'], inplace=True, ascending=False)  \n",
    "df4"
   ]
  },
  {
   "cell_type": "code",
   "execution_count": 116,
   "id": "bf1b83bb",
   "metadata": {},
   "outputs": [],
   "source": [
    "best_model=df4.iloc[0]['model']"
   ]
  },
  {
   "cell_type": "code",
   "execution_count": 117,
   "id": "0ab74212",
   "metadata": {},
   "outputs": [
    {
     "name": "stderr",
     "output_type": "stream",
     "text": [
      "                                                                                \r"
     ]
    },
    {
     "data": {
      "text/html": [
       "<div>\n",
       "<style scoped>\n",
       "    .dataframe tbody tr th:only-of-type {\n",
       "        vertical-align: middle;\n",
       "    }\n",
       "\n",
       "    .dataframe tbody tr th {\n",
       "        vertical-align: top;\n",
       "    }\n",
       "\n",
       "    .dataframe thead th {\n",
       "        text-align: right;\n",
       "    }\n",
       "</style>\n",
       "<table border=\"1\" class=\"dataframe\">\n",
       "  <thead>\n",
       "    <tr style=\"text-align: right;\">\n",
       "      <th></th>\n",
       "      <th>buy_sell_decision</th>\n",
       "      <th>0.0</th>\n",
       "      <th>1.0</th>\n",
       "    </tr>\n",
       "  </thead>\n",
       "  <tbody>\n",
       "    <tr>\n",
       "      <th>0</th>\n",
       "      <td>1</td>\n",
       "      <td>NaN</td>\n",
       "      <td>100.0</td>\n",
       "    </tr>\n",
       "    <tr>\n",
       "      <th>1</th>\n",
       "      <td>0</td>\n",
       "      <td>105.0</td>\n",
       "      <td>NaN</td>\n",
       "    </tr>\n",
       "  </tbody>\n",
       "</table>\n",
       "</div>"
      ],
      "text/plain": [
       "   buy_sell_decision    0.0    1.0\n",
       "0                  1    NaN  100.0\n",
       "1                  0  105.0    NaN"
      ]
     },
     "execution_count": 117,
     "metadata": {},
     "output_type": "execute_result"
    }
   ],
   "source": [
    "best_model.transform(x_test).groupby(\"buy_sell_decision\").pivot(\"prediction\").count().toPandas()"
   ]
  },
  {
   "cell_type": "code",
   "execution_count": 118,
   "id": "248bcb4b",
   "metadata": {},
   "outputs": [],
   "source": [
    "modelPath = \"hdfs://localhost:9000/model-registry/finance-stocks-classifier\"\n",
    "best_model.write().overwrite().save(modelPath)"
   ]
  },
  {
   "cell_type": "code",
   "execution_count": 119,
   "id": "0d882724",
   "metadata": {},
   "outputs": [],
   "source": [
    "from pyspark.ml import PipelineModel\n",
    "savedModel = PipelineModel.load(modelPath)"
   ]
  },
  {
   "cell_type": "code",
   "execution_count": 120,
   "id": "0688c5d8",
   "metadata": {},
   "outputs": [
    {
     "data": {
      "text/html": [
       "<div>\n",
       "<style scoped>\n",
       "    .dataframe tbody tr th:only-of-type {\n",
       "        vertical-align: middle;\n",
       "    }\n",
       "\n",
       "    .dataframe tbody tr th {\n",
       "        vertical-align: top;\n",
       "    }\n",
       "\n",
       "    .dataframe thead th {\n",
       "        text-align: right;\n",
       "    }\n",
       "</style>\n",
       "<table border=\"1\" class=\"dataframe\">\n",
       "  <thead>\n",
       "    <tr style=\"text-align: right;\">\n",
       "      <th></th>\n",
       "      <th>slope_x1</th>\n",
       "      <th>slope_x2</th>\n",
       "      <th>slope_x3</th>\n",
       "      <th>buy_sell_decision</th>\n",
       "      <th>features</th>\n",
       "      <th>rawPrediction</th>\n",
       "      <th>probability</th>\n",
       "      <th>prediction</th>\n",
       "    </tr>\n",
       "  </thead>\n",
       "  <tbody>\n",
       "    <tr>\n",
       "      <th>0</th>\n",
       "      <td>-0.002996</td>\n",
       "      <td>0.000391</td>\n",
       "      <td>0.001256</td>\n",
       "      <td>1</td>\n",
       "      <td>[-0.002995534786798572, 0.0003912146189028336,...</td>\n",
       "      <td>[-17.68487390210297, 17.68487390210297]</td>\n",
       "      <td>[2.0871652820906436e-08, 0.9999999791283471]</td>\n",
       "      <td>1.0</td>\n",
       "    </tr>\n",
       "    <tr>\n",
       "      <th>1</th>\n",
       "      <td>-0.002706</td>\n",
       "      <td>-0.000325</td>\n",
       "      <td>0.000653</td>\n",
       "      <td>1</td>\n",
       "      <td>[-0.0027059208787953855, -0.000324876481046172...</td>\n",
       "      <td>[-31.481026381110173, 31.481026381110173]</td>\n",
       "      <td>[2.1279624396994405e-14, 0.9999999999999787]</td>\n",
       "      <td>1.0</td>\n",
       "    </tr>\n",
       "    <tr>\n",
       "      <th>2</th>\n",
       "      <td>-0.002536</td>\n",
       "      <td>-0.001819</td>\n",
       "      <td>0.002016</td>\n",
       "      <td>1</td>\n",
       "      <td>[-0.002536347164417309, -0.001819394998980686,...</td>\n",
       "      <td>[-30.806716633431506, 30.806716633431506]</td>\n",
       "      <td>[4.1765045660499457e-14, 0.9999999999999583]</td>\n",
       "      <td>1.0</td>\n",
       "    </tr>\n",
       "    <tr>\n",
       "      <th>3</th>\n",
       "      <td>-0.002132</td>\n",
       "      <td>0.000256</td>\n",
       "      <td>0.000044</td>\n",
       "      <td>1</td>\n",
       "      <td>[-0.002132137916398404, 0.00025557501024714365...</td>\n",
       "      <td>[-24.292490865241287, 24.292490865241287]</td>\n",
       "      <td>[2.81776821265639e-11, 0.9999999999718223]</td>\n",
       "      <td>1.0</td>\n",
       "    </tr>\n",
       "    <tr>\n",
       "      <th>4</th>\n",
       "      <td>-0.001973</td>\n",
       "      <td>0.000972</td>\n",
       "      <td>0.000106</td>\n",
       "      <td>1</td>\n",
       "      <td>[-0.0019733493035105592, 0.0009724133415611252...</td>\n",
       "      <td>[-11.781547910783491, 11.781547910783491]</td>\n",
       "      <td>[7.644259720883805e-06, 0.9999923557402791]</td>\n",
       "      <td>1.0</td>\n",
       "    </tr>\n",
       "  </tbody>\n",
       "</table>\n",
       "</div>"
      ],
      "text/plain": [
       "   slope_x1  slope_x2  slope_x3  buy_sell_decision  \\\n",
       "0 -0.002996  0.000391  0.001256                  1   \n",
       "1 -0.002706 -0.000325  0.000653                  1   \n",
       "2 -0.002536 -0.001819  0.002016                  1   \n",
       "3 -0.002132  0.000256  0.000044                  1   \n",
       "4 -0.001973  0.000972  0.000106                  1   \n",
       "\n",
       "                                            features  \\\n",
       "0  [-0.002995534786798572, 0.0003912146189028336,...   \n",
       "1  [-0.0027059208787953855, -0.000324876481046172...   \n",
       "2  [-0.002536347164417309, -0.001819394998980686,...   \n",
       "3  [-0.002132137916398404, 0.00025557501024714365...   \n",
       "4  [-0.0019733493035105592, 0.0009724133415611252...   \n",
       "\n",
       "                               rawPrediction  \\\n",
       "0    [-17.68487390210297, 17.68487390210297]   \n",
       "1  [-31.481026381110173, 31.481026381110173]   \n",
       "2  [-30.806716633431506, 30.806716633431506]   \n",
       "3  [-24.292490865241287, 24.292490865241287]   \n",
       "4  [-11.781547910783491, 11.781547910783491]   \n",
       "\n",
       "                                    probability  prediction  \n",
       "0  [2.0871652820906436e-08, 0.9999999791283471]         1.0  \n",
       "1  [2.1279624396994405e-14, 0.9999999999999787]         1.0  \n",
       "2  [4.1765045660499457e-14, 0.9999999999999583]         1.0  \n",
       "3    [2.81776821265639e-11, 0.9999999999718223]         1.0  \n",
       "4   [7.644259720883805e-06, 0.9999923557402791]         1.0  "
      ]
     },
     "execution_count": 120,
     "metadata": {},
     "output_type": "execute_result"
    }
   ],
   "source": [
    "finance_predictions = savedModel.transform(x_test)\n",
    "finance_predictions.select(\"features\", \"buy_sell_decision\", \"prediction\")\n",
    "finance_predictions.limit(5).toPandas()"
   ]
  },
  {
   "cell_type": "code",
   "execution_count": 121,
   "id": "62c3a2e8",
   "metadata": {},
   "outputs": [],
   "source": [
    "finance_predictions.coalesce(1).write.format(\"json\").option(\"delimiter\", \",\").mode(\"overwrite\").save(\"MongoDB/finance_json\")"
   ]
  },
  {
   "cell_type": "markdown",
   "id": "dc4a2bed",
   "metadata": {},
   "source": [
    " "
   ]
  },
  {
   "cell_type": "markdown",
   "id": "3004e81f",
   "metadata": {},
   "source": [
    "# ENTERTAINMENT INDUSTRY"
   ]
  },
  {
   "cell_type": "code",
   "execution_count": 122,
   "id": "3a9b9944",
   "metadata": {},
   "outputs": [
    {
     "data": {
      "text/html": [
       "<div>\n",
       "<style scoped>\n",
       "    .dataframe tbody tr th:only-of-type {\n",
       "        vertical-align: middle;\n",
       "    }\n",
       "\n",
       "    .dataframe tbody tr th {\n",
       "        vertical-align: top;\n",
       "    }\n",
       "\n",
       "    .dataframe thead th {\n",
       "        text-align: right;\n",
       "    }\n",
       "</style>\n",
       "<table border=\"1\" class=\"dataframe\">\n",
       "  <thead>\n",
       "    <tr style=\"text-align: right;\">\n",
       "      <th></th>\n",
       "      <th>Datetime</th>\n",
       "      <th>NFLX_Close</th>\n",
       "      <th>DIS_Close</th>\n",
       "      <th>EA_Close</th>\n",
       "    </tr>\n",
       "  </thead>\n",
       "  <tbody>\n",
       "    <tr>\n",
       "      <th>0</th>\n",
       "      <td>2022-02-28 09:30:00-05:00</td>\n",
       "      <td>391.589905</td>\n",
       "      <td>148.429993</td>\n",
       "      <td>128.279999</td>\n",
       "    </tr>\n",
       "    <tr>\n",
       "      <th>1</th>\n",
       "      <td>2022-02-28 09:31:00-05:00</td>\n",
       "      <td>391.600006</td>\n",
       "      <td>148.210007</td>\n",
       "      <td>128.449997</td>\n",
       "    </tr>\n",
       "    <tr>\n",
       "      <th>2</th>\n",
       "      <td>2022-02-28 09:32:00-05:00</td>\n",
       "      <td>391.019989</td>\n",
       "      <td>148.419998</td>\n",
       "      <td>128.690002</td>\n",
       "    </tr>\n",
       "    <tr>\n",
       "      <th>3</th>\n",
       "      <td>2022-02-28 09:33:00-05:00</td>\n",
       "      <td>390.000000</td>\n",
       "      <td>148.490005</td>\n",
       "      <td>129.220001</td>\n",
       "    </tr>\n",
       "    <tr>\n",
       "      <th>4</th>\n",
       "      <td>2022-02-28 09:34:00-05:00</td>\n",
       "      <td>389.975006</td>\n",
       "      <td>148.479996</td>\n",
       "      <td>129.249893</td>\n",
       "    </tr>\n",
       "  </tbody>\n",
       "</table>\n",
       "</div>"
      ],
      "text/plain": [
       "                   Datetime  NFLX_Close   DIS_Close    EA_Close\n",
       "0 2022-02-28 09:30:00-05:00  391.589905  148.429993  128.279999\n",
       "1 2022-02-28 09:31:00-05:00  391.600006  148.210007  128.449997\n",
       "2 2022-02-28 09:32:00-05:00  391.019989  148.419998  128.690002\n",
       "3 2022-02-28 09:33:00-05:00  390.000000  148.490005  129.220001\n",
       "4 2022-02-28 09:34:00-05:00  389.975006  148.479996  129.249893"
      ]
     },
     "execution_count": 122,
     "metadata": {},
     "output_type": "execute_result"
    }
   ],
   "source": [
    "entertainment_df = spark.read.parquet(\"hdfs://localhost:9000/datalake/std/stocks/entertainment\").toPandas().ffill()\n",
    "entertainment_df\n",
    "\n",
    "entertainment_df[\"Datetime\"] = pd.to_datetime(entertainment_df[\"Datetime\"])\n",
    "entertainment_df.head(5)\n"
   ]
  },
  {
   "cell_type": "code",
   "execution_count": 123,
   "id": "3efaad10",
   "metadata": {},
   "outputs": [
    {
     "data": {
      "text/html": [
       "<div>\n",
       "<style scoped>\n",
       "    .dataframe tbody tr th:only-of-type {\n",
       "        vertical-align: middle;\n",
       "    }\n",
       "\n",
       "    .dataframe tbody tr th {\n",
       "        vertical-align: top;\n",
       "    }\n",
       "\n",
       "    .dataframe thead th {\n",
       "        text-align: right;\n",
       "    }\n",
       "</style>\n",
       "<table border=\"1\" class=\"dataframe\">\n",
       "  <thead>\n",
       "    <tr style=\"text-align: right;\">\n",
       "      <th></th>\n",
       "      <th>NFLX_Close</th>\n",
       "      <th>DIS_Close</th>\n",
       "      <th>EA_Close</th>\n",
       "    </tr>\n",
       "    <tr>\n",
       "      <th>Datetime</th>\n",
       "      <th></th>\n",
       "      <th></th>\n",
       "      <th></th>\n",
       "    </tr>\n",
       "  </thead>\n",
       "  <tbody>\n",
       "    <tr>\n",
       "      <th>2022-02-28 09:30:00-05:00</th>\n",
       "      <td>391.589905</td>\n",
       "      <td>148.429993</td>\n",
       "      <td>128.279999</td>\n",
       "    </tr>\n",
       "    <tr>\n",
       "      <th>2022-02-28 09:31:00-05:00</th>\n",
       "      <td>391.600006</td>\n",
       "      <td>148.210007</td>\n",
       "      <td>128.449997</td>\n",
       "    </tr>\n",
       "    <tr>\n",
       "      <th>2022-02-28 09:32:00-05:00</th>\n",
       "      <td>391.019989</td>\n",
       "      <td>148.419998</td>\n",
       "      <td>128.690002</td>\n",
       "    </tr>\n",
       "    <tr>\n",
       "      <th>2022-02-28 09:33:00-05:00</th>\n",
       "      <td>390.000000</td>\n",
       "      <td>148.490005</td>\n",
       "      <td>129.220001</td>\n",
       "    </tr>\n",
       "    <tr>\n",
       "      <th>2022-02-28 09:34:00-05:00</th>\n",
       "      <td>389.975006</td>\n",
       "      <td>148.479996</td>\n",
       "      <td>129.249893</td>\n",
       "    </tr>\n",
       "    <tr>\n",
       "      <th>...</th>\n",
       "      <td>...</td>\n",
       "      <td>...</td>\n",
       "      <td>...</td>\n",
       "    </tr>\n",
       "    <tr>\n",
       "      <th>2022-03-02 15:55:00-05:00</th>\n",
       "      <td>380.220001</td>\n",
       "      <td>147.289993</td>\n",
       "      <td>129.419998</td>\n",
       "    </tr>\n",
       "    <tr>\n",
       "      <th>2022-03-02 15:56:00-05:00</th>\n",
       "      <td>380.369995</td>\n",
       "      <td>147.190002</td>\n",
       "      <td>129.380005</td>\n",
       "    </tr>\n",
       "    <tr>\n",
       "      <th>2022-03-02 15:57:00-05:00</th>\n",
       "      <td>380.450012</td>\n",
       "      <td>147.080002</td>\n",
       "      <td>129.369995</td>\n",
       "    </tr>\n",
       "    <tr>\n",
       "      <th>2022-03-02 15:58:00-05:00</th>\n",
       "      <td>380.540009</td>\n",
       "      <td>147.020004</td>\n",
       "      <td>129.279999</td>\n",
       "    </tr>\n",
       "    <tr>\n",
       "      <th>2022-03-02 15:59:00-05:00</th>\n",
       "      <td>379.920013</td>\n",
       "      <td>147.320007</td>\n",
       "      <td>129.210007</td>\n",
       "    </tr>\n",
       "  </tbody>\n",
       "</table>\n",
       "<p>1170 rows × 3 columns</p>\n",
       "</div>"
      ],
      "text/plain": [
       "                           NFLX_Close   DIS_Close    EA_Close\n",
       "Datetime                                                     \n",
       "2022-02-28 09:30:00-05:00  391.589905  148.429993  128.279999\n",
       "2022-02-28 09:31:00-05:00  391.600006  148.210007  128.449997\n",
       "2022-02-28 09:32:00-05:00  391.019989  148.419998  128.690002\n",
       "2022-02-28 09:33:00-05:00  390.000000  148.490005  129.220001\n",
       "2022-02-28 09:34:00-05:00  389.975006  148.479996  129.249893\n",
       "...                               ...         ...         ...\n",
       "2022-03-02 15:55:00-05:00  380.220001  147.289993  129.419998\n",
       "2022-03-02 15:56:00-05:00  380.369995  147.190002  129.380005\n",
       "2022-03-02 15:57:00-05:00  380.450012  147.080002  129.369995\n",
       "2022-03-02 15:58:00-05:00  380.540009  147.020004  129.279999\n",
       "2022-03-02 15:59:00-05:00  379.920013  147.320007  129.210007\n",
       "\n",
       "[1170 rows x 3 columns]"
      ]
     },
     "execution_count": 123,
     "metadata": {},
     "output_type": "execute_result"
    }
   ],
   "source": [
    "entertainment_df = entertainment_df.set_index(\"Datetime\")\n",
    "entertainment_df"
   ]
  },
  {
   "cell_type": "code",
   "execution_count": 124,
   "id": "ebd3cb77",
   "metadata": {},
   "outputs": [
    {
     "data": {
      "text/html": [
       "<div>\n",
       "<style scoped>\n",
       "    .dataframe tbody tr th:only-of-type {\n",
       "        vertical-align: middle;\n",
       "    }\n",
       "\n",
       "    .dataframe tbody tr th {\n",
       "        vertical-align: top;\n",
       "    }\n",
       "\n",
       "    .dataframe thead th {\n",
       "        text-align: right;\n",
       "    }\n",
       "</style>\n",
       "<table border=\"1\" class=\"dataframe\">\n",
       "  <thead>\n",
       "    <tr style=\"text-align: right;\">\n",
       "      <th></th>\n",
       "      <th>NFLX_Close</th>\n",
       "      <th>DIS_Close</th>\n",
       "      <th>EA_Close</th>\n",
       "      <th>entertainment_value</th>\n",
       "    </tr>\n",
       "    <tr>\n",
       "      <th>Datetime</th>\n",
       "      <th></th>\n",
       "      <th></th>\n",
       "      <th></th>\n",
       "      <th></th>\n",
       "    </tr>\n",
       "  </thead>\n",
       "  <tbody>\n",
       "    <tr>\n",
       "      <th>2022-02-28 09:30:00-05:00</th>\n",
       "      <td>391.589905</td>\n",
       "      <td>148.429993</td>\n",
       "      <td>128.279999</td>\n",
       "      <td>668.299896</td>\n",
       "    </tr>\n",
       "    <tr>\n",
       "      <th>2022-02-28 09:31:00-05:00</th>\n",
       "      <td>391.600006</td>\n",
       "      <td>148.210007</td>\n",
       "      <td>128.449997</td>\n",
       "      <td>668.260010</td>\n",
       "    </tr>\n",
       "  </tbody>\n",
       "</table>\n",
       "</div>"
      ],
      "text/plain": [
       "                           NFLX_Close   DIS_Close    EA_Close  \\\n",
       "Datetime                                                        \n",
       "2022-02-28 09:30:00-05:00  391.589905  148.429993  128.279999   \n",
       "2022-02-28 09:31:00-05:00  391.600006  148.210007  128.449997   \n",
       "\n",
       "                           entertainment_value  \n",
       "Datetime                                        \n",
       "2022-02-28 09:30:00-05:00           668.299896  \n",
       "2022-02-28 09:31:00-05:00           668.260010  "
      ]
     },
     "execution_count": 124,
     "metadata": {},
     "output_type": "execute_result"
    }
   ],
   "source": [
    "entertainment_df[\"entertainment_value\"] = entertainment_df.apply(lambda row: row.NFLX_Close + row.DIS_Close + row.EA_Close, axis=1)\n",
    "entertainment_df.head(2)"
   ]
  },
  {
   "cell_type": "code",
   "execution_count": 125,
   "id": "d0911b31",
   "metadata": {},
   "outputs": [],
   "source": [
    "lags = [1,2,3]\n",
    "\n",
    "for lag in lags:\n",
    "    entertainment_df[f\"entertainment_value_{lag}\"] = entertainment_df[\"entertainment_value\"].shift(lag)"
   ]
  },
  {
   "cell_type": "code",
   "execution_count": 126,
   "id": "581cbf3f",
   "metadata": {},
   "outputs": [],
   "source": [
    "entertainment_df = entertainment_df.iloc[3:, :]"
   ]
  },
  {
   "cell_type": "code",
   "execution_count": 127,
   "id": "3b3d7bbc",
   "metadata": {},
   "outputs": [
    {
     "name": "stderr",
     "output_type": "stream",
     "text": [
      "/usr/local/lib/python3.7/dist-packages/ipykernel_launcher.py:1: SettingWithCopyWarning: \n",
      "A value is trying to be set on a copy of a slice from a DataFrame.\n",
      "Try using .loc[row_indexer,col_indexer] = value instead\n",
      "\n",
      "See the caveats in the documentation: https://pandas.pydata.org/pandas-docs/stable/user_guide/indexing.html#returning-a-view-versus-a-copy\n",
      "  \"\"\"Entry point for launching an IPython kernel.\n",
      "/usr/local/lib/python3.7/dist-packages/ipykernel_launcher.py:2: SettingWithCopyWarning: \n",
      "A value is trying to be set on a copy of a slice from a DataFrame.\n",
      "Try using .loc[row_indexer,col_indexer] = value instead\n",
      "\n",
      "See the caveats in the documentation: https://pandas.pydata.org/pandas-docs/stable/user_guide/indexing.html#returning-a-view-versus-a-copy\n",
      "  \n",
      "/usr/local/lib/python3.7/dist-packages/ipykernel_launcher.py:3: SettingWithCopyWarning: \n",
      "A value is trying to be set on a copy of a slice from a DataFrame.\n",
      "Try using .loc[row_indexer,col_indexer] = value instead\n",
      "\n",
      "See the caveats in the documentation: https://pandas.pydata.org/pandas-docs/stable/user_guide/indexing.html#returning-a-view-versus-a-copy\n",
      "  This is separate from the ipykernel package so we can avoid doing imports until\n",
      "/usr/local/lib/python3.7/dist-packages/ipykernel_launcher.py:4: SettingWithCopyWarning: \n",
      "A value is trying to be set on a copy of a slice from a DataFrame.\n",
      "Try using .loc[row_indexer,col_indexer] = value instead\n",
      "\n",
      "See the caveats in the documentation: https://pandas.pydata.org/pandas-docs/stable/user_guide/indexing.html#returning-a-view-versus-a-copy\n",
      "  after removing the cwd from sys.path.\n"
     ]
    }
   ],
   "source": [
    "entertainment_df[\"slope_x1\"] = (entertainment_df[\"entertainment_value\"] - entertainment_df[\"entertainment_value_1\"]) / entertainment_df[\"entertainment_value_1\"]\n",
    "entertainment_df[\"slope_x2\"] = (entertainment_df[\"entertainment_value_1\"] - entertainment_df[\"entertainment_value_2\"]) / entertainment_df[\"entertainment_value_2\"]\n",
    "entertainment_df[\"slope_x3\"] = (entertainment_df[\"entertainment_value_2\"] - entertainment_df[\"entertainment_value_3\"]) / entertainment_df[\"entertainment_value_3\"]\n",
    "entertainment_df[\"entertainment_value_t+1\"] = entertainment_df[\"entertainment_value\"].shift(-1)\n"
   ]
  },
  {
   "cell_type": "code",
   "execution_count": 128,
   "id": "c9b82f4d",
   "metadata": {},
   "outputs": [],
   "source": [
    "entertainment_df = entertainment_df.iloc[:-1, :]"
   ]
  },
  {
   "cell_type": "code",
   "execution_count": 129,
   "id": "83b86818",
   "metadata": {},
   "outputs": [],
   "source": [
    "entertainment_df[\"buy_sell_decision\"] = np.where(entertainment_df[\"entertainment_value_t+1\"] > entertainment_df[\"entertainment_value\"], 1, 0)"
   ]
  },
  {
   "cell_type": "code",
   "execution_count": 130,
   "id": "b9e3b4ae",
   "metadata": {},
   "outputs": [
    {
     "data": {
      "text/html": [
       "<div>\n",
       "<style scoped>\n",
       "    .dataframe tbody tr th:only-of-type {\n",
       "        vertical-align: middle;\n",
       "    }\n",
       "\n",
       "    .dataframe tbody tr th {\n",
       "        vertical-align: top;\n",
       "    }\n",
       "\n",
       "    .dataframe thead th {\n",
       "        text-align: right;\n",
       "    }\n",
       "</style>\n",
       "<table border=\"1\" class=\"dataframe\">\n",
       "  <thead>\n",
       "    <tr style=\"text-align: right;\">\n",
       "      <th></th>\n",
       "      <th>Datetime</th>\n",
       "      <th>NFLX_Close</th>\n",
       "      <th>DIS_Close</th>\n",
       "      <th>EA_Close</th>\n",
       "      <th>entertainment_value</th>\n",
       "      <th>entertainment_value_1</th>\n",
       "      <th>entertainment_value_2</th>\n",
       "      <th>entertainment_value_3</th>\n",
       "      <th>slope_x1</th>\n",
       "      <th>slope_x2</th>\n",
       "      <th>slope_x3</th>\n",
       "      <th>entertainment_value_t+1</th>\n",
       "      <th>buy_sell_decision</th>\n",
       "      <th>date</th>\n",
       "    </tr>\n",
       "  </thead>\n",
       "  <tbody>\n",
       "    <tr>\n",
       "      <th>0</th>\n",
       "      <td>2022-02-28 09:33:00-05:00</td>\n",
       "      <td>390.0</td>\n",
       "      <td>148.490005</td>\n",
       "      <td>129.220001</td>\n",
       "      <td>667.710007</td>\n",
       "      <td>668.12999</td>\n",
       "      <td>668.26001</td>\n",
       "      <td>668.299896</td>\n",
       "      <td>-0.000629</td>\n",
       "      <td>-0.000195</td>\n",
       "      <td>-0.00006</td>\n",
       "      <td>667.704895</td>\n",
       "      <td>0</td>\n",
       "      <td>2022-02-28</td>\n",
       "    </tr>\n",
       "  </tbody>\n",
       "</table>\n",
       "</div>"
      ],
      "text/plain": [
       "                   Datetime  NFLX_Close   DIS_Close    EA_Close  \\\n",
       "0 2022-02-28 09:33:00-05:00       390.0  148.490005  129.220001   \n",
       "\n",
       "   entertainment_value  entertainment_value_1  entertainment_value_2  \\\n",
       "0           667.710007              668.12999              668.26001   \n",
       "\n",
       "   entertainment_value_3  slope_x1  slope_x2  slope_x3  \\\n",
       "0             668.299896 -0.000629 -0.000195  -0.00006   \n",
       "\n",
       "   entertainment_value_t+1  buy_sell_decision        date  \n",
       "0               667.704895                  0  2022-02-28  "
      ]
     },
     "execution_count": 130,
     "metadata": {},
     "output_type": "execute_result"
    }
   ],
   "source": [
    "entertainment_df = entertainment_df.reset_index()\n",
    "entertainment_df[\"date\"] = entertainment_df[\"Datetime\"].apply(datetime.date)\n",
    "entertainment_df.head(1)"
   ]
  },
  {
   "cell_type": "code",
   "execution_count": 131,
   "id": "ea3ffaf7",
   "metadata": {},
   "outputs": [],
   "source": [
    "entertainment_df = entertainment_df[[\"slope_x1\", \"slope_x2\", \"slope_x3\", \"buy_sell_decision\"]]"
   ]
  },
  {
   "cell_type": "code",
   "execution_count": 132,
   "id": "033bb26e",
   "metadata": {},
   "outputs": [],
   "source": [
    "entertainment_df.to_csv(r'clean_entertainment.csv')"
   ]
  },
  {
   "cell_type": "code",
   "execution_count": 133,
   "id": "3861fce0",
   "metadata": {},
   "outputs": [
    {
     "data": {
      "text/html": [
       "<div>\n",
       "<style scoped>\n",
       "    .dataframe tbody tr th:only-of-type {\n",
       "        vertical-align: middle;\n",
       "    }\n",
       "\n",
       "    .dataframe tbody tr th {\n",
       "        vertical-align: top;\n",
       "    }\n",
       "\n",
       "    .dataframe thead th {\n",
       "        text-align: right;\n",
       "    }\n",
       "</style>\n",
       "<table border=\"1\" class=\"dataframe\">\n",
       "  <thead>\n",
       "    <tr style=\"text-align: right;\">\n",
       "      <th></th>\n",
       "      <th>_c0</th>\n",
       "      <th>slope_x1</th>\n",
       "      <th>slope_x2</th>\n",
       "      <th>slope_x3</th>\n",
       "      <th>buy_sell_decision</th>\n",
       "    </tr>\n",
       "  </thead>\n",
       "  <tbody>\n",
       "    <tr>\n",
       "      <th>0</th>\n",
       "      <td>0</td>\n",
       "      <td>-0.000629</td>\n",
       "      <td>-0.000195</td>\n",
       "      <td>-0.000060</td>\n",
       "      <td>0</td>\n",
       "    </tr>\n",
       "    <tr>\n",
       "      <th>1</th>\n",
       "      <td>1</td>\n",
       "      <td>-0.000008</td>\n",
       "      <td>-0.000629</td>\n",
       "      <td>-0.000195</td>\n",
       "      <td>0</td>\n",
       "    </tr>\n",
       "    <tr>\n",
       "      <th>2</th>\n",
       "      <td>2</td>\n",
       "      <td>-0.000599</td>\n",
       "      <td>-0.000008</td>\n",
       "      <td>-0.000629</td>\n",
       "      <td>0</td>\n",
       "    </tr>\n",
       "    <tr>\n",
       "      <th>3</th>\n",
       "      <td>3</td>\n",
       "      <td>-0.001386</td>\n",
       "      <td>-0.000599</td>\n",
       "      <td>-0.000008</td>\n",
       "      <td>0</td>\n",
       "    </tr>\n",
       "    <tr>\n",
       "      <th>4</th>\n",
       "      <td>4</td>\n",
       "      <td>-0.002026</td>\n",
       "      <td>-0.001386</td>\n",
       "      <td>-0.000599</td>\n",
       "      <td>0</td>\n",
       "    </tr>\n",
       "  </tbody>\n",
       "</table>\n",
       "</div>"
      ],
      "text/plain": [
       "   _c0  slope_x1  slope_x2  slope_x3  buy_sell_decision\n",
       "0    0 -0.000629 -0.000195 -0.000060                  0\n",
       "1    1 -0.000008 -0.000629 -0.000195                  0\n",
       "2    2 -0.000599 -0.000008 -0.000629                  0\n",
       "3    3 -0.001386 -0.000599 -0.000008                  0\n",
       "4    4 -0.002026 -0.001386 -0.000599                  0"
      ]
     },
     "execution_count": 133,
     "metadata": {},
     "output_type": "execute_result"
    }
   ],
   "source": [
    "entertainment_clean_df = spark.read.parquet(\"hdfs://localhost:9000/datalake/std/stocks/clean_entertainment_csv\")\n",
    "entertainment_clean_df.limit(5).toPandas()\n"
   ]
  },
  {
   "cell_type": "code",
   "execution_count": 134,
   "id": "2bd824d4",
   "metadata": {},
   "outputs": [],
   "source": [
    "entertainment_clean_df = entertainment_clean_df.withColumn(\"slope_x1\",entertainment_clean_df.slope_x1.cast('double'))\n",
    "entertainment_clean_df =entertainment_clean_df.withColumn(\"slope_x2\",entertainment_clean_df.slope_x2.cast('double'))\n",
    "entertainment_clean_df =entertainment_clean_df.withColumn(\"slope_x3\",entertainment_clean_df.slope_x3.cast('double'))\n"
   ]
  },
  {
   "cell_type": "code",
   "execution_count": 135,
   "id": "0a0a036a",
   "metadata": {},
   "outputs": [],
   "source": [
    "entertainment_clean_df = entertainment_clean_df.drop(\"_c0\")"
   ]
  },
  {
   "cell_type": "code",
   "execution_count": 136,
   "id": "d380597f",
   "metadata": {},
   "outputs": [],
   "source": [
    "entertainment_clean_df =entertainment_clean_df.withColumn(\"buy_sell_decision\",entertainment_clean_df.buy_sell_decision.cast('int'))"
   ]
  },
  {
   "cell_type": "code",
   "execution_count": 137,
   "id": "2e959e45",
   "metadata": {},
   "outputs": [
    {
     "name": "stdout",
     "output_type": "stream",
     "text": [
      "Feature columns:  ['slope_x1', 'slope_x2', 'slope_x3']\n"
     ]
    }
   ],
   "source": [
    "# entertainment\n",
    "numericCols = [field for (field, dataType) in entertainment_clean_df.dtypes if ((dataType == \"double\") & (field != \"buy_sell_decision\"))]\n",
    "\n",
    "assemblerInputs = numericCols\n",
    "print(\"Feature columns: \",assemblerInputs)\n"
   ]
  },
  {
   "cell_type": "code",
   "execution_count": 138,
   "id": "3d31a80b",
   "metadata": {},
   "outputs": [],
   "source": [
    "vecAssembler = VectorAssembler(inputCols=assemblerInputs, outputCol=\"features\")\n",
    "\n",
    "test_pipeline = Pipeline(stages = [vecAssembler])\n",
    "\n",
    "# entertainment\n",
    "features_df = test_pipeline.fit(entertainment_clean_df).transform(entertainment_clean_df) # energy\n"
   ]
  },
  {
   "cell_type": "code",
   "execution_count": 139,
   "id": "a29f392d",
   "metadata": {},
   "outputs": [],
   "source": [
    "seed = 42\n",
    "lr5 = LogisticRegression(labelCol=\"buy_sell_decision\", featuresCol=\"features\")\n",
    "dt5 = DecisionTreeClassifier(labelCol=\"buy_sell_decision\", featuresCol=\"features\",seed=seed)\n",
    "rf5 = RandomForestClassifier(labelCol=\"buy_sell_decision\", featuresCol=\"features\",maxDepth=10,seed=seed)\n",
    "gbt5 = GBTClassifier(labelCol=\"buy_sell_decision\", featuresCol=\"features\",maxIter=10,seed=seed)\n",
    "classifiers = [lr5,dt5,rf5,gbt5]"
   ]
  },
  {
   "cell_type": "code",
   "execution_count": 140,
   "id": "5c84e9bc",
   "metadata": {},
   "outputs": [],
   "source": [
    "from pyspark.ml import Pipeline\n",
    "\n",
    "def create_pipeline(classifier):\n",
    "    return Pipeline(stages = [vecAssembler, classifier])\n",
    "\n",
    "pipelines = [create_pipeline(classifier) for classifier in classifiers]"
   ]
  },
  {
   "cell_type": "code",
   "execution_count": 141,
   "id": "29b287bd",
   "metadata": {},
   "outputs": [],
   "source": [
    "from pyspark.ml.evaluation import MulticlassClassificationEvaluator\n",
    "\n",
    "evaluator = MulticlassClassificationEvaluator(labelCol=\"buy_sell_decision\",  metricName=\"accuracy\")"
   ]
  },
  {
   "cell_type": "code",
   "execution_count": 142,
   "id": "713187d0",
   "metadata": {},
   "outputs": [],
   "source": [
    "seed = 42\n",
    "(x_train, x_test) = entertainment_clean_df.randomSplit([0.8,0.2],seed=seed)"
   ]
  },
  {
   "cell_type": "code",
   "execution_count": 143,
   "id": "9bdd02fc",
   "metadata": {},
   "outputs": [
    {
     "data": {
      "text/plain": [
       "[PipelineModel_4d98b41f3958,\n",
       " PipelineModel_0386b251e8ec,\n",
       " PipelineModel_34af66ef69a3,\n",
       " PipelineModel_8eee553d2594]"
      ]
     },
     "execution_count": 143,
     "metadata": {},
     "output_type": "execute_result"
    }
   ],
   "source": [
    "models = [pipeline.fit(x_train) for pipeline in pipelines]\n",
    "models"
   ]
  },
  {
   "cell_type": "code",
   "execution_count": 144,
   "id": "2d1b2b0b",
   "metadata": {},
   "outputs": [
    {
     "data": {
      "text/html": [
       "<div>\n",
       "<style scoped>\n",
       "    .dataframe tbody tr th:only-of-type {\n",
       "        vertical-align: middle;\n",
       "    }\n",
       "\n",
       "    .dataframe tbody tr th {\n",
       "        vertical-align: top;\n",
       "    }\n",
       "\n",
       "    .dataframe thead th {\n",
       "        text-align: right;\n",
       "    }\n",
       "</style>\n",
       "<table border=\"1\" class=\"dataframe\">\n",
       "  <thead>\n",
       "    <tr style=\"text-align: right;\">\n",
       "      <th></th>\n",
       "      <th>name</th>\n",
       "      <th>accuracy</th>\n",
       "      <th>model</th>\n",
       "    </tr>\n",
       "  </thead>\n",
       "  <tbody>\n",
       "    <tr>\n",
       "      <th>1</th>\n",
       "      <td>DecisionTreeClassificationModel</td>\n",
       "      <td>0.536585</td>\n",
       "      <td>PipelineModel_0386b251e8ec</td>\n",
       "    </tr>\n",
       "    <tr>\n",
       "      <th>2</th>\n",
       "      <td>RandomForestClassificationModel</td>\n",
       "      <td>0.492683</td>\n",
       "      <td>PipelineModel_34af66ef69a3</td>\n",
       "    </tr>\n",
       "    <tr>\n",
       "      <th>3</th>\n",
       "      <td>GBTClassificationModel</td>\n",
       "      <td>0.453659</td>\n",
       "      <td>PipelineModel_8eee553d2594</td>\n",
       "    </tr>\n",
       "    <tr>\n",
       "      <th>0</th>\n",
       "      <td>LogisticRegressionModel</td>\n",
       "      <td>0.429268</td>\n",
       "      <td>PipelineModel_4d98b41f3958</td>\n",
       "    </tr>\n",
       "  </tbody>\n",
       "</table>\n",
       "</div>"
      ],
      "text/plain": [
       "                              name  accuracy                       model\n",
       "1  DecisionTreeClassificationModel  0.536585  PipelineModel_0386b251e8ec\n",
       "2  RandomForestClassificationModel  0.492683  PipelineModel_34af66ef69a3\n",
       "3           GBTClassificationModel  0.453659  PipelineModel_8eee553d2594\n",
       "0          LogisticRegressionModel  0.429268  PipelineModel_4d98b41f3958"
      ]
     },
     "execution_count": 144,
     "metadata": {},
     "output_type": "execute_result"
    }
   ],
   "source": [
    "import pandas as pd\n",
    "names = []\n",
    "values = [] \n",
    "\n",
    "for model in models: \n",
    "    prediction_df = model.transform(x_test)\n",
    "    accuracy = evaluator.evaluate(prediction_df)\n",
    "    names.append(type(model.stages[-1]).__name__) # the algorithm is the last stage in the pipeline\n",
    "    values.append(accuracy)\n",
    "\n",
    "data = {'name':names,'accuracy':values,'model':models}\n",
    "df5 = pd.DataFrame(data)\n",
    "df5.sort_values(by=['accuracy'], inplace=True, ascending=False)  \n",
    "df5\n"
   ]
  },
  {
   "cell_type": "code",
   "execution_count": 145,
   "id": "15c49622",
   "metadata": {},
   "outputs": [],
   "source": [
    "best_model=df5.iloc[0]['model']"
   ]
  },
  {
   "cell_type": "code",
   "execution_count": 146,
   "id": "757c7b92",
   "metadata": {},
   "outputs": [
    {
     "name": "stderr",
     "output_type": "stream",
     "text": [
      "                                                                                \r"
     ]
    },
    {
     "data": {
      "text/html": [
       "<div>\n",
       "<style scoped>\n",
       "    .dataframe tbody tr th:only-of-type {\n",
       "        vertical-align: middle;\n",
       "    }\n",
       "\n",
       "    .dataframe tbody tr th {\n",
       "        vertical-align: top;\n",
       "    }\n",
       "\n",
       "    .dataframe thead th {\n",
       "        text-align: right;\n",
       "    }\n",
       "</style>\n",
       "<table border=\"1\" class=\"dataframe\">\n",
       "  <thead>\n",
       "    <tr style=\"text-align: right;\">\n",
       "      <th></th>\n",
       "      <th>buy_sell_decision</th>\n",
       "      <th>0.0</th>\n",
       "      <th>1.0</th>\n",
       "    </tr>\n",
       "  </thead>\n",
       "  <tbody>\n",
       "    <tr>\n",
       "      <th>0</th>\n",
       "      <td>1</td>\n",
       "      <td>63</td>\n",
       "      <td>22</td>\n",
       "    </tr>\n",
       "    <tr>\n",
       "      <th>1</th>\n",
       "      <td>0</td>\n",
       "      <td>88</td>\n",
       "      <td>32</td>\n",
       "    </tr>\n",
       "  </tbody>\n",
       "</table>\n",
       "</div>"
      ],
      "text/plain": [
       "   buy_sell_decision  0.0  1.0\n",
       "0                  1   63   22\n",
       "1                  0   88   32"
      ]
     },
     "execution_count": 146,
     "metadata": {},
     "output_type": "execute_result"
    }
   ],
   "source": [
    "best_model.transform(x_test).groupby(\"buy_sell_decision\").pivot(\"prediction\").count().toPandas()"
   ]
  },
  {
   "cell_type": "code",
   "execution_count": 147,
   "id": "4250533a",
   "metadata": {},
   "outputs": [],
   "source": [
    "modelPath = \"hdfs://localhost:9000/model-registry/entertainment-stocks-classifier\"\n",
    "best_model.write().overwrite().save(modelPath)"
   ]
  },
  {
   "cell_type": "code",
   "execution_count": 148,
   "id": "337d8b6d",
   "metadata": {},
   "outputs": [],
   "source": [
    "from pyspark.ml import PipelineModel\n",
    "savedModel = PipelineModel.load(modelPath)"
   ]
  },
  {
   "cell_type": "code",
   "execution_count": 149,
   "id": "beb620fd",
   "metadata": {},
   "outputs": [
    {
     "data": {
      "text/html": [
       "<div>\n",
       "<style scoped>\n",
       "    .dataframe tbody tr th:only-of-type {\n",
       "        vertical-align: middle;\n",
       "    }\n",
       "\n",
       "    .dataframe tbody tr th {\n",
       "        vertical-align: top;\n",
       "    }\n",
       "\n",
       "    .dataframe thead th {\n",
       "        text-align: right;\n",
       "    }\n",
       "</style>\n",
       "<table border=\"1\" class=\"dataframe\">\n",
       "  <thead>\n",
       "    <tr style=\"text-align: right;\">\n",
       "      <th></th>\n",
       "      <th>slope_x1</th>\n",
       "      <th>slope_x2</th>\n",
       "      <th>slope_x3</th>\n",
       "      <th>buy_sell_decision</th>\n",
       "      <th>features</th>\n",
       "      <th>rawPrediction</th>\n",
       "      <th>probability</th>\n",
       "      <th>prediction</th>\n",
       "    </tr>\n",
       "  </thead>\n",
       "  <tbody>\n",
       "    <tr>\n",
       "      <th>0</th>\n",
       "      <td>-0.002873</td>\n",
       "      <td>-0.000682</td>\n",
       "      <td>0.000948</td>\n",
       "      <td>0</td>\n",
       "      <td>[-0.0028725793855331073, -0.000681692060843952...</td>\n",
       "      <td>[5.0, 10.0]</td>\n",
       "      <td>[0.3333333333333333, 0.6666666666666666]</td>\n",
       "      <td>1.0</td>\n",
       "    </tr>\n",
       "    <tr>\n",
       "      <th>1</th>\n",
       "      <td>-0.002626</td>\n",
       "      <td>-0.000809</td>\n",
       "      <td>-0.001436</td>\n",
       "      <td>1</td>\n",
       "      <td>[-0.0026255737184478277, -0.000809247298701227...</td>\n",
       "      <td>[3.0, 5.0]</td>\n",
       "      <td>[0.375, 0.625]</td>\n",
       "      <td>1.0</td>\n",
       "    </tr>\n",
       "    <tr>\n",
       "      <th>2</th>\n",
       "      <td>-0.002577</td>\n",
       "      <td>0.002202</td>\n",
       "      <td>-0.000704</td>\n",
       "      <td>0</td>\n",
       "      <td>[-0.0025766981387399597, 0.002201971968792754,...</td>\n",
       "      <td>[16.0, 10.0]</td>\n",
       "      <td>[0.6153846153846154, 0.38461538461538464]</td>\n",
       "      <td>0.0</td>\n",
       "    </tr>\n",
       "    <tr>\n",
       "      <th>3</th>\n",
       "      <td>-0.002340</td>\n",
       "      <td>-0.001490</td>\n",
       "      <td>-0.000381</td>\n",
       "      <td>1</td>\n",
       "      <td>[-0.0023397728851896333, -0.001489761847033939...</td>\n",
       "      <td>[25.0, 3.0]</td>\n",
       "      <td>[0.8928571428571429, 0.10714285714285714]</td>\n",
       "      <td>0.0</td>\n",
       "    </tr>\n",
       "    <tr>\n",
       "      <th>4</th>\n",
       "      <td>-0.002083</td>\n",
       "      <td>-0.000860</td>\n",
       "      <td>0.000713</td>\n",
       "      <td>1</td>\n",
       "      <td>[-0.002083118997816012, -0.0008595967911876768...</td>\n",
       "      <td>[5.0, 10.0]</td>\n",
       "      <td>[0.3333333333333333, 0.6666666666666666]</td>\n",
       "      <td>1.0</td>\n",
       "    </tr>\n",
       "  </tbody>\n",
       "</table>\n",
       "</div>"
      ],
      "text/plain": [
       "   slope_x1  slope_x2  slope_x3  buy_sell_decision  \\\n",
       "0 -0.002873 -0.000682  0.000948                  0   \n",
       "1 -0.002626 -0.000809 -0.001436                  1   \n",
       "2 -0.002577  0.002202 -0.000704                  0   \n",
       "3 -0.002340 -0.001490 -0.000381                  1   \n",
       "4 -0.002083 -0.000860  0.000713                  1   \n",
       "\n",
       "                                            features rawPrediction  \\\n",
       "0  [-0.0028725793855331073, -0.000681692060843952...   [5.0, 10.0]   \n",
       "1  [-0.0026255737184478277, -0.000809247298701227...    [3.0, 5.0]   \n",
       "2  [-0.0025766981387399597, 0.002201971968792754,...  [16.0, 10.0]   \n",
       "3  [-0.0023397728851896333, -0.001489761847033939...   [25.0, 3.0]   \n",
       "4  [-0.002083118997816012, -0.0008595967911876768...   [5.0, 10.0]   \n",
       "\n",
       "                                 probability  prediction  \n",
       "0   [0.3333333333333333, 0.6666666666666666]         1.0  \n",
       "1                             [0.375, 0.625]         1.0  \n",
       "2  [0.6153846153846154, 0.38461538461538464]         0.0  \n",
       "3  [0.8928571428571429, 0.10714285714285714]         0.0  \n",
       "4   [0.3333333333333333, 0.6666666666666666]         1.0  "
      ]
     },
     "execution_count": 149,
     "metadata": {},
     "output_type": "execute_result"
    }
   ],
   "source": [
    "entertainment_predictions = savedModel.transform(x_test)\n",
    "entertainment_predictions.select(\"features\", \"buy_sell_decision\", \"prediction\")\n",
    "entertainment_predictions.limit(5).toPandas()"
   ]
  },
  {
   "cell_type": "code",
   "execution_count": 150,
   "id": "d62d9559",
   "metadata": {},
   "outputs": [],
   "source": [
    "entertainment_predictions.coalesce(1).write.format(\"json\").option(\"delimiter\", \",\").mode(\"overwrite\").save(\"MongoDB/entertainment_json\")"
   ]
  },
  {
   "cell_type": "markdown",
   "id": "3760595d",
   "metadata": {},
   "source": [
    " "
   ]
  },
  {
   "cell_type": "markdown",
   "id": "c0e086e9",
   "metadata": {},
   "source": [
    "# TECHNOLOGY INDUSTRY"
   ]
  },
  {
   "cell_type": "code",
   "execution_count": 151,
   "id": "f9311f23",
   "metadata": {},
   "outputs": [
    {
     "data": {
      "text/html": [
       "<div>\n",
       "<style scoped>\n",
       "    .dataframe tbody tr th:only-of-type {\n",
       "        vertical-align: middle;\n",
       "    }\n",
       "\n",
       "    .dataframe tbody tr th {\n",
       "        vertical-align: top;\n",
       "    }\n",
       "\n",
       "    .dataframe thead th {\n",
       "        text-align: right;\n",
       "    }\n",
       "</style>\n",
       "<table border=\"1\" class=\"dataframe\">\n",
       "  <thead>\n",
       "    <tr style=\"text-align: right;\">\n",
       "      <th></th>\n",
       "      <th>Datetime</th>\n",
       "      <th>IBM_Close</th>\n",
       "      <th>MSFT_Close</th>\n",
       "      <th>INTC_Close</th>\n",
       "    </tr>\n",
       "  </thead>\n",
       "  <tbody>\n",
       "    <tr>\n",
       "      <th>0</th>\n",
       "      <td>2022-02-28 09:30:00-05:00</td>\n",
       "      <td>122.379997</td>\n",
       "      <td>296.075012</td>\n",
       "      <td>47.340000</td>\n",
       "    </tr>\n",
       "    <tr>\n",
       "      <th>1</th>\n",
       "      <td>2022-02-28 09:31:00-05:00</td>\n",
       "      <td>122.360001</td>\n",
       "      <td>295.760010</td>\n",
       "      <td>47.330002</td>\n",
       "    </tr>\n",
       "    <tr>\n",
       "      <th>2</th>\n",
       "      <td>2022-02-28 09:32:00-05:00</td>\n",
       "      <td>122.320000</td>\n",
       "      <td>295.726410</td>\n",
       "      <td>47.320000</td>\n",
       "    </tr>\n",
       "    <tr>\n",
       "      <th>3</th>\n",
       "      <td>2022-02-28 09:33:00-05:00</td>\n",
       "      <td>122.139999</td>\n",
       "      <td>295.459991</td>\n",
       "      <td>47.240002</td>\n",
       "    </tr>\n",
       "    <tr>\n",
       "      <th>4</th>\n",
       "      <td>2022-02-28 09:34:00-05:00</td>\n",
       "      <td>122.070000</td>\n",
       "      <td>296.269989</td>\n",
       "      <td>47.150002</td>\n",
       "    </tr>\n",
       "  </tbody>\n",
       "</table>\n",
       "</div>"
      ],
      "text/plain": [
       "                   Datetime   IBM_Close  MSFT_Close  INTC_Close\n",
       "0 2022-02-28 09:30:00-05:00  122.379997  296.075012   47.340000\n",
       "1 2022-02-28 09:31:00-05:00  122.360001  295.760010   47.330002\n",
       "2 2022-02-28 09:32:00-05:00  122.320000  295.726410   47.320000\n",
       "3 2022-02-28 09:33:00-05:00  122.139999  295.459991   47.240002\n",
       "4 2022-02-28 09:34:00-05:00  122.070000  296.269989   47.150002"
      ]
     },
     "execution_count": 151,
     "metadata": {},
     "output_type": "execute_result"
    }
   ],
   "source": [
    "tech_df = spark.read.parquet(\"hdfs://localhost:9000/datalake/std/stocks/tech\").toPandas().ffill()\n",
    "\n",
    "\n",
    "tech_df[\"Datetime\"] = pd.to_datetime(tech_df[\"Datetime\"])\n",
    "tech_df.head(5)\n"
   ]
  },
  {
   "cell_type": "code",
   "execution_count": 152,
   "id": "0ddbed9b",
   "metadata": {},
   "outputs": [
    {
     "data": {
      "text/html": [
       "<div>\n",
       "<style scoped>\n",
       "    .dataframe tbody tr th:only-of-type {\n",
       "        vertical-align: middle;\n",
       "    }\n",
       "\n",
       "    .dataframe tbody tr th {\n",
       "        vertical-align: top;\n",
       "    }\n",
       "\n",
       "    .dataframe thead th {\n",
       "        text-align: right;\n",
       "    }\n",
       "</style>\n",
       "<table border=\"1\" class=\"dataframe\">\n",
       "  <thead>\n",
       "    <tr style=\"text-align: right;\">\n",
       "      <th></th>\n",
       "      <th>IBM_Close</th>\n",
       "      <th>MSFT_Close</th>\n",
       "      <th>INTC_Close</th>\n",
       "    </tr>\n",
       "    <tr>\n",
       "      <th>Datetime</th>\n",
       "      <th></th>\n",
       "      <th></th>\n",
       "      <th></th>\n",
       "    </tr>\n",
       "  </thead>\n",
       "  <tbody>\n",
       "    <tr>\n",
       "      <th>2022-02-28 09:30:00-05:00</th>\n",
       "      <td>122.379997</td>\n",
       "      <td>296.075012</td>\n",
       "      <td>47.340000</td>\n",
       "    </tr>\n",
       "    <tr>\n",
       "      <th>2022-02-28 09:31:00-05:00</th>\n",
       "      <td>122.360001</td>\n",
       "      <td>295.760010</td>\n",
       "      <td>47.330002</td>\n",
       "    </tr>\n",
       "    <tr>\n",
       "      <th>2022-02-28 09:32:00-05:00</th>\n",
       "      <td>122.320000</td>\n",
       "      <td>295.726410</td>\n",
       "      <td>47.320000</td>\n",
       "    </tr>\n",
       "    <tr>\n",
       "      <th>2022-02-28 09:33:00-05:00</th>\n",
       "      <td>122.139999</td>\n",
       "      <td>295.459991</td>\n",
       "      <td>47.240002</td>\n",
       "    </tr>\n",
       "    <tr>\n",
       "      <th>2022-02-28 09:34:00-05:00</th>\n",
       "      <td>122.070000</td>\n",
       "      <td>296.269989</td>\n",
       "      <td>47.150002</td>\n",
       "    </tr>\n",
       "  </tbody>\n",
       "</table>\n",
       "</div>"
      ],
      "text/plain": [
       "                            IBM_Close  MSFT_Close  INTC_Close\n",
       "Datetime                                                     \n",
       "2022-02-28 09:30:00-05:00  122.379997  296.075012   47.340000\n",
       "2022-02-28 09:31:00-05:00  122.360001  295.760010   47.330002\n",
       "2022-02-28 09:32:00-05:00  122.320000  295.726410   47.320000\n",
       "2022-02-28 09:33:00-05:00  122.139999  295.459991   47.240002\n",
       "2022-02-28 09:34:00-05:00  122.070000  296.269989   47.150002"
      ]
     },
     "execution_count": 152,
     "metadata": {},
     "output_type": "execute_result"
    }
   ],
   "source": [
    "tech_df = tech_df.set_index(\"Datetime\")\n",
    "tech_df.head(5)"
   ]
  },
  {
   "cell_type": "code",
   "execution_count": 153,
   "id": "a53400d4",
   "metadata": {},
   "outputs": [
    {
     "data": {
      "text/html": [
       "<div>\n",
       "<style scoped>\n",
       "    .dataframe tbody tr th:only-of-type {\n",
       "        vertical-align: middle;\n",
       "    }\n",
       "\n",
       "    .dataframe tbody tr th {\n",
       "        vertical-align: top;\n",
       "    }\n",
       "\n",
       "    .dataframe thead th {\n",
       "        text-align: right;\n",
       "    }\n",
       "</style>\n",
       "<table border=\"1\" class=\"dataframe\">\n",
       "  <thead>\n",
       "    <tr style=\"text-align: right;\">\n",
       "      <th></th>\n",
       "      <th>IBM_Close</th>\n",
       "      <th>MSFT_Close</th>\n",
       "      <th>INTC_Close</th>\n",
       "      <th>tech_value</th>\n",
       "    </tr>\n",
       "    <tr>\n",
       "      <th>Datetime</th>\n",
       "      <th></th>\n",
       "      <th></th>\n",
       "      <th></th>\n",
       "      <th></th>\n",
       "    </tr>\n",
       "  </thead>\n",
       "  <tbody>\n",
       "    <tr>\n",
       "      <th>2022-02-28 09:30:00-05:00</th>\n",
       "      <td>122.379997</td>\n",
       "      <td>296.075012</td>\n",
       "      <td>47.340000</td>\n",
       "      <td>465.795010</td>\n",
       "    </tr>\n",
       "    <tr>\n",
       "      <th>2022-02-28 09:31:00-05:00</th>\n",
       "      <td>122.360001</td>\n",
       "      <td>295.760010</td>\n",
       "      <td>47.330002</td>\n",
       "      <td>465.450012</td>\n",
       "    </tr>\n",
       "  </tbody>\n",
       "</table>\n",
       "</div>"
      ],
      "text/plain": [
       "                            IBM_Close  MSFT_Close  INTC_Close  tech_value\n",
       "Datetime                                                                 \n",
       "2022-02-28 09:30:00-05:00  122.379997  296.075012   47.340000  465.795010\n",
       "2022-02-28 09:31:00-05:00  122.360001  295.760010   47.330002  465.450012"
      ]
     },
     "execution_count": 153,
     "metadata": {},
     "output_type": "execute_result"
    }
   ],
   "source": [
    "tech_df[\"tech_value\"] = tech_df.apply(lambda row: row.IBM_Close + row.MSFT_Close + row.INTC_Close, axis=1)\n",
    "tech_df.head(2)"
   ]
  },
  {
   "cell_type": "code",
   "execution_count": 154,
   "id": "65dbbdf9",
   "metadata": {},
   "outputs": [],
   "source": [
    "lags = [1,2,3]\n",
    "\n",
    "for lag in lags:\n",
    "    tech_df[f\"tech_value_{lag}\"] = tech_df[\"tech_value\"].shift(lag)"
   ]
  },
  {
   "cell_type": "code",
   "execution_count": 155,
   "id": "7ab5f26d",
   "metadata": {},
   "outputs": [],
   "source": [
    "tech_df = tech_df.iloc[3:, :]"
   ]
  },
  {
   "cell_type": "code",
   "execution_count": 156,
   "id": "de965e44",
   "metadata": {},
   "outputs": [],
   "source": [
    "tech_df[\"slope_x1\"] = (tech_df[\"tech_value\"] - tech_df[\"tech_value_1\"]) / tech_df[\"tech_value_1\"]\n",
    "tech_df[\"slope_x2\"] = (tech_df[\"tech_value_1\"] - tech_df[\"tech_value_2\"]) / tech_df[\"tech_value_2\"]\n",
    "tech_df[\"slope_x3\"] = (tech_df[\"tech_value_2\"] - tech_df[\"tech_value_3\"]) / tech_df[\"tech_value_3\"]\n",
    "tech_df[\"tech_value_t+1\"] = tech_df[\"tech_value\"].shift(-1)"
   ]
  },
  {
   "cell_type": "code",
   "execution_count": 157,
   "id": "78b5a381",
   "metadata": {},
   "outputs": [],
   "source": [
    "tech_df = tech_df.iloc[:-1, :]"
   ]
  },
  {
   "cell_type": "code",
   "execution_count": 158,
   "id": "f45b905a",
   "metadata": {},
   "outputs": [],
   "source": [
    "import numpy as np\n",
    "tech_df[\"buy_sell_decision\"] = np.where(tech_df[\"tech_value_t+1\"] > tech_df[\"tech_value\"], 1, 0)"
   ]
  },
  {
   "cell_type": "code",
   "execution_count": 159,
   "id": "12366bc5",
   "metadata": {},
   "outputs": [
    {
     "data": {
      "text/html": [
       "<div>\n",
       "<style scoped>\n",
       "    .dataframe tbody tr th:only-of-type {\n",
       "        vertical-align: middle;\n",
       "    }\n",
       "\n",
       "    .dataframe tbody tr th {\n",
       "        vertical-align: top;\n",
       "    }\n",
       "\n",
       "    .dataframe thead th {\n",
       "        text-align: right;\n",
       "    }\n",
       "</style>\n",
       "<table border=\"1\" class=\"dataframe\">\n",
       "  <thead>\n",
       "    <tr style=\"text-align: right;\">\n",
       "      <th></th>\n",
       "      <th>Datetime</th>\n",
       "      <th>IBM_Close</th>\n",
       "      <th>MSFT_Close</th>\n",
       "      <th>INTC_Close</th>\n",
       "      <th>tech_value</th>\n",
       "      <th>tech_value_1</th>\n",
       "      <th>tech_value_2</th>\n",
       "      <th>tech_value_3</th>\n",
       "      <th>slope_x1</th>\n",
       "      <th>slope_x2</th>\n",
       "      <th>slope_x3</th>\n",
       "      <th>tech_value_t+1</th>\n",
       "      <th>buy_sell_decision</th>\n",
       "    </tr>\n",
       "  </thead>\n",
       "  <tbody>\n",
       "    <tr>\n",
       "      <th>0</th>\n",
       "      <td>2022-02-28 09:33:00-05:00</td>\n",
       "      <td>122.139999</td>\n",
       "      <td>295.459991</td>\n",
       "      <td>47.240002</td>\n",
       "      <td>464.839993</td>\n",
       "      <td>465.366409</td>\n",
       "      <td>465.450012</td>\n",
       "      <td>465.79501</td>\n",
       "      <td>-0.001131</td>\n",
       "      <td>-0.00018</td>\n",
       "      <td>-0.000741</td>\n",
       "      <td>465.48999</td>\n",
       "      <td>1</td>\n",
       "    </tr>\n",
       "  </tbody>\n",
       "</table>\n",
       "</div>"
      ],
      "text/plain": [
       "                   Datetime   IBM_Close  MSFT_Close  INTC_Close  tech_value  \\\n",
       "0 2022-02-28 09:33:00-05:00  122.139999  295.459991   47.240002  464.839993   \n",
       "\n",
       "   tech_value_1  tech_value_2  tech_value_3  slope_x1  slope_x2  slope_x3  \\\n",
       "0    465.366409    465.450012     465.79501 -0.001131  -0.00018 -0.000741   \n",
       "\n",
       "   tech_value_t+1  buy_sell_decision  \n",
       "0       465.48999                  1  "
      ]
     },
     "execution_count": 159,
     "metadata": {},
     "output_type": "execute_result"
    }
   ],
   "source": [
    "tech_df = tech_df.reset_index()\n",
    "tech_df.head(1)"
   ]
  },
  {
   "cell_type": "code",
   "execution_count": 160,
   "id": "1d736a98",
   "metadata": {},
   "outputs": [
    {
     "data": {
      "text/html": [
       "<div>\n",
       "<style scoped>\n",
       "    .dataframe tbody tr th:only-of-type {\n",
       "        vertical-align: middle;\n",
       "    }\n",
       "\n",
       "    .dataframe tbody tr th {\n",
       "        vertical-align: top;\n",
       "    }\n",
       "\n",
       "    .dataframe thead th {\n",
       "        text-align: right;\n",
       "    }\n",
       "</style>\n",
       "<table border=\"1\" class=\"dataframe\">\n",
       "  <thead>\n",
       "    <tr style=\"text-align: right;\">\n",
       "      <th></th>\n",
       "      <th>index</th>\n",
       "      <th>Datetime</th>\n",
       "      <th>IBM_Close</th>\n",
       "      <th>MSFT_Close</th>\n",
       "      <th>INTC_Close</th>\n",
       "      <th>tech_value</th>\n",
       "      <th>tech_value_1</th>\n",
       "      <th>tech_value_2</th>\n",
       "      <th>tech_value_3</th>\n",
       "      <th>slope_x1</th>\n",
       "      <th>slope_x2</th>\n",
       "      <th>slope_x3</th>\n",
       "      <th>tech_value_t+1</th>\n",
       "      <th>buy_sell_decision</th>\n",
       "      <th>date</th>\n",
       "    </tr>\n",
       "  </thead>\n",
       "  <tbody>\n",
       "    <tr>\n",
       "      <th>0</th>\n",
       "      <td>0</td>\n",
       "      <td>2022-02-28 09:33:00-05:00</td>\n",
       "      <td>122.139999</td>\n",
       "      <td>295.459991</td>\n",
       "      <td>47.240002</td>\n",
       "      <td>464.839993</td>\n",
       "      <td>465.366409</td>\n",
       "      <td>465.450012</td>\n",
       "      <td>465.79501</td>\n",
       "      <td>-0.001131</td>\n",
       "      <td>-0.00018</td>\n",
       "      <td>-0.000741</td>\n",
       "      <td>465.48999</td>\n",
       "      <td>1</td>\n",
       "      <td>2022-02-28</td>\n",
       "    </tr>\n",
       "  </tbody>\n",
       "</table>\n",
       "</div>"
      ],
      "text/plain": [
       "   index                  Datetime   IBM_Close  MSFT_Close  INTC_Close  \\\n",
       "0      0 2022-02-28 09:33:00-05:00  122.139999  295.459991   47.240002   \n",
       "\n",
       "   tech_value  tech_value_1  tech_value_2  tech_value_3  slope_x1  slope_x2  \\\n",
       "0  464.839993    465.366409    465.450012     465.79501 -0.001131  -0.00018   \n",
       "\n",
       "   slope_x3  tech_value_t+1  buy_sell_decision        date  \n",
       "0 -0.000741       465.48999                  1  2022-02-28  "
      ]
     },
     "execution_count": 160,
     "metadata": {},
     "output_type": "execute_result"
    }
   ],
   "source": [
    "tech_df = tech_df.reset_index()\n",
    "tech_df[\"date\"] = tech_df[\"Datetime\"].apply(datetime.date)\n",
    "tech_df.head(1)"
   ]
  },
  {
   "cell_type": "code",
   "execution_count": 161,
   "id": "00f25a1e",
   "metadata": {},
   "outputs": [],
   "source": [
    "tech_df = tech_df[[\"slope_x1\", \"slope_x2\", \"slope_x3\", \"buy_sell_decision\"]]"
   ]
  },
  {
   "cell_type": "code",
   "execution_count": 162,
   "id": "4ee27197",
   "metadata": {},
   "outputs": [],
   "source": [
    "tech_df.to_csv(r'clean_tech.csv')"
   ]
  },
  {
   "cell_type": "code",
   "execution_count": 163,
   "id": "61d18287",
   "metadata": {},
   "outputs": [
    {
     "data": {
      "text/html": [
       "<div>\n",
       "<style scoped>\n",
       "    .dataframe tbody tr th:only-of-type {\n",
       "        vertical-align: middle;\n",
       "    }\n",
       "\n",
       "    .dataframe tbody tr th {\n",
       "        vertical-align: top;\n",
       "    }\n",
       "\n",
       "    .dataframe thead th {\n",
       "        text-align: right;\n",
       "    }\n",
       "</style>\n",
       "<table border=\"1\" class=\"dataframe\">\n",
       "  <thead>\n",
       "    <tr style=\"text-align: right;\">\n",
       "      <th></th>\n",
       "      <th>_c0</th>\n",
       "      <th>slope_x1</th>\n",
       "      <th>slope_x2</th>\n",
       "      <th>slope_x3</th>\n",
       "      <th>buy_sell_decision</th>\n",
       "    </tr>\n",
       "  </thead>\n",
       "  <tbody>\n",
       "    <tr>\n",
       "      <th>0</th>\n",
       "      <td>0</td>\n",
       "      <td>-0.001131</td>\n",
       "      <td>-0.000180</td>\n",
       "      <td>-0.000741</td>\n",
       "      <td>1</td>\n",
       "    </tr>\n",
       "    <tr>\n",
       "      <th>1</th>\n",
       "      <td>1</td>\n",
       "      <td>0.001398</td>\n",
       "      <td>-0.001131</td>\n",
       "      <td>-0.000180</td>\n",
       "      <td>0</td>\n",
       "    </tr>\n",
       "    <tr>\n",
       "      <th>2</th>\n",
       "      <td>2</td>\n",
       "      <td>-0.000161</td>\n",
       "      <td>0.001398</td>\n",
       "      <td>-0.001131</td>\n",
       "      <td>1</td>\n",
       "    </tr>\n",
       "    <tr>\n",
       "      <th>3</th>\n",
       "      <td>3</td>\n",
       "      <td>0.001128</td>\n",
       "      <td>-0.000161</td>\n",
       "      <td>0.001398</td>\n",
       "      <td>0</td>\n",
       "    </tr>\n",
       "    <tr>\n",
       "      <th>4</th>\n",
       "      <td>4</td>\n",
       "      <td>-0.001438</td>\n",
       "      <td>0.001128</td>\n",
       "      <td>-0.000161</td>\n",
       "      <td>0</td>\n",
       "    </tr>\n",
       "  </tbody>\n",
       "</table>\n",
       "</div>"
      ],
      "text/plain": [
       "   _c0  slope_x1  slope_x2  slope_x3  buy_sell_decision\n",
       "0    0 -0.001131 -0.000180 -0.000741                  1\n",
       "1    1  0.001398 -0.001131 -0.000180                  0\n",
       "2    2 -0.000161  0.001398 -0.001131                  1\n",
       "3    3  0.001128 -0.000161  0.001398                  0\n",
       "4    4 -0.001438  0.001128 -0.000161                  0"
      ]
     },
     "execution_count": 163,
     "metadata": {},
     "output_type": "execute_result"
    }
   ],
   "source": [
    "tech_clean_df = spark.read.parquet(\"hdfs://localhost:9000/datalake/std/stocks/clean_tech_csv\")\n",
    "tech_clean_df.limit(5).toPandas()"
   ]
  },
  {
   "cell_type": "code",
   "execution_count": 164,
   "id": "9098c695",
   "metadata": {},
   "outputs": [],
   "source": [
    "tech_clean_df = tech_clean_df.withColumn(\"slope_x1\",tech_clean_df.slope_x1.cast('double'))\n",
    "tech_clean_df =tech_clean_df.withColumn(\"slope_x2\",tech_clean_df.slope_x2.cast('double'))\n",
    "tech_clean_df =tech_clean_df.withColumn(\"slope_x3\",tech_clean_df.slope_x3.cast('double'))"
   ]
  },
  {
   "cell_type": "code",
   "execution_count": 165,
   "id": "661a67ed",
   "metadata": {},
   "outputs": [],
   "source": [
    "tech_clean_df = tech_clean_df.drop(\"_c0\")"
   ]
  },
  {
   "cell_type": "code",
   "execution_count": 166,
   "id": "9c96f001",
   "metadata": {},
   "outputs": [],
   "source": [
    "tech_clean_df =tech_clean_df.withColumn(\"buy_sell_decision\",tech_clean_df.buy_sell_decision.cast('int'))"
   ]
  },
  {
   "cell_type": "code",
   "execution_count": 167,
   "id": "167b42d0",
   "metadata": {},
   "outputs": [
    {
     "name": "stdout",
     "output_type": "stream",
     "text": [
      "Feature columns:  ['slope_x1', 'slope_x2', 'slope_x3']\n"
     ]
    }
   ],
   "source": [
    "numericCols = [field for (field, dataType) in tech_clean_df.dtypes if ((dataType == \"double\") & (field != \"buy_sell_decision\"))]\n",
    "\n",
    "assemblerInputs = numericCols\n",
    "print(\"Feature columns: \",assemblerInputs)"
   ]
  },
  {
   "cell_type": "code",
   "execution_count": 168,
   "id": "81c08478",
   "metadata": {},
   "outputs": [],
   "source": [
    "vecAssembler = VectorAssembler(inputCols=assemblerInputs, outputCol=\"features\")\n",
    "\n",
    "test_pipeline = Pipeline(stages = [vecAssembler])\n",
    "\n",
    "features_df = test_pipeline.fit(tech_clean_df).transform(tech_clean_df)"
   ]
  },
  {
   "cell_type": "code",
   "execution_count": 169,
   "id": "cc7bbb52",
   "metadata": {},
   "outputs": [],
   "source": [
    "seed = 42\n",
    "lr6 = LogisticRegression(labelCol=\"buy_sell_decision\", featuresCol=\"features\")\n",
    "dt6 = DecisionTreeClassifier(labelCol=\"buy_sell_decision\", featuresCol=\"features\",seed=seed)\n",
    "rf6 = RandomForestClassifier(labelCol=\"buy_sell_decision\", featuresCol=\"features\",maxDepth=10,seed=seed)\n",
    "gbt6 = GBTClassifier(labelCol=\"buy_sell_decision\", featuresCol=\"features\",maxIter=10,seed=seed)\n",
    "\n",
    "classifiers = [lr6,dt6,rf6,gbt6]"
   ]
  },
  {
   "cell_type": "code",
   "execution_count": 170,
   "id": "57dea4c8",
   "metadata": {},
   "outputs": [],
   "source": [
    "from pyspark.ml import Pipeline\n",
    "\n",
    "def create_pipeline(classifier):\n",
    "    return Pipeline(stages = [vecAssembler, classifier])\n",
    "\n",
    "pipelines = [create_pipeline(classifier) for classifier in classifiers]"
   ]
  },
  {
   "cell_type": "code",
   "execution_count": 171,
   "id": "5e402212",
   "metadata": {},
   "outputs": [],
   "source": [
    "evaluator = MulticlassClassificationEvaluator(labelCol=\"buy_sell_decision\",  metricName=\"accuracy\")"
   ]
  },
  {
   "cell_type": "code",
   "execution_count": 172,
   "id": "2d6d69f4",
   "metadata": {},
   "outputs": [],
   "source": [
    "seed = 42\n",
    "(x_train, x_test) = tech_clean_df.randomSplit([0.8,0.2],seed=seed)"
   ]
  },
  {
   "cell_type": "code",
   "execution_count": 173,
   "id": "d4501c8e",
   "metadata": {},
   "outputs": [
    {
     "data": {
      "text/plain": [
       "[PipelineModel_142db0e1dbbd,\n",
       " PipelineModel_a43bfabceee5,\n",
       " PipelineModel_03ef0ead8ec5,\n",
       " PipelineModel_e31d5b147eaf]"
      ]
     },
     "execution_count": 173,
     "metadata": {},
     "output_type": "execute_result"
    }
   ],
   "source": [
    "models = [pipeline.fit(x_train) for pipeline in pipelines]\n",
    "models"
   ]
  },
  {
   "cell_type": "code",
   "execution_count": 174,
   "id": "ef9c6873",
   "metadata": {},
   "outputs": [
    {
     "data": {
      "text/html": [
       "<div>\n",
       "<style scoped>\n",
       "    .dataframe tbody tr th:only-of-type {\n",
       "        vertical-align: middle;\n",
       "    }\n",
       "\n",
       "    .dataframe tbody tr th {\n",
       "        vertical-align: top;\n",
       "    }\n",
       "\n",
       "    .dataframe thead th {\n",
       "        text-align: right;\n",
       "    }\n",
       "</style>\n",
       "<table border=\"1\" class=\"dataframe\">\n",
       "  <thead>\n",
       "    <tr style=\"text-align: right;\">\n",
       "      <th></th>\n",
       "      <th>name</th>\n",
       "      <th>accuracy</th>\n",
       "      <th>model</th>\n",
       "    </tr>\n",
       "  </thead>\n",
       "  <tbody>\n",
       "    <tr>\n",
       "      <th>2</th>\n",
       "      <td>RandomForestClassificationModel</td>\n",
       "      <td>0.517073</td>\n",
       "      <td>PipelineModel_03ef0ead8ec5</td>\n",
       "    </tr>\n",
       "    <tr>\n",
       "      <th>3</th>\n",
       "      <td>GBTClassificationModel</td>\n",
       "      <td>0.507317</td>\n",
       "      <td>PipelineModel_e31d5b147eaf</td>\n",
       "    </tr>\n",
       "    <tr>\n",
       "      <th>0</th>\n",
       "      <td>LogisticRegressionModel</td>\n",
       "      <td>0.458537</td>\n",
       "      <td>PipelineModel_142db0e1dbbd</td>\n",
       "    </tr>\n",
       "    <tr>\n",
       "      <th>1</th>\n",
       "      <td>DecisionTreeClassificationModel</td>\n",
       "      <td>0.439024</td>\n",
       "      <td>PipelineModel_a43bfabceee5</td>\n",
       "    </tr>\n",
       "  </tbody>\n",
       "</table>\n",
       "</div>"
      ],
      "text/plain": [
       "                              name  accuracy                       model\n",
       "2  RandomForestClassificationModel  0.517073  PipelineModel_03ef0ead8ec5\n",
       "3           GBTClassificationModel  0.507317  PipelineModel_e31d5b147eaf\n",
       "0          LogisticRegressionModel  0.458537  PipelineModel_142db0e1dbbd\n",
       "1  DecisionTreeClassificationModel  0.439024  PipelineModel_a43bfabceee5"
      ]
     },
     "execution_count": 174,
     "metadata": {},
     "output_type": "execute_result"
    }
   ],
   "source": [
    "import pandas as pd\n",
    "names = []\n",
    "values = [] \n",
    "\n",
    "for model in models: \n",
    "    prediction_df = model.transform(x_test)\n",
    "    accuracy = evaluator.evaluate(prediction_df)\n",
    "    names.append(type(model.stages[-1]).__name__) # the algorithm is the last stage in the pipeline\n",
    "    values.append(accuracy)\n",
    "\n",
    "data = {'name':names,'accuracy':values,'model':models}\n",
    "df6 = pd.DataFrame(data)\n",
    "df6.sort_values(by=['accuracy'], inplace=True, ascending=False)  \n",
    "df6\n"
   ]
  },
  {
   "cell_type": "code",
   "execution_count": 175,
   "id": "5a6ed4d4",
   "metadata": {},
   "outputs": [],
   "source": [
    "best_model=df6.iloc[0]['model']"
   ]
  },
  {
   "cell_type": "code",
   "execution_count": 176,
   "id": "f26f1624",
   "metadata": {},
   "outputs": [
    {
     "name": "stderr",
     "output_type": "stream",
     "text": [
      "                                                                                \r"
     ]
    },
    {
     "data": {
      "text/html": [
       "<div>\n",
       "<style scoped>\n",
       "    .dataframe tbody tr th:only-of-type {\n",
       "        vertical-align: middle;\n",
       "    }\n",
       "\n",
       "    .dataframe tbody tr th {\n",
       "        vertical-align: top;\n",
       "    }\n",
       "\n",
       "    .dataframe thead th {\n",
       "        text-align: right;\n",
       "    }\n",
       "</style>\n",
       "<table border=\"1\" class=\"dataframe\">\n",
       "  <thead>\n",
       "    <tr style=\"text-align: right;\">\n",
       "      <th></th>\n",
       "      <th>buy_sell_decision</th>\n",
       "      <th>0.0</th>\n",
       "      <th>1.0</th>\n",
       "    </tr>\n",
       "  </thead>\n",
       "  <tbody>\n",
       "    <tr>\n",
       "      <th>0</th>\n",
       "      <td>1</td>\n",
       "      <td>38</td>\n",
       "      <td>51</td>\n",
       "    </tr>\n",
       "    <tr>\n",
       "      <th>1</th>\n",
       "      <td>0</td>\n",
       "      <td>55</td>\n",
       "      <td>61</td>\n",
       "    </tr>\n",
       "  </tbody>\n",
       "</table>\n",
       "</div>"
      ],
      "text/plain": [
       "   buy_sell_decision  0.0  1.0\n",
       "0                  1   38   51\n",
       "1                  0   55   61"
      ]
     },
     "execution_count": 176,
     "metadata": {},
     "output_type": "execute_result"
    }
   ],
   "source": [
    "best_model.transform(x_test).groupby(\"buy_sell_decision\").pivot(\"prediction\").count().toPandas()"
   ]
  },
  {
   "cell_type": "code",
   "execution_count": 177,
   "id": "a72a5a07",
   "metadata": {},
   "outputs": [
    {
     "name": "stderr",
     "output_type": "stream",
     "text": [
      "                                                                                \r"
     ]
    }
   ],
   "source": [
    "modelPath = \"hdfs://localhost:9000/model-registry/tech-stocks-classifier\"\n",
    "best_model.write().overwrite().save(modelPath)"
   ]
  },
  {
   "cell_type": "code",
   "execution_count": 178,
   "id": "60935914",
   "metadata": {},
   "outputs": [],
   "source": [
    "from pyspark.ml import PipelineModel\n",
    "savedModel = PipelineModel.load(modelPath)"
   ]
  },
  {
   "cell_type": "code",
   "execution_count": 179,
   "id": "b7281f4d",
   "metadata": {},
   "outputs": [
    {
     "data": {
      "text/html": [
       "<div>\n",
       "<style scoped>\n",
       "    .dataframe tbody tr th:only-of-type {\n",
       "        vertical-align: middle;\n",
       "    }\n",
       "\n",
       "    .dataframe tbody tr th {\n",
       "        vertical-align: top;\n",
       "    }\n",
       "\n",
       "    .dataframe thead th {\n",
       "        text-align: right;\n",
       "    }\n",
       "</style>\n",
       "<table border=\"1\" class=\"dataframe\">\n",
       "  <thead>\n",
       "    <tr style=\"text-align: right;\">\n",
       "      <th></th>\n",
       "      <th>slope_x1</th>\n",
       "      <th>slope_x2</th>\n",
       "      <th>slope_x3</th>\n",
       "      <th>buy_sell_decision</th>\n",
       "      <th>features</th>\n",
       "      <th>rawPrediction</th>\n",
       "      <th>probability</th>\n",
       "      <th>prediction</th>\n",
       "    </tr>\n",
       "  </thead>\n",
       "  <tbody>\n",
       "    <tr>\n",
       "      <th>0</th>\n",
       "      <td>-0.002366</td>\n",
       "      <td>0.001669</td>\n",
       "      <td>-0.000621</td>\n",
       "      <td>0</td>\n",
       "      <td>[-0.0023663471629630822, 0.0016689413114238123...</td>\n",
       "      <td>[14.079017857142858, 5.920982142857143]</td>\n",
       "      <td>[0.703950892857143, 0.29604910714285715]</td>\n",
       "      <td>0.0</td>\n",
       "    </tr>\n",
       "    <tr>\n",
       "      <th>1</th>\n",
       "      <td>-0.001963</td>\n",
       "      <td>-0.000280</td>\n",
       "      <td>-0.000410</td>\n",
       "      <td>0</td>\n",
       "      <td>[-0.0019627022400983346, -0.000280268675628146...</td>\n",
       "      <td>[5.246145189737825, 14.753854810262176]</td>\n",
       "      <td>[0.26230725948689126, 0.7376927405131088]</td>\n",
       "      <td>1.0</td>\n",
       "    </tr>\n",
       "    <tr>\n",
       "      <th>2</th>\n",
       "      <td>-0.001721</td>\n",
       "      <td>-0.000246</td>\n",
       "      <td>-0.000291</td>\n",
       "      <td>1</td>\n",
       "      <td>[-0.0017211480300518324, -0.000246052110935261...</td>\n",
       "      <td>[9.46198984572326, 10.53801015427674]</td>\n",
       "      <td>[0.473099492286163, 0.526900507713837]</td>\n",
       "      <td>1.0</td>\n",
       "    </tr>\n",
       "    <tr>\n",
       "      <th>3</th>\n",
       "      <td>-0.001569</td>\n",
       "      <td>-0.001016</td>\n",
       "      <td>-0.000432</td>\n",
       "      <td>1</td>\n",
       "      <td>[-0.0015693044191044006, -0.001016356207831703...</td>\n",
       "      <td>[11.105504124254125, 8.894495875745877]</td>\n",
       "      <td>[0.5552752062127062, 0.44472479378729385]</td>\n",
       "      <td>0.0</td>\n",
       "    </tr>\n",
       "    <tr>\n",
       "      <th>4</th>\n",
       "      <td>-0.001472</td>\n",
       "      <td>-0.000615</td>\n",
       "      <td>0.000173</td>\n",
       "      <td>0</td>\n",
       "      <td>[-0.0014719299092907055, -0.000614703231330523...</td>\n",
       "      <td>[7.588445380824494, 12.411554619175506]</td>\n",
       "      <td>[0.37942226904122467, 0.6205777309587753]</td>\n",
       "      <td>1.0</td>\n",
       "    </tr>\n",
       "  </tbody>\n",
       "</table>\n",
       "</div>"
      ],
      "text/plain": [
       "   slope_x1  slope_x2  slope_x3  buy_sell_decision  \\\n",
       "0 -0.002366  0.001669 -0.000621                  0   \n",
       "1 -0.001963 -0.000280 -0.000410                  0   \n",
       "2 -0.001721 -0.000246 -0.000291                  1   \n",
       "3 -0.001569 -0.001016 -0.000432                  1   \n",
       "4 -0.001472 -0.000615  0.000173                  0   \n",
       "\n",
       "                                            features  \\\n",
       "0  [-0.0023663471629630822, 0.0016689413114238123...   \n",
       "1  [-0.0019627022400983346, -0.000280268675628146...   \n",
       "2  [-0.0017211480300518324, -0.000246052110935261...   \n",
       "3  [-0.0015693044191044006, -0.001016356207831703...   \n",
       "4  [-0.0014719299092907055, -0.000614703231330523...   \n",
       "\n",
       "                             rawPrediction  \\\n",
       "0  [14.079017857142858, 5.920982142857143]   \n",
       "1  [5.246145189737825, 14.753854810262176]   \n",
       "2    [9.46198984572326, 10.53801015427674]   \n",
       "3  [11.105504124254125, 8.894495875745877]   \n",
       "4  [7.588445380824494, 12.411554619175506]   \n",
       "\n",
       "                                 probability  prediction  \n",
       "0   [0.703950892857143, 0.29604910714285715]         0.0  \n",
       "1  [0.26230725948689126, 0.7376927405131088]         1.0  \n",
       "2     [0.473099492286163, 0.526900507713837]         1.0  \n",
       "3  [0.5552752062127062, 0.44472479378729385]         0.0  \n",
       "4  [0.37942226904122467, 0.6205777309587753]         1.0  "
      ]
     },
     "execution_count": 179,
     "metadata": {},
     "output_type": "execute_result"
    }
   ],
   "source": [
    "tech_predictions = savedModel.transform(x_test)\n",
    "tech_predictions.select(\"features\", \"buy_sell_decision\", \"prediction\")\n",
    "tech_predictions.limit(5).toPandas()"
   ]
  },
  {
   "cell_type": "code",
   "execution_count": 180,
   "id": "9df63793",
   "metadata": {},
   "outputs": [],
   "source": [
    "tech_predictions.coalesce(1).write.format(\"json\").option(\"delimiter\", \",\").mode(\"overwrite\").save(\"MongoDB/tech_json\")"
   ]
  }
 ],
 "metadata": {
  "kernelspec": {
   "display_name": "Python 3 (ipykernel)",
   "language": "python",
   "name": "python3"
  },
  "language_info": {
   "codemirror_mode": {
    "name": "ipython",
    "version": 3
   },
   "file_extension": ".py",
   "mimetype": "text/x-python",
   "name": "python",
   "nbconvert_exporter": "python",
   "pygments_lexer": "ipython3",
   "version": "3.7.3"
  }
 },
 "nbformat": 4,
 "nbformat_minor": 5
}
