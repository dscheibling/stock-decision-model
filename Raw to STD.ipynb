{
 "cells": [
  {
   "cell_type": "code",
   "execution_count": 2,
   "id": "cff3f757",
   "metadata": {},
   "outputs": [],
   "source": [
    "import findspark\n",
    "findspark.init()"
   ]
  },
  {
   "cell_type": "code",
   "execution_count": 3,
   "id": "5dc50840",
   "metadata": {},
   "outputs": [],
   "source": [
    "import pandas as pd\n",
    "pd.set_option('display.max_colwidth', None)"
   ]
  },
  {
   "cell_type": "code",
   "execution_count": 4,
   "id": "fa80f4b0",
   "metadata": {},
   "outputs": [],
   "source": [
    "import os\n",
    "os.environ['PYSPARK_SUBMIT_ARGS'] = '--jars /opt/hive3/lib/hive-hcatalog-core-3.1.2.jar pyspark-shell'"
   ]
  },
  {
   "cell_type": "code",
   "execution_count": 5,
   "id": "81c6f443",
   "metadata": {},
   "outputs": [
    {
     "name": "stderr",
     "output_type": "stream",
     "text": [
      "WARNING: An illegal reflective access operation has occurred\n",
      "WARNING: Illegal reflective access by org.apache.spark.unsafe.Platform (file:/opt/spark3/jars/spark-unsafe_2.12-3.0.3.jar) to constructor java.nio.DirectByteBuffer(long,int)\n",
      "WARNING: Please consider reporting this to the maintainers of org.apache.spark.unsafe.Platform\n",
      "WARNING: Use --illegal-access=warn to enable warnings of further illegal reflective access operations\n",
      "WARNING: All illegal access operations will be denied in a future release\n",
      "Setting default log level to \"WARN\".\n",
      "To adjust logging level use sc.setLogLevel(newLevel). For SparkR, use setLogLevel(newLevel).\n"
     ]
    }
   ],
   "source": [
    "from pyspark.sql.session import SparkSession\n",
    "\n",
    "spark = SparkSession.builder\\\n",
    ".appName(\"Stocks RAW to STD - DataFrames\")\\\n",
    ".config(\"spark.sql.datalake.dir\",\"hdfs://localhost:9000/datalake\")\\\n",
    ".config(\"spark.sql.legacy.timeParserPolicy\",\"LEGACY\")\\\n",
    ".config(\"spark.sql.sources.partitionOverwriteMode\",\"dynamic\")\\\n",
    ".enableHiveSupport()\\\n",
    ".getOrCreate()"
   ]
  },
  {
   "cell_type": "code",
   "execution_count": 6,
   "id": "010a270c",
   "metadata": {},
   "outputs": [
    {
     "name": "stderr",
     "output_type": "stream",
     "text": [
      "                                                                                \r"
     ]
    },
    {
     "data": {
      "text/html": [
       "<div>\n",
       "<style scoped>\n",
       "    .dataframe tbody tr th:only-of-type {\n",
       "        vertical-align: middle;\n",
       "    }\n",
       "\n",
       "    .dataframe tbody tr th {\n",
       "        vertical-align: top;\n",
       "    }\n",
       "\n",
       "    .dataframe thead th {\n",
       "        text-align: right;\n",
       "    }\n",
       "</style>\n",
       "<table border=\"1\" class=\"dataframe\">\n",
       "  <thead>\n",
       "    <tr style=\"text-align: right;\">\n",
       "      <th></th>\n",
       "      <th>Datetime</th>\n",
       "      <th>EADSY_Close</th>\n",
       "      <th>BA_Close</th>\n",
       "    </tr>\n",
       "  </thead>\n",
       "  <tbody>\n",
       "    <tr>\n",
       "      <th>0</th>\n",
       "      <td>2022-02-28 09:30:00-05:00</td>\n",
       "      <td>31.260000</td>\n",
       "      <td>199.529999</td>\n",
       "    </tr>\n",
       "    <tr>\n",
       "      <th>1</th>\n",
       "      <td>2022-02-28 09:31:00-05:00</td>\n",
       "      <td>31.209999</td>\n",
       "      <td>198.389999</td>\n",
       "    </tr>\n",
       "    <tr>\n",
       "      <th>2</th>\n",
       "      <td>2022-02-28 09:32:00-05:00</td>\n",
       "      <td>31.150700</td>\n",
       "      <td>197.560196</td>\n",
       "    </tr>\n",
       "    <tr>\n",
       "      <th>3</th>\n",
       "      <td>2022-02-28 09:33:00-05:00</td>\n",
       "      <td>31.139999</td>\n",
       "      <td>197.699997</td>\n",
       "    </tr>\n",
       "    <tr>\n",
       "      <th>4</th>\n",
       "      <td>2022-02-28 09:34:00-05:00</td>\n",
       "      <td>NaN</td>\n",
       "      <td>197.639999</td>\n",
       "    </tr>\n",
       "  </tbody>\n",
       "</table>\n",
       "</div>"
      ],
      "text/plain": [
       "                    Datetime  EADSY_Close    BA_Close\n",
       "0  2022-02-28 09:30:00-05:00    31.260000  199.529999\n",
       "1  2022-02-28 09:31:00-05:00    31.209999  198.389999\n",
       "2  2022-02-28 09:32:00-05:00    31.150700  197.560196\n",
       "3  2022-02-28 09:33:00-05:00    31.139999  197.699997\n",
       "4  2022-02-28 09:34:00-05:00          NaN  197.639999"
      ]
     },
     "execution_count": 6,
     "metadata": {},
     "output_type": "execute_result"
    }
   ],
   "source": [
    "airline_stocks_raw = spark.read.option(\"inferSchema\",\"true\")\\\n",
    "                       .option(\"recursiveFileLookup\", \"true\")\\\n",
    "                       .csv(\"hdfs://localhost:9000/datalake/raw/stocks/AIRLINE_STOCKS.csv\", header=True)\n",
    "                       \n",
    "airline_stocks_raw.limit(5).toPandas()"
   ]
  },
  {
   "cell_type": "code",
   "execution_count": 7,
   "id": "a0abb37f",
   "metadata": {},
   "outputs": [
    {
     "name": "stderr",
     "output_type": "stream",
     "text": [
      "                                                                                \r"
     ]
    }
   ],
   "source": [
    "(airline_stocks_raw.coalesce(1)\n",
    "          .write\n",
    "          .mode(\"append\")\n",
    "          .parquet(\"hdfs://localhost:9000/datalake/std/stocks/airline\"))"
   ]
  },
  {
   "cell_type": "code",
   "execution_count": 9,
   "id": "0a43b409",
   "metadata": {},
   "outputs": [
    {
     "data": {
      "text/html": [
       "<div>\n",
       "<style scoped>\n",
       "    .dataframe tbody tr th:only-of-type {\n",
       "        vertical-align: middle;\n",
       "    }\n",
       "\n",
       "    .dataframe tbody tr th {\n",
       "        vertical-align: top;\n",
       "    }\n",
       "\n",
       "    .dataframe thead th {\n",
       "        text-align: right;\n",
       "    }\n",
       "</style>\n",
       "<table border=\"1\" class=\"dataframe\">\n",
       "  <thead>\n",
       "    <tr style=\"text-align: right;\">\n",
       "      <th></th>\n",
       "      <th>Datetime</th>\n",
       "      <th>TSLA_Close</th>\n",
       "      <th>GM_Close</th>\n",
       "      <th>F_Close</th>\n",
       "    </tr>\n",
       "  </thead>\n",
       "  <tbody>\n",
       "    <tr>\n",
       "      <th>0</th>\n",
       "      <td>2022-02-28 09:30:00-05:00</td>\n",
       "      <td>822.260010</td>\n",
       "      <td>46.270000</td>\n",
       "      <td>17.370001</td>\n",
       "    </tr>\n",
       "    <tr>\n",
       "      <th>1</th>\n",
       "      <td>2022-02-28 09:31:00-05:00</td>\n",
       "      <td>818.580017</td>\n",
       "      <td>46.145000</td>\n",
       "      <td>17.430000</td>\n",
       "    </tr>\n",
       "    <tr>\n",
       "      <th>2</th>\n",
       "      <td>2022-02-28 09:32:00-05:00</td>\n",
       "      <td>823.400024</td>\n",
       "      <td>46.080002</td>\n",
       "      <td>17.469900</td>\n",
       "    </tr>\n",
       "    <tr>\n",
       "      <th>3</th>\n",
       "      <td>2022-02-28 09:33:00-05:00</td>\n",
       "      <td>826.729980</td>\n",
       "      <td>46.180000</td>\n",
       "      <td>17.459900</td>\n",
       "    </tr>\n",
       "    <tr>\n",
       "      <th>4</th>\n",
       "      <td>2022-02-28 09:34:00-05:00</td>\n",
       "      <td>829.280029</td>\n",
       "      <td>46.259998</td>\n",
       "      <td>17.469999</td>\n",
       "    </tr>\n",
       "  </tbody>\n",
       "</table>\n",
       "</div>"
      ],
      "text/plain": [
       "                    Datetime  TSLA_Close   GM_Close    F_Close\n",
       "0  2022-02-28 09:30:00-05:00  822.260010  46.270000  17.370001\n",
       "1  2022-02-28 09:31:00-05:00  818.580017  46.145000  17.430000\n",
       "2  2022-02-28 09:32:00-05:00  823.400024  46.080002  17.469900\n",
       "3  2022-02-28 09:33:00-05:00  826.729980  46.180000  17.459900\n",
       "4  2022-02-28 09:34:00-05:00  829.280029  46.259998  17.469999"
      ]
     },
     "execution_count": 9,
     "metadata": {},
     "output_type": "execute_result"
    }
   ],
   "source": [
    "automotive_stocks_raw = spark.read.option(\"inferSchema\",\"true\")\\\n",
    "                       .option(\"recursiveFileLookup\", \"true\")\\\n",
    "                       .csv(\"hdfs://localhost:9000/datalake/raw/stocks/AUTOMOTIVE_STOCKS.csv\", header=True)\n",
    "                       \n",
    "automotive_stocks_raw.limit(5).toPandas()"
   ]
  },
  {
   "cell_type": "code",
   "execution_count": 10,
   "id": "9923787a",
   "metadata": {},
   "outputs": [],
   "source": [
    "(automotive_stocks_raw.coalesce(1)\n",
    "          .write\n",
    "          .mode(\"append\")\n",
    "          .parquet(\"hdfs://localhost:9000/datalake/std/stocks/automotive\"))"
   ]
  },
  {
   "cell_type": "code",
   "execution_count": 11,
   "id": "c17e030a",
   "metadata": {},
   "outputs": [
    {
     "data": {
      "text/html": [
       "<div>\n",
       "<style scoped>\n",
       "    .dataframe tbody tr th:only-of-type {\n",
       "        vertical-align: middle;\n",
       "    }\n",
       "\n",
       "    .dataframe tbody tr th {\n",
       "        vertical-align: top;\n",
       "    }\n",
       "\n",
       "    .dataframe thead th {\n",
       "        text-align: right;\n",
       "    }\n",
       "</style>\n",
       "<table border=\"1\" class=\"dataframe\">\n",
       "  <thead>\n",
       "    <tr style=\"text-align: right;\">\n",
       "      <th></th>\n",
       "      <th>Datetime</th>\n",
       "      <th>XOM_Close</th>\n",
       "      <th>CVX_Close</th>\n",
       "      <th>SHELL_Close</th>\n",
       "    </tr>\n",
       "  </thead>\n",
       "  <tbody>\n",
       "    <tr>\n",
       "      <th>0</th>\n",
       "      <td>2022-02-28 09:30:00-05:00</td>\n",
       "      <td>76.659599</td>\n",
       "      <td>139.550003</td>\n",
       "      <td>52.340000</td>\n",
       "    </tr>\n",
       "    <tr>\n",
       "      <th>1</th>\n",
       "      <td>2022-02-28 09:31:00-05:00</td>\n",
       "      <td>76.610001</td>\n",
       "      <td>139.714996</td>\n",
       "      <td>52.380001</td>\n",
       "    </tr>\n",
       "    <tr>\n",
       "      <th>2</th>\n",
       "      <td>2022-02-28 09:32:00-05:00</td>\n",
       "      <td>76.559998</td>\n",
       "      <td>139.449997</td>\n",
       "      <td>52.289799</td>\n",
       "    </tr>\n",
       "    <tr>\n",
       "      <th>3</th>\n",
       "      <td>2022-02-28 09:33:00-05:00</td>\n",
       "      <td>76.604500</td>\n",
       "      <td>139.589996</td>\n",
       "      <td>52.230000</td>\n",
       "    </tr>\n",
       "    <tr>\n",
       "      <th>4</th>\n",
       "      <td>2022-02-28 09:34:00-05:00</td>\n",
       "      <td>76.389999</td>\n",
       "      <td>139.209900</td>\n",
       "      <td>52.169998</td>\n",
       "    </tr>\n",
       "  </tbody>\n",
       "</table>\n",
       "</div>"
      ],
      "text/plain": [
       "                    Datetime  XOM_Close   CVX_Close  SHELL_Close\n",
       "0  2022-02-28 09:30:00-05:00  76.659599  139.550003    52.340000\n",
       "1  2022-02-28 09:31:00-05:00  76.610001  139.714996    52.380001\n",
       "2  2022-02-28 09:32:00-05:00  76.559998  139.449997    52.289799\n",
       "3  2022-02-28 09:33:00-05:00  76.604500  139.589996    52.230000\n",
       "4  2022-02-28 09:34:00-05:00  76.389999  139.209900    52.169998"
      ]
     },
     "execution_count": 11,
     "metadata": {},
     "output_type": "execute_result"
    }
   ],
   "source": [
    "energy_stocks_raw = spark.read.option(\"inferSchema\",\"true\")\\\n",
    "                       .option(\"recursiveFileLookup\", \"true\")\\\n",
    "                       .csv(\"hdfs://localhost:9000/datalake/raw/stocks/ENERGY_STOCKS.csv\", header=True)\n",
    "                       \n",
    "energy_stocks_raw.limit(5).toPandas()"
   ]
  },
  {
   "cell_type": "code",
   "execution_count": 12,
   "id": "3d162e4e",
   "metadata": {},
   "outputs": [],
   "source": [
    "(energy_stocks_raw.coalesce(1)\n",
    "          .write\n",
    "          .mode(\"append\")\n",
    "          .parquet(\"hdfs://localhost:9000/datalake/std/stocks/energy\"))"
   ]
  },
  {
   "cell_type": "code",
   "execution_count": 14,
   "id": "aacf85aa",
   "metadata": {},
   "outputs": [
    {
     "data": {
      "text/html": [
       "<div>\n",
       "<style scoped>\n",
       "    .dataframe tbody tr th:only-of-type {\n",
       "        vertical-align: middle;\n",
       "    }\n",
       "\n",
       "    .dataframe tbody tr th {\n",
       "        vertical-align: top;\n",
       "    }\n",
       "\n",
       "    .dataframe thead th {\n",
       "        text-align: right;\n",
       "    }\n",
       "</style>\n",
       "<table border=\"1\" class=\"dataframe\">\n",
       "  <thead>\n",
       "    <tr style=\"text-align: right;\">\n",
       "      <th></th>\n",
       "      <th>Datetime</th>\n",
       "      <th>NFLX_Close</th>\n",
       "      <th>DIS_Close</th>\n",
       "      <th>EA_Close</th>\n",
       "    </tr>\n",
       "  </thead>\n",
       "  <tbody>\n",
       "    <tr>\n",
       "      <th>0</th>\n",
       "      <td>2022-02-28 09:30:00-05:00</td>\n",
       "      <td>391.589905</td>\n",
       "      <td>148.429993</td>\n",
       "      <td>128.279999</td>\n",
       "    </tr>\n",
       "    <tr>\n",
       "      <th>1</th>\n",
       "      <td>2022-02-28 09:31:00-05:00</td>\n",
       "      <td>391.600006</td>\n",
       "      <td>148.210007</td>\n",
       "      <td>128.449997</td>\n",
       "    </tr>\n",
       "    <tr>\n",
       "      <th>2</th>\n",
       "      <td>2022-02-28 09:32:00-05:00</td>\n",
       "      <td>391.019989</td>\n",
       "      <td>148.419998</td>\n",
       "      <td>128.690002</td>\n",
       "    </tr>\n",
       "    <tr>\n",
       "      <th>3</th>\n",
       "      <td>2022-02-28 09:33:00-05:00</td>\n",
       "      <td>390.000000</td>\n",
       "      <td>148.490005</td>\n",
       "      <td>129.220001</td>\n",
       "    </tr>\n",
       "    <tr>\n",
       "      <th>4</th>\n",
       "      <td>2022-02-28 09:34:00-05:00</td>\n",
       "      <td>389.975006</td>\n",
       "      <td>148.479996</td>\n",
       "      <td>129.249893</td>\n",
       "    </tr>\n",
       "  </tbody>\n",
       "</table>\n",
       "</div>"
      ],
      "text/plain": [
       "                    Datetime  NFLX_Close   DIS_Close    EA_Close\n",
       "0  2022-02-28 09:30:00-05:00  391.589905  148.429993  128.279999\n",
       "1  2022-02-28 09:31:00-05:00  391.600006  148.210007  128.449997\n",
       "2  2022-02-28 09:32:00-05:00  391.019989  148.419998  128.690002\n",
       "3  2022-02-28 09:33:00-05:00  390.000000  148.490005  129.220001\n",
       "4  2022-02-28 09:34:00-05:00  389.975006  148.479996  129.249893"
      ]
     },
     "execution_count": 14,
     "metadata": {},
     "output_type": "execute_result"
    }
   ],
   "source": [
    "entertainment_stocks_raw = spark.read.option(\"inferSchema\",\"true\")\\\n",
    "                       .option(\"recursiveFileLookup\", \"true\")\\\n",
    "                       .csv(\"hdfs://localhost:9000/datalake/raw/stocks/ENTERTAINMENT_STOCKS.csv\", header=True)\n",
    "                       \n",
    "entertainment_stocks_raw.limit(5).toPandas()"
   ]
  },
  {
   "cell_type": "code",
   "execution_count": 15,
   "id": "5358cd0c",
   "metadata": {},
   "outputs": [
    {
     "name": "stderr",
     "output_type": "stream",
     "text": [
      "                                                                                \r"
     ]
    }
   ],
   "source": [
    "(entertainment_stocks_raw.coalesce(1)\n",
    "          .write\n",
    "          .mode(\"append\")\n",
    "          .parquet(\"hdfs://localhost:9000/datalake/std/stocks/entertainment\"))"
   ]
  },
  {
   "cell_type": "code",
   "execution_count": 16,
   "id": "871a9755",
   "metadata": {},
   "outputs": [
    {
     "data": {
      "text/html": [
       "<div>\n",
       "<style scoped>\n",
       "    .dataframe tbody tr th:only-of-type {\n",
       "        vertical-align: middle;\n",
       "    }\n",
       "\n",
       "    .dataframe tbody tr th {\n",
       "        vertical-align: top;\n",
       "    }\n",
       "\n",
       "    .dataframe thead th {\n",
       "        text-align: right;\n",
       "    }\n",
       "</style>\n",
       "<table border=\"1\" class=\"dataframe\">\n",
       "  <thead>\n",
       "    <tr style=\"text-align: right;\">\n",
       "      <th></th>\n",
       "      <th>Datetime</th>\n",
       "      <th>GS_Close</th>\n",
       "      <th>JPM_Close</th>\n",
       "      <th>AXP_Close</th>\n",
       "    </tr>\n",
       "  </thead>\n",
       "  <tbody>\n",
       "    <tr>\n",
       "      <th>0</th>\n",
       "      <td>2022-02-28 09:30:00-05:00</td>\n",
       "      <td>341.410004</td>\n",
       "      <td>144.029999</td>\n",
       "      <td>189.759995</td>\n",
       "    </tr>\n",
       "    <tr>\n",
       "      <th>1</th>\n",
       "      <td>2022-02-28 09:31:00-05:00</td>\n",
       "      <td>340.480011</td>\n",
       "      <td>143.940002</td>\n",
       "      <td>189.630005</td>\n",
       "    </tr>\n",
       "    <tr>\n",
       "      <th>2</th>\n",
       "      <td>2022-02-28 09:32:00-05:00</td>\n",
       "      <td>340.880005</td>\n",
       "      <td>143.630005</td>\n",
       "      <td>189.660004</td>\n",
       "    </tr>\n",
       "    <tr>\n",
       "      <th>3</th>\n",
       "      <td>2022-02-28 09:33:00-05:00</td>\n",
       "      <td>340.369995</td>\n",
       "      <td>143.720093</td>\n",
       "      <td>189.229996</td>\n",
       "    </tr>\n",
       "    <tr>\n",
       "      <th>4</th>\n",
       "      <td>2022-02-28 09:34:00-05:00</td>\n",
       "      <td>340.410004</td>\n",
       "      <td>143.824997</td>\n",
       "      <td>190.175003</td>\n",
       "    </tr>\n",
       "  </tbody>\n",
       "</table>\n",
       "</div>"
      ],
      "text/plain": [
       "                    Datetime    GS_Close   JPM_Close   AXP_Close\n",
       "0  2022-02-28 09:30:00-05:00  341.410004  144.029999  189.759995\n",
       "1  2022-02-28 09:31:00-05:00  340.480011  143.940002  189.630005\n",
       "2  2022-02-28 09:32:00-05:00  340.880005  143.630005  189.660004\n",
       "3  2022-02-28 09:33:00-05:00  340.369995  143.720093  189.229996\n",
       "4  2022-02-28 09:34:00-05:00  340.410004  143.824997  190.175003"
      ]
     },
     "execution_count": 16,
     "metadata": {},
     "output_type": "execute_result"
    }
   ],
   "source": [
    "finance_stocks_raw = spark.read.option(\"inferSchema\",\"true\")\\\n",
    "                       .option(\"recursiveFileLookup\", \"true\")\\\n",
    "                       .csv(\"hdfs://localhost:9000/datalake/raw/stocks/FINANCE_STOCKS.csv\", header=True)\n",
    "                       \n",
    "finance_stocks_raw.limit(5).toPandas()"
   ]
  },
  {
   "cell_type": "code",
   "execution_count": 17,
   "id": "ea4af522",
   "metadata": {},
   "outputs": [],
   "source": [
    "(finance_stocks_raw.coalesce(1)\n",
    "          .write\n",
    "          .mode(\"append\")\n",
    "          .parquet(\"hdfs://localhost:9000/datalake/std/stocks/finance\"))"
   ]
  },
  {
   "cell_type": "code",
   "execution_count": 26,
   "id": "2e840e53",
   "metadata": {},
   "outputs": [
    {
     "data": {
      "text/html": [
       "<div>\n",
       "<style scoped>\n",
       "    .dataframe tbody tr th:only-of-type {\n",
       "        vertical-align: middle;\n",
       "    }\n",
       "\n",
       "    .dataframe tbody tr th {\n",
       "        vertical-align: top;\n",
       "    }\n",
       "\n",
       "    .dataframe thead th {\n",
       "        text-align: right;\n",
       "    }\n",
       "</style>\n",
       "<table border=\"1\" class=\"dataframe\">\n",
       "  <thead>\n",
       "    <tr style=\"text-align: right;\">\n",
       "      <th></th>\n",
       "      <th>Datetime</th>\n",
       "      <th>IBM_Close</th>\n",
       "      <th>MSFT_Close</th>\n",
       "      <th>INTC_Close</th>\n",
       "    </tr>\n",
       "  </thead>\n",
       "  <tbody>\n",
       "    <tr>\n",
       "      <th>0</th>\n",
       "      <td>2022-02-28 09:30:00-05:00</td>\n",
       "      <td>122.379997</td>\n",
       "      <td>296.075012</td>\n",
       "      <td>47.340000</td>\n",
       "    </tr>\n",
       "    <tr>\n",
       "      <th>1</th>\n",
       "      <td>2022-02-28 09:31:00-05:00</td>\n",
       "      <td>122.360001</td>\n",
       "      <td>295.760010</td>\n",
       "      <td>47.330002</td>\n",
       "    </tr>\n",
       "    <tr>\n",
       "      <th>2</th>\n",
       "      <td>2022-02-28 09:32:00-05:00</td>\n",
       "      <td>122.320000</td>\n",
       "      <td>295.726410</td>\n",
       "      <td>47.320000</td>\n",
       "    </tr>\n",
       "    <tr>\n",
       "      <th>3</th>\n",
       "      <td>2022-02-28 09:33:00-05:00</td>\n",
       "      <td>122.139999</td>\n",
       "      <td>295.459991</td>\n",
       "      <td>47.240002</td>\n",
       "    </tr>\n",
       "    <tr>\n",
       "      <th>4</th>\n",
       "      <td>2022-02-28 09:34:00-05:00</td>\n",
       "      <td>122.070000</td>\n",
       "      <td>296.269989</td>\n",
       "      <td>47.150002</td>\n",
       "    </tr>\n",
       "  </tbody>\n",
       "</table>\n",
       "</div>"
      ],
      "text/plain": [
       "                    Datetime   IBM_Close  MSFT_Close  INTC_Close\n",
       "0  2022-02-28 09:30:00-05:00  122.379997  296.075012   47.340000\n",
       "1  2022-02-28 09:31:00-05:00  122.360001  295.760010   47.330002\n",
       "2  2022-02-28 09:32:00-05:00  122.320000  295.726410   47.320000\n",
       "3  2022-02-28 09:33:00-05:00  122.139999  295.459991   47.240002\n",
       "4  2022-02-28 09:34:00-05:00  122.070000  296.269989   47.150002"
      ]
     },
     "execution_count": 26,
     "metadata": {},
     "output_type": "execute_result"
    }
   ],
   "source": [
    "tech_stocks_raw = spark.read.option(\"inferSchema\",\"true\")\\\n",
    "                       .option(\"recursiveFileLookup\", \"true\")\\\n",
    "                       .csv(\"hdfs://localhost:9000/datalake/raw/stocks/TECHNOLOGY_STOCKS.csv\", header=True)\n",
    "                       \n",
    "tech_stocks_raw.limit(5).toPandas()"
   ]
  },
  {
   "cell_type": "code",
   "execution_count": 27,
   "id": "5502512e",
   "metadata": {},
   "outputs": [],
   "source": [
    "(tech_stocks_raw.coalesce(1)\n",
    "          .write\n",
    "          .mode(\"append\")\n",
    "          .parquet(\"hdfs://localhost:9000/datalake/std/stocks/tech\"))"
   ]
  },
  {
   "cell_type": "code",
   "execution_count": null,
   "id": "30bd9e13",
   "metadata": {},
   "outputs": [],
   "source": []
  }
 ],
 "metadata": {
  "kernelspec": {
   "display_name": "Python 3 (ipykernel)",
   "language": "python",
   "name": "python3"
  },
  "language_info": {
   "codemirror_mode": {
    "name": "ipython",
    "version": 3
   },
   "file_extension": ".py",
   "mimetype": "text/x-python",
   "name": "python",
   "nbconvert_exporter": "python",
   "pygments_lexer": "ipython3",
   "version": "3.7.3"
  }
 },
 "nbformat": 4,
 "nbformat_minor": 5
}
