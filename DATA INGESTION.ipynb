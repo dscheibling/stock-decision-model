{
 "cells": [
  {
   "cell_type": "code",
   "execution_count": 1,
   "id": "e6cd9e59",
   "metadata": {},
   "outputs": [],
   "source": [
    "import yfinance as yf\n",
    "import pandas as pd"
   ]
  },
  {
   "cell_type": "code",
   "execution_count": 2,
   "id": "2531d44b",
   "metadata": {},
   "outputs": [],
   "source": [
    "import datetime as datetime"
   ]
  },
  {
   "cell_type": "code",
   "execution_count": 8,
   "id": "55e7883e",
   "metadata": {},
   "outputs": [],
   "source": [
    "#AIRLINE INDUSTRY EN DUDA\n",
    "\n",
    "EADSY = yf.download(\"EADSY\", start='2022-02-28', end='2022-03-03', interval=\"1m\", progress=False)\n",
    "BA= yf.download(\"BA\", start='2022-02-28', end='2022-03-03', interval=\"1m\", progress=False)\n",
    "\n",
    "EADSY_close = EADSY[\"Close\"].rename(\"EADSY_Close\")\n",
    "BA_close = BA[\"Close\"].rename(\"BA_Close\")\n",
    "\n",
    "airline_stocks = pd.concat([EADSY_close, BA_close], axis = 1)\n",
    "airline_stocks.to_csv(r'AIRLINE_STOCKS.csv')"
   ]
  },
  {
   "cell_type": "code",
   "execution_count": 4,
   "id": "b4f1e776",
   "metadata": {},
   "outputs": [],
   "source": [
    "#ENERGY INDUSTRY\n",
    "\n",
    "XOM = yf.download(\"XOM\", start='2022-02-28', end='2022-03-03', interval=\"1m\", progress=False)\n",
    "CVX= yf.download(\"CVX\", start='2022-02-28', end='2022-03-03', interval=\"1m\", progress=False)\n",
    "SHELL= yf.download(\"SHEL\", start='2022-02-28', end='2022-03-03', interval=\"1m\", progress=False)\n",
    "\n",
    "XOM_close = XOM[\"Close\"].rename(\"XOM_Close\")\n",
    "CVX_close = CVX[\"Close\"].rename(\"CVX_Close\")\n",
    "SHELL_close = SHELL[\"Close\"].rename(\"SHELL_Close\")\n",
    "\n",
    "energy_stocks = pd.concat([XOM_close, CVX_close, SHELL_close], axis = 1)\n",
    "energy_stocks.to_csv(r'ENERGY_STOCKS.csv')"
   ]
  },
  {
   "cell_type": "code",
   "execution_count": 84,
   "id": "5a4ef6d8",
   "metadata": {},
   "outputs": [],
   "source": [
    "#AUTOMOTIVE INDUSTRY\n",
    "\n",
    "TSLA = yf.download(\"TSLA\", start='2022-02-28', end='2022-03-03', interval=\"1m\", progress=False)\n",
    "GM= yf.download(\"GM\", start='2022-02-28', end='2022-03-03', interval=\"1m\", progress=False)\n",
    "F= yf.download(\"F\", start='2022-02-28', end='2022-03-03', interval=\"1m\", progress=False)\n",
    "\n",
    "TSLA_close = TSLA[\"Close\"].rename(\"TSLA_Close\")\n",
    "GM_close = GM[\"Close\"].rename(\"GM_Close\")\n",
    "F_close = F[\"Close\"].rename(\"F_Close\")\n",
    "\n",
    "automotive_stocks = pd.concat([TSLA_close, GM_close, F_close], axis = 1)\n",
    "automotive_stocks.to_csv(r'AUTOMOTIVE_STOCKS.csv')"
   ]
  },
  {
   "cell_type": "code",
   "execution_count": 77,
   "id": "fe6ffe8a",
   "metadata": {},
   "outputs": [],
   "source": [
    "#FINANCE INDUSTRY\n",
    "\n",
    "GS = yf.download(\"GS\", start='2022-02-28', end='2022-03-03', interval=\"1m\", progress=False)\n",
    "JPM= yf.download(\"JPM\", start='2022-02-28', end='2022-03-03', interval=\"1m\", progress=False)\n",
    "AXP= yf.download(\"AXP\", start='2022-02-28', end='2022-03-03', interval=\"1m\", progress=False)\n",
    "\n",
    "GS_close = GS[\"Close\"].rename(\"GS_Close\")\n",
    "JPM_close = JPM[\"Close\"].rename(\"JPM_Close\")\n",
    "AXP_close = AXP[\"Close\"].rename(\"AXP_Close\")\n",
    "\n",
    "finance_stocks = pd.concat([GS_close, JPM_close, AXP_close], axis = 1)\n",
    "finance_stocks.to_csv(r'FINANCE_STOCKS.csv')"
   ]
  },
  {
   "cell_type": "code",
   "execution_count": 78,
   "id": "463f6e82",
   "metadata": {},
   "outputs": [],
   "source": [
    "#ENTERTAINMENT INDUSTRY\n",
    "\n",
    "NFLX = yf.download(\"NFLX\", start='2022-02-28', end='2022-03-03', interval=\"1m\", progress=False)\n",
    "DIS= yf.download(\"DIS\", start='2022-02-28', end='2022-03-03', interval=\"1m\", progress=False)\n",
    "EA= yf.download(\"EA\", start='2022-02-28', end='2022-03-03', interval=\"1m\", progress=False)\n",
    "\n",
    "NFLX_close = NFLX[\"Close\"].rename(\"NFLX_Close\")\n",
    "DIS_close = DIS[\"Close\"].rename(\"DIS_Close\")\n",
    "EA_close = EA[\"Close\"].rename(\"EA_Close\")\n",
    "\n",
    "entertainment_stocks = pd.concat([NFLX_close, DIS_close, EA_close], axis = 1)\n",
    "entertainment_stocks.to_csv(r'ENTERTAINMENT_STOCKS.csv')"
   ]
  },
  {
   "cell_type": "code",
   "execution_count": 76,
   "id": "d69b4598",
   "metadata": {},
   "outputs": [],
   "source": [
    "#TECHNOLOGY INDUSTRY\n",
    "\n",
    "IBM = yf.download(\"IBM\", start='2022-02-28', end='2022-03-03', interval=\"1m\", progress=False)\n",
    "MSFT= yf.download(\"MSFT\", start='2022-02-28', end='2022-03-03', interval=\"1m\", progress=False)\n",
    "INTC= yf.download(\"INTC\", start='2022-02-28', end='2022-03-03', interval=\"1m\", progress=False)\n",
    "\n",
    "IBM_close = IBM[\"Close\"].rename(\"IBM_Close\")\n",
    "MSFT_close = MSFT[\"Close\"].rename(\"MSFT_Close\")\n",
    "INTC_close = INTC[\"Close\"].rename(\"INTC_Close\")\n",
    "\n",
    "technology_stocks = pd.concat([IBM_close, MSFT_close, INTC_close], axis = 1)\n",
    "technology_stocks.to_csv(r'TECHNOLOGY_STOCKS.csv')"
   ]
  }
 ],
 "metadata": {
  "kernelspec": {
   "display_name": "Python 3 (ipykernel)",
   "language": "python",
   "name": "python3"
  },
  "language_info": {
   "codemirror_mode": {
    "name": "ipython",
    "version": 3
   },
   "file_extension": ".py",
   "mimetype": "text/x-python",
   "name": "python",
   "nbconvert_exporter": "python",
   "pygments_lexer": "ipython3",
   "version": "3.7.3"
  }
 },
 "nbformat": 4,
 "nbformat_minor": 5
}
